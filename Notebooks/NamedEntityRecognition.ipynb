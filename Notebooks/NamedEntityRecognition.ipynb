{
 "cells": [
  {
   "cell_type": "markdown",
   "metadata": {},
   "source": [
    "# Named Entity Recognition\n",
    "Based on: Social Media Analytics – Introduction to Text Mining – Named Entity Recognition\n",
    "\n",
    "by (c) Nuno Antonio 2019-2021\n"
   ]
  },
  {
   "cell_type": "markdown",
   "metadata": {},
   "source": [
    "### Initial setup"
   ]
  },
  {
   "cell_type": "code",
   "execution_count": 18,
   "metadata": {},
   "outputs": [],
   "source": [
    "# Import packages\n",
    "import csv\n",
    "import pandas as pd\n",
    "import numpy as np\n",
    "import nltk \n",
    "import re\n",
    "from bs4 import BeautifulSoup\n",
    "import spacy\n",
    "from spacy import displacy\n",
    "from collections import Counter\n",
    "from emot.emo_unicode import UNICODE_EMO, EMOTICONS\n",
    "import emoji"
   ]
  },
  {
   "cell_type": "code",
   "execution_count": 13,
   "metadata": {},
   "outputs": [],
   "source": [
    "# Load dataset\n",
    "base_path = \"Data/\"\n",
    "ds = pd.read_excel(base_path + \"Tweets_cleaned.xlsx\")"
   ]
  },
  {
   "cell_type": "markdown",
   "metadata": {},
   "source": [
    "### Functions"
   ]
  },
  {
   "cell_type": "code",
   "execution_count": 19,
   "metadata": {},
   "outputs": [],
   "source": [
    "# Replace emojis and smileys\n",
    "\n",
    "# Converting emojis to words\n",
    "# Using both emot and emoji package to cover missing emojis\n",
    "def convert_emojis(text):\n",
    "    # from https://towardsdatascience.com/text-preprocessing-for-data-scientist-3d2419c8199d\n",
    "    for emot in UNICODE_EMO:\n",
    "        text = text.replace(emot, \"_\".join(UNICODE_EMO[emot].replace(\",\",\"\").replace(\":\",\"\").split()))\n",
    "\n",
    "    emoji.demojize(text, delimiters=(\"\", \"\")) \n",
    "    return text\n",
    "# Converting emoticons to words   \n",
    "# from https://towardsdatascience.com/text-preprocessing-for-data-scientist-3d2419c8199d \n",
    "def convert_emoticons(text):\n",
    "    for emot in EMOTICONS:\n",
    "        text = re.sub(u'('+emot+')', \"_\".join(EMOTICONS[emot].replace(\",\",\"\").split()), text)\n",
    "    return text\n",
    "\n",
    "def remove_emoji(text):\n",
    "    for emot in UNICODE_EMO:\n",
    "        text = text.replace(emot, \"\")\n",
    "    return text\n",
    "\n",
    "def remove_emoticon(text):\n",
    "    for emot in EMOTICONS:\n",
    "        text = re.sub(u'('+emot+')', \"\", text)\n",
    "    return text\n",
    "\n"
   ]
  },
  {
   "cell_type": "code",
   "execution_count": 20,
   "metadata": {},
   "outputs": [],
   "source": [
    "# Text preprocessing\n",
    "def textPreProcess(rawText, removeHTML=True, charsToRemove = r'\\?|\\.|\\!|\\;|\\.|\\\"|\\,|\\(|\\)|\\&|\\:|\\-', removeNumbers=True, removeLineBreaks=False, specialCharsToRemove = r'[^\\x00-\\xfd]', convertToLower=True, removeConsecutiveSpaces=True, convert_emojis=False, remove_emojis = False):\n",
    "    cleanedText = []\n",
    "    for x in (rawText[:]): \n",
    "        \n",
    "        # Remove HTML\n",
    "        if removeHTML:\n",
    "            procText = BeautifulSoup(x,'html.parser').get_text()\n",
    "\n",
    "        if convert_emojis:\n",
    "            procText = convert_emojis(procText)\n",
    "            procText = convert_emoticons(procText)\n",
    "        \n",
    "        if remove_emojis:\n",
    "            procText = remove_emoji(procText)\n",
    "            procText = remove_emoticon(procText)\n",
    "\n",
    "         # Remove punctuation and other special characters\n",
    "        if len(charsToRemove)>0:\n",
    "            procText = re.sub(charsToRemove,' ',procText)\n",
    "\n",
    "        # Remove numbers\n",
    "        if removeNumbers:\n",
    "            procText = re.sub(r'\\d+',' ',procText)\n",
    "\n",
    "        # Remove line breaks\n",
    "        if removeLineBreaks:\n",
    "            procText = procText.replace('\\n',' ').replace('\\r', '')\n",
    "\n",
    "        # Remove special characters\n",
    "        if len(specialCharsToRemove)>0:\n",
    "            procText = re.sub(specialCharsToRemove,' ',procText)\n",
    "\n",
    "        # Normalize to lower case\n",
    "        if convertToLower:\n",
    "            procText = procText.lower() \n",
    "\n",
    "        # Replace multiple consecutive spaces with just one space\n",
    "        if removeConsecutiveSpaces:\n",
    "            procText = re.sub(' +', ' ', procText)\n",
    "\n",
    "        # If there is a text, add it to the clean text         \n",
    "        cleanedText.append(procText)\n",
    "\n",
    "\n",
    "    return cleanedText"
   ]
  },
  {
   "cell_type": "markdown",
   "metadata": {},
   "source": [
    "### Analysis"
   ]
  },
  {
   "cell_type": "code",
   "execution_count": 21,
   "metadata": {},
   "outputs": [],
   "source": [
    "# Create a dataframe with only the description\n",
    "ppText = textPreProcess(ds.text, charsToRemove='', removeLineBreaks=True, removeNumbers=False, convertToLower=False, remove_emojis=True)\n",
    "processedTweets =  pd.DataFrame(data=ppText, index=ds.index, columns=['PreProcessedText']) "
   ]
  },
  {
   "cell_type": "code",
   "execution_count": 22,
   "metadata": {},
   "outputs": [
    {
     "output_type": "stream",
     "name": "stdout",
     "text": [
      "\u001b[38;5;2m✔ Download and installation successful\u001b[0m\nYou can now load the package via spacy.load('en_core_web_sm')\n"
     ]
    }
   ],
   "source": [
    "spacy.cli.download(\"en_core_web_sm\")"
   ]
  },
  {
   "cell_type": "code",
   "execution_count": 23,
   "metadata": {},
   "outputs": [],
   "source": [
    "# Load Spacy English model\n",
    "nlp = spacy.load(\"en_core_web_sm\")"
   ]
  },
  {
   "cell_type": "code",
   "execution_count": 24,
   "metadata": {},
   "outputs": [
    {
     "output_type": "stream",
     "name": "stdout",
     "text": [
      "Doesn't vaccine approval typically take 6 and months? Just asking as I'm not too familiar with their process.\n[('6 and months', 'DATE')]\n"
     ]
    }
   ],
   "source": [
    "# Check entities in review\n",
    "print(processedTweets['PreProcessedText'][0])\n",
    "doc = nlp(processedTweets['PreProcessedText'][0])\n",
    "print([(X.text, X.label_) for X in doc.ents])"
   ]
  },
  {
   "cell_type": "code",
   "execution_count": 25,
   "metadata": {},
   "outputs": [
    {
     "output_type": "execute_result",
     "data": {
      "text/plain": [
       "Counter({'DATE': 1})"
      ]
     },
     "metadata": {},
     "execution_count": 25
    }
   ],
   "source": [
    "# Count the labels\n",
    "labels = [x.label_ for x in doc.ents]\n",
    "Counter(labels)"
   ]
  },
  {
   "cell_type": "code",
   "execution_count": 26,
   "metadata": {},
   "outputs": [
    {
     "output_type": "execute_result",
     "data": {
      "text/plain": [
       "[('6 and months', 1)]"
      ]
     },
     "metadata": {},
     "execution_count": 26
    }
   ],
   "source": [
    "# Show top 3 labels\n",
    "top_labels = [x.text for x in doc.ents]\n",
    "Counter(top_labels).most_common(3)"
   ]
  },
  {
   "cell_type": "code",
   "execution_count": 27,
   "metadata": {},
   "outputs": [
    {
     "output_type": "display_data",
     "data": {
      "text/plain": "<IPython.core.display.HTML object>",
      "text/html": "<span class=\"tex2jax_ignore\"><div class=\"entities\" style=\"line-height: 2.5; direction: ltr\">Doesn't vaccine approval typically take \n<mark class=\"entity\" style=\"background: #bfe1d9; padding: 0.45em 0.6em; margin: 0 0.25em; line-height: 1; border-radius: 0.35em;\">\n    6 and months\n    <span style=\"font-size: 0.8em; font-weight: bold; line-height: 1; border-radius: 0.35em; vertical-align: middle; margin-left: 0.5rem\">DATE</span>\n</mark>\n? Just asking as I'm not too familiar with their process.</div></span>"
     },
     "metadata": {}
    }
   ],
   "source": [
    "# Entities visualization\n",
    "displacy.render(doc, jupyter=True, style='ent')"
   ]
  },
  {
   "cell_type": "code",
   "execution_count": 28,
   "metadata": {
    "tags": []
   },
   "outputs": [],
   "source": [
    "# For example, if our objective was understand what guests say about the staff language skills we could look for reviews that mention languages\n",
    "persons = []\n",
    "norps = []\n",
    "orgs = []\n",
    "gpes = []\n",
    "for r in processedTweets['PreProcessedText']:\n",
    "    person = []\n",
    "    norp = []\n",
    "    org = []\n",
    "    gpe = []\n",
    "\n",
    "    doc = nlp(r)\n",
    "    for e in doc.ents:\n",
    "        if e.label_=='PERSON':\n",
    "            person.append(e.text)\n",
    "        if e.label_=='NORP':\n",
    "            norp.append(e.text)\n",
    "        if e.label_=='ORG':\n",
    "            org.append(e.text)\n",
    "        if e.label_=='GPE':\n",
    "            gpe.append(e.text)\n",
    "\n",
    "    persons.append(\";\".join(person))\n",
    "    norps.append(\";\".join(norp))\n",
    "    orgs.append(\";\".join(org))\n",
    "    gpes.append(\";\".join(gpe))\n",
    "ds[\"Person\"] = persons\n",
    "ds[\"Norp\"] = norps\n",
    "ds[\"Org\"] = orgs\n",
    "ds[\"Gpe\"] = gpes\n"
   ]
  },
  {
   "cell_type": "code",
   "execution_count": null,
   "metadata": {},
   "outputs": [],
   "source": []
  },
  {
   "cell_type": "code",
   "execution_count": 29,
   "metadata": {},
   "outputs": [
    {
     "output_type": "execute_result",
     "data": {
      "text/plain": [
       "                                                    text user screen name  \\\n",
       "0      Doesn't vaccine approval typically take 6 and ...       spadesgeek   \n",
       "1      You're right, too bad this vaccine doesn't hav...         selirodz   \n",
       "2                                 The vaccine is free…❤️  FlowerGirlBaker   \n",
       "3      .      the world needs COVID19 vaccine access ...    DevizesGreens   \n",
       "4      But you can get it.\\nI remember getting my Mum...    canfixstoopid   \n",
       "...                                                  ...              ...   \n",
       "22529  The country need to check on people who take o...         LSungoun   \n",
       "22530  Why can you not go maskless with out vaccine? ...         bcgov115   \n",
       "22531  You say the immunocomprimised \"should discuss ...       dmdmdtweet   \n",
       "22532  Well, Kate, not everyone is vaccinated and the...  TuffCrusherPlus   \n",
       "22533  I disagree. Look at the NYC and Charlottesvill...      rehtaeh1628   \n",
       "\n",
       "       user followers                                  url  \\\n",
       "0                  19           https://mobile.twitter.com   \n",
       "1                  78  http://twitter.com/download/android   \n",
       "2                1486  http://twitter.com/#!/download/ipad   \n",
       "3                 150           https://mobile.twitter.com   \n",
       "4                 355           https://mobile.twitter.com   \n",
       "...               ...                                  ...   \n",
       "22529              90  http://twitter.com/download/android   \n",
       "22530              38   http://twitter.com/download/iphone   \n",
       "22531               1  http://twitter.com/download/android   \n",
       "22532              83   http://twitter.com/download/iphone   \n",
       "22533             728   http://twitter.com/download/iphone   \n",
       "\n",
       "                      created at  replies  retweets  likes  \\\n",
       "0     2021-06-10 19:24:26.999999        0         0      0   \n",
       "1     2021-06-10 19:24:26.000000        0         0      0   \n",
       "2     2021-06-10 19:23:57.000000        0         0      0   \n",
       "3     2021-06-10 19:23:49.000000        0         0      0   \n",
       "4     2021-06-10 19:23:42.000000        0         0      0   \n",
       "...                          ...      ...       ...    ...   \n",
       "22529 2021-05-16 04:11:06.000000        0         0      0   \n",
       "22530 2021-05-16 04:11:01.000000        0         0      0   \n",
       "22531 2021-05-16 04:08:22.999999        0         0      1   \n",
       "22532 2021-05-16 04:08:03.000000        0         0      0   \n",
       "22533 2021-05-16 04:03:26.000000        0         0      1   \n",
       "\n",
       "                                                 mention  \\\n",
       "0      MatthewDavidH,EricTopol,TheEconomist,US_FDA,la...   \n",
       "1                                      DharkArk,JoeBiden   \n",
       "2                    theredshift11,POTUS,studentsfordemo   \n",
       "3      BorisJohnson,JustinTrudeau,POTUS,EUCouncil,Reg...   \n",
       "4      SerendipityOr,Shockwave_Shaun,Ozymandiyaas,Joe...   \n",
       "...                                                  ...   \n",
       "22529                  POTUS,HillaryClinton,Jaemyung_Lee   \n",
       "22530                                              POTUS   \n",
       "22531                                             CDCgov   \n",
       "22532                     50treeK8,OregonGovBrown,CDCgov   \n",
       "22533  RadioFreeTom,Ned_Newhouse,jeffjarvis,ashishkjh...   \n",
       "\n",
       "                               hashtag  \\\n",
       "0                                  NaN   \n",
       "1                                  NaN   \n",
       "2                                  NaN   \n",
       "3      COVID19,G7,EndThePandemic,COVAX   \n",
       "4                                  NaN   \n",
       "...                                ...   \n",
       "22529                              NaN   \n",
       "22530                              NaN   \n",
       "22531                              NaN   \n",
       "22532                              NaN   \n",
       "22533                              NaN   \n",
       "\n",
       "                                              Person Norp Org              Gpe  \n",
       "0                                                                               \n",
       "1                                                                               \n",
       "2                                                                               \n",
       "3                                                                           G7  \n",
       "4                                              Mumps                            \n",
       "...                                              ...  ...  ..              ...  \n",
       "22529  Joe Biden;Hillary Clinton;Dogisa Jaemyung_Lee                            \n",
       "22530                                                                           \n",
       "22531                                                                           \n",
       "22532                                           Kate                            \n",
       "22533                                                          Charlottesville  \n",
       "\n",
       "[22534 rows x 14 columns]"
      ],
      "text/html": "<div>\n<style scoped>\n    .dataframe tbody tr th:only-of-type {\n        vertical-align: middle;\n    }\n\n    .dataframe tbody tr th {\n        vertical-align: top;\n    }\n\n    .dataframe thead th {\n        text-align: right;\n    }\n</style>\n<table border=\"1\" class=\"dataframe\">\n  <thead>\n    <tr style=\"text-align: right;\">\n      <th></th>\n      <th>text</th>\n      <th>user screen name</th>\n      <th>user followers</th>\n      <th>url</th>\n      <th>created at</th>\n      <th>replies</th>\n      <th>retweets</th>\n      <th>likes</th>\n      <th>mention</th>\n      <th>hashtag</th>\n      <th>Person</th>\n      <th>Norp</th>\n      <th>Org</th>\n      <th>Gpe</th>\n    </tr>\n  </thead>\n  <tbody>\n    <tr>\n      <th>0</th>\n      <td>Doesn't vaccine approval typically take 6 and ...</td>\n      <td>spadesgeek</td>\n      <td>19</td>\n      <td>https://mobile.twitter.com</td>\n      <td>2021-06-10 19:24:26.999999</td>\n      <td>0</td>\n      <td>0</td>\n      <td>0</td>\n      <td>MatthewDavidH,EricTopol,TheEconomist,US_FDA,la...</td>\n      <td>NaN</td>\n      <td></td>\n      <td></td>\n      <td></td>\n      <td></td>\n    </tr>\n    <tr>\n      <th>1</th>\n      <td>You're right, too bad this vaccine doesn't hav...</td>\n      <td>selirodz</td>\n      <td>78</td>\n      <td>http://twitter.com/download/android</td>\n      <td>2021-06-10 19:24:26.000000</td>\n      <td>0</td>\n      <td>0</td>\n      <td>0</td>\n      <td>DharkArk,JoeBiden</td>\n      <td>NaN</td>\n      <td></td>\n      <td></td>\n      <td></td>\n      <td></td>\n    </tr>\n    <tr>\n      <th>2</th>\n      <td>The vaccine is free…❤️</td>\n      <td>FlowerGirlBaker</td>\n      <td>1486</td>\n      <td>http://twitter.com/#!/download/ipad</td>\n      <td>2021-06-10 19:23:57.000000</td>\n      <td>0</td>\n      <td>0</td>\n      <td>0</td>\n      <td>theredshift11,POTUS,studentsfordemo</td>\n      <td>NaN</td>\n      <td></td>\n      <td></td>\n      <td></td>\n      <td></td>\n    </tr>\n    <tr>\n      <th>3</th>\n      <td>.      the world needs COVID19 vaccine access ...</td>\n      <td>DevizesGreens</td>\n      <td>150</td>\n      <td>https://mobile.twitter.com</td>\n      <td>2021-06-10 19:23:49.000000</td>\n      <td>0</td>\n      <td>0</td>\n      <td>0</td>\n      <td>BorisJohnson,JustinTrudeau,POTUS,EUCouncil,Reg...</td>\n      <td>COVID19,G7,EndThePandemic,COVAX</td>\n      <td></td>\n      <td></td>\n      <td></td>\n      <td>G7</td>\n    </tr>\n    <tr>\n      <th>4</th>\n      <td>But you can get it.\\nI remember getting my Mum...</td>\n      <td>canfixstoopid</td>\n      <td>355</td>\n      <td>https://mobile.twitter.com</td>\n      <td>2021-06-10 19:23:42.000000</td>\n      <td>0</td>\n      <td>0</td>\n      <td>0</td>\n      <td>SerendipityOr,Shockwave_Shaun,Ozymandiyaas,Joe...</td>\n      <td>NaN</td>\n      <td>Mumps</td>\n      <td></td>\n      <td></td>\n      <td></td>\n    </tr>\n    <tr>\n      <th>...</th>\n      <td>...</td>\n      <td>...</td>\n      <td>...</td>\n      <td>...</td>\n      <td>...</td>\n      <td>...</td>\n      <td>...</td>\n      <td>...</td>\n      <td>...</td>\n      <td>...</td>\n      <td>...</td>\n      <td>...</td>\n      <td>...</td>\n      <td>...</td>\n    </tr>\n    <tr>\n      <th>22529</th>\n      <td>The country need to check on people who take o...</td>\n      <td>LSungoun</td>\n      <td>90</td>\n      <td>http://twitter.com/download/android</td>\n      <td>2021-05-16 04:11:06.000000</td>\n      <td>0</td>\n      <td>0</td>\n      <td>0</td>\n      <td>POTUS,HillaryClinton,Jaemyung_Lee</td>\n      <td>NaN</td>\n      <td>Joe Biden;Hillary Clinton;Dogisa Jaemyung_Lee</td>\n      <td></td>\n      <td></td>\n      <td></td>\n    </tr>\n    <tr>\n      <th>22530</th>\n      <td>Why can you not go maskless with out vaccine? ...</td>\n      <td>bcgov115</td>\n      <td>38</td>\n      <td>http://twitter.com/download/iphone</td>\n      <td>2021-05-16 04:11:01.000000</td>\n      <td>0</td>\n      <td>0</td>\n      <td>0</td>\n      <td>POTUS</td>\n      <td>NaN</td>\n      <td></td>\n      <td></td>\n      <td></td>\n      <td></td>\n    </tr>\n    <tr>\n      <th>22531</th>\n      <td>You say the immunocomprimised \"should discuss ...</td>\n      <td>dmdmdtweet</td>\n      <td>1</td>\n      <td>http://twitter.com/download/android</td>\n      <td>2021-05-16 04:08:22.999999</td>\n      <td>0</td>\n      <td>0</td>\n      <td>1</td>\n      <td>CDCgov</td>\n      <td>NaN</td>\n      <td></td>\n      <td></td>\n      <td></td>\n      <td></td>\n    </tr>\n    <tr>\n      <th>22532</th>\n      <td>Well, Kate, not everyone is vaccinated and the...</td>\n      <td>TuffCrusherPlus</td>\n      <td>83</td>\n      <td>http://twitter.com/download/iphone</td>\n      <td>2021-05-16 04:08:03.000000</td>\n      <td>0</td>\n      <td>0</td>\n      <td>0</td>\n      <td>50treeK8,OregonGovBrown,CDCgov</td>\n      <td>NaN</td>\n      <td>Kate</td>\n      <td></td>\n      <td></td>\n      <td></td>\n    </tr>\n    <tr>\n      <th>22533</th>\n      <td>I disagree. Look at the NYC and Charlottesvill...</td>\n      <td>rehtaeh1628</td>\n      <td>728</td>\n      <td>http://twitter.com/download/iphone</td>\n      <td>2021-05-16 04:03:26.000000</td>\n      <td>0</td>\n      <td>0</td>\n      <td>1</td>\n      <td>RadioFreeTom,Ned_Newhouse,jeffjarvis,ashishkjh...</td>\n      <td>NaN</td>\n      <td></td>\n      <td></td>\n      <td></td>\n      <td>Charlottesville</td>\n    </tr>\n  </tbody>\n</table>\n<p>22534 rows × 14 columns</p>\n</div>"
     },
     "metadata": {},
     "execution_count": 29
    }
   ],
   "source": [
    "ds"
   ]
  },
  {
   "cell_type": "code",
   "execution_count": 30,
   "metadata": {},
   "outputs": [],
   "source": [
    "ds.to_excel(base_path + \"Tweets_NER.xlsx\", index=False)"
   ]
  },
  {
   "cell_type": "code",
   "execution_count": null,
   "metadata": {},
   "outputs": [],
   "source": []
  }
 ],
 "metadata": {
  "kernelspec": {
   "name": "python374jvsc74a57bd0cbc9b7885ccecc363ff0025696a0c3f7da593d3e68eaace78b68fd615729d33b",
   "display_name": "Python 3.7.4 64-bit ('base': conda)"
  },
  "language_info": {
   "codemirror_mode": {
    "name": "ipython",
    "version": 3
   },
   "file_extension": ".py",
   "mimetype": "text/x-python",
   "name": "python",
   "nbconvert_exporter": "python",
   "pygments_lexer": "ipython3",
   "version": "3.7.4"
  }
 },
 "nbformat": 4,
 "nbformat_minor": 2
}