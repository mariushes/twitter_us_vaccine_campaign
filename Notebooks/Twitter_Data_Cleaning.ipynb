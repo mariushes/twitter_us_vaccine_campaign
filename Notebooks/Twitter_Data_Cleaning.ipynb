{
  "nbformat": 4,
  "nbformat_minor": 0,
  "metadata": {
    "colab": {
      "name": "Twitter_Data_Cleaning.ipynb",
      "provenance": []
    },
    "kernelspec": {
      "name": "python374jvsc74a57bd0cbc9b7885ccecc363ff0025696a0c3f7da593d3e68eaace78b68fd615729d33b",
      "display_name": "Python 3.7.4 64-bit ('base': conda)"
    },
    "language_info": {
      "name": "python",
      "version": "3.7.4"
    }
  },
  "cells": [
    {
      "source": [
        "# General Preprocessing (Data Cleaning)"
      ],
      "cell_type": "markdown",
      "metadata": {}
    },
    {
      "cell_type": "code",
      "metadata": {
        "id": "szFmYDAEwtRa"
      },
      "source": [
        "import pandas as pd\n",
        "import re\n",
        "from emot.emo_unicode import UNICODE_EMO, EMOTICONS\n",
        "import emoji"
      ],
      "execution_count": 31,
      "outputs": []
    },
    {
      "cell_type": "code",
      "metadata": {
        "id": "a70nmfjMw14w"
      },
      "source": [
        "#base_path = \"/content/drive/MyDrive/SMA_Project/\"\n",
        "base_path = \"Data/\"\n",
        "files = [\"Tweets10062021.xlsx\",\"Tweets23052021.xlsx\"]\n",
        "dfs = []\n",
        "\n",
        "for file in files:\n",
        "  df = pd.read_excel(base_path + file)\n",
        "  dfs.append(df)\n",
        "\n",
        "df_tweets = pd.concat(dfs).reset_index(drop=True)"
      ],
      "execution_count": 32,
      "outputs": []
    },
    {
      "cell_type": "code",
      "metadata": {
        "colab": {
          "base_uri": "https://localhost:8080/",
          "height": 419
        },
        "id": "d1stVbaoxyTh",
        "outputId": "c74539de-902c-4c2d-f029-bb767b5c039f"
      },
      "source": [
        "df_tweets"
      ],
      "execution_count": 33,
      "outputs": [
        {
          "output_type": "execute_result",
          "data": {
            "text/plain": [
              "                                                    text user screen name  \\\n",
              "0      @MatthewDavidH @EricTopol @TheEconomist @US_FD...       spadesgeek   \n",
              "1      @DharkArk @JoeBiden You're right, too bad this...         selirodz   \n",
              "2      @irishdean Salam, here is your unroll: 1/ @CDC...  threadreaderapp   \n",
              "3      @theredshift11 @POTUS @studentsfordemo The vac...  FlowerGirlBaker   \n",
              "4      .@BorisJohnson @JustinTrudeau @POTUS @EUCounci...    DevizesGreens   \n",
              "...                                                  ...              ...   \n",
              "22538  @POTUS @HillaryClinton @Jaemyung_Lee \\n\\nThe c...         LSungoun   \n",
              "22539  @POTUS Why can you not go maskless with out va...         bcgov115   \n",
              "22540  @CDCgov You say the immunocomprimised \"should ...       dmdmdtweet   \n",
              "22541  @50treeK8 @OregonGovBrown @CDCgov Well, Kate, ...  TuffCrusherPlus   \n",
              "22542  @RadioFreeTom @Ned_Newhouse @jeffjarvis @ashis...      rehtaeh1628   \n",
              "\n",
              "       user followers                                  url  \\\n",
              "0                  19           https://mobile.twitter.com   \n",
              "1                  78  http://twitter.com/download/android   \n",
              "2              476172          https://threadreaderapp.com   \n",
              "3                1486  http://twitter.com/#!/download/ipad   \n",
              "4                 150           https://mobile.twitter.com   \n",
              "...               ...                                  ...   \n",
              "22538              90  http://twitter.com/download/android   \n",
              "22539              38   http://twitter.com/download/iphone   \n",
              "22540               1  http://twitter.com/download/android   \n",
              "22541              83   http://twitter.com/download/iphone   \n",
              "22542             728   http://twitter.com/download/iphone   \n",
              "\n",
              "                      created at  replies  retweets  likes  \n",
              "0     2021-06-10 19:24:26.999999        0         0      0  \n",
              "1     2021-06-10 19:24:26.000000        0         0      0  \n",
              "2     2021-06-10 19:24:04.999999        0         0      0  \n",
              "3     2021-06-10 19:23:57.000000        0         0      0  \n",
              "4     2021-06-10 19:23:49.000000        0         0      0  \n",
              "...                          ...      ...       ...    ...  \n",
              "22538 2021-05-16 04:11:06.000000        0         0      0  \n",
              "22539 2021-05-16 04:11:01.000000        0         0      0  \n",
              "22540 2021-05-16 04:08:22.999999        0         0      1  \n",
              "22541 2021-05-16 04:08:03.000000        0         0      0  \n",
              "22542 2021-05-16 04:03:26.000000        0         0      1  \n",
              "\n",
              "[22543 rows x 8 columns]"
            ],
            "text/html": "<div>\n<style scoped>\n    .dataframe tbody tr th:only-of-type {\n        vertical-align: middle;\n    }\n\n    .dataframe tbody tr th {\n        vertical-align: top;\n    }\n\n    .dataframe thead th {\n        text-align: right;\n    }\n</style>\n<table border=\"1\" class=\"dataframe\">\n  <thead>\n    <tr style=\"text-align: right;\">\n      <th></th>\n      <th>text</th>\n      <th>user screen name</th>\n      <th>user followers</th>\n      <th>url</th>\n      <th>created at</th>\n      <th>replies</th>\n      <th>retweets</th>\n      <th>likes</th>\n    </tr>\n  </thead>\n  <tbody>\n    <tr>\n      <th>0</th>\n      <td>@MatthewDavidH @EricTopol @TheEconomist @US_FD...</td>\n      <td>spadesgeek</td>\n      <td>19</td>\n      <td>https://mobile.twitter.com</td>\n      <td>2021-06-10 19:24:26.999999</td>\n      <td>0</td>\n      <td>0</td>\n      <td>0</td>\n    </tr>\n    <tr>\n      <th>1</th>\n      <td>@DharkArk @JoeBiden You're right, too bad this...</td>\n      <td>selirodz</td>\n      <td>78</td>\n      <td>http://twitter.com/download/android</td>\n      <td>2021-06-10 19:24:26.000000</td>\n      <td>0</td>\n      <td>0</td>\n      <td>0</td>\n    </tr>\n    <tr>\n      <th>2</th>\n      <td>@irishdean Salam, here is your unroll: 1/ @CDC...</td>\n      <td>threadreaderapp</td>\n      <td>476172</td>\n      <td>https://threadreaderapp.com</td>\n      <td>2021-06-10 19:24:04.999999</td>\n      <td>0</td>\n      <td>0</td>\n      <td>0</td>\n    </tr>\n    <tr>\n      <th>3</th>\n      <td>@theredshift11 @POTUS @studentsfordemo The vac...</td>\n      <td>FlowerGirlBaker</td>\n      <td>1486</td>\n      <td>http://twitter.com/#!/download/ipad</td>\n      <td>2021-06-10 19:23:57.000000</td>\n      <td>0</td>\n      <td>0</td>\n      <td>0</td>\n    </tr>\n    <tr>\n      <th>4</th>\n      <td>.@BorisJohnson @JustinTrudeau @POTUS @EUCounci...</td>\n      <td>DevizesGreens</td>\n      <td>150</td>\n      <td>https://mobile.twitter.com</td>\n      <td>2021-06-10 19:23:49.000000</td>\n      <td>0</td>\n      <td>0</td>\n      <td>0</td>\n    </tr>\n    <tr>\n      <th>...</th>\n      <td>...</td>\n      <td>...</td>\n      <td>...</td>\n      <td>...</td>\n      <td>...</td>\n      <td>...</td>\n      <td>...</td>\n      <td>...</td>\n    </tr>\n    <tr>\n      <th>22538</th>\n      <td>@POTUS @HillaryClinton @Jaemyung_Lee \\n\\nThe c...</td>\n      <td>LSungoun</td>\n      <td>90</td>\n      <td>http://twitter.com/download/android</td>\n      <td>2021-05-16 04:11:06.000000</td>\n      <td>0</td>\n      <td>0</td>\n      <td>0</td>\n    </tr>\n    <tr>\n      <th>22539</th>\n      <td>@POTUS Why can you not go maskless with out va...</td>\n      <td>bcgov115</td>\n      <td>38</td>\n      <td>http://twitter.com/download/iphone</td>\n      <td>2021-05-16 04:11:01.000000</td>\n      <td>0</td>\n      <td>0</td>\n      <td>0</td>\n    </tr>\n    <tr>\n      <th>22540</th>\n      <td>@CDCgov You say the immunocomprimised \"should ...</td>\n      <td>dmdmdtweet</td>\n      <td>1</td>\n      <td>http://twitter.com/download/android</td>\n      <td>2021-05-16 04:08:22.999999</td>\n      <td>0</td>\n      <td>0</td>\n      <td>1</td>\n    </tr>\n    <tr>\n      <th>22541</th>\n      <td>@50treeK8 @OregonGovBrown @CDCgov Well, Kate, ...</td>\n      <td>TuffCrusherPlus</td>\n      <td>83</td>\n      <td>http://twitter.com/download/iphone</td>\n      <td>2021-05-16 04:08:03.000000</td>\n      <td>0</td>\n      <td>0</td>\n      <td>0</td>\n    </tr>\n    <tr>\n      <th>22542</th>\n      <td>@RadioFreeTom @Ned_Newhouse @jeffjarvis @ashis...</td>\n      <td>rehtaeh1628</td>\n      <td>728</td>\n      <td>http://twitter.com/download/iphone</td>\n      <td>2021-05-16 04:03:26.000000</td>\n      <td>0</td>\n      <td>0</td>\n      <td>1</td>\n    </tr>\n  </tbody>\n</table>\n<p>22543 rows × 8 columns</p>\n</div>"
          },
          "metadata": {},
          "execution_count": 33
        }
      ]
    },
    {
      "cell_type": "code",
      "metadata": {
        "id": "luUcBkO32Xvi"
      },
      "source": [
        "# Remove @ mentions and put them to a new column\n",
        "\n",
        "# from https://stackoverflow.com/questions/46633758/extracting-mentions-from-tweets-using-findall-python-giving-incorrect-results\n",
        "reg_ex = r'(?<![@\\w])@(\\w{1,25})'\n",
        "\n",
        "df_tweets['mention'] = df_tweets.text.str.findall(reg_ex).apply(','.join)\n",
        "df_tweets['text'] = df_tweets.text.str.replace(reg_ex, \"\")\n",
        "\n",
        "# Extract hashtags\n",
        "reg_ex = r\"#(\\w+)\"\n",
        "df_tweets['hashtag'] = df_tweets.text.str.findall(reg_ex).apply(','.join)\n",
        "df_tweets['text'] = df_tweets.text.str.replace(reg_ex, \"\")\n"
      ],
      "execution_count": 34,
      "outputs": [
        {
          "output_type": "stream",
          "name": "stderr",
          "text": [
            "ipykernel_launcher:7: FutureWarning: The default value of regex will change from True to False in a future version.\n",
            "ipykernel_launcher:12: FutureWarning: The default value of regex will change from True to False in a future version.\n"
          ]
        }
      ]
    },
    {
      "cell_type": "code",
      "execution_count": 35,
      "metadata": {},
      "outputs": [
        {
          "output_type": "stream",
          "name": "stderr",
          "text": [
            "ipykernel_launcher:2: FutureWarning: The default value of regex will change from True to False in a future version.\n"
          ]
        }
      ],
      "source": [
        "# Remove urls\n",
        "df_tweets['text'] = df_tweets.text.str.replace(r'http\\S+', '', flags=re.MULTILINE)"
      ]
    },
    {
      "cell_type": "code",
      "metadata": {
        "id": "PYAlv1JrxzoQ"
      },
      "source": [
        "# Remove whitespaces\n",
        "df_tweets['text'] = df_tweets.text.str.strip()\n",
        "\n",
        "# Replace vax with vaccine\n",
        "df_tweets['text'] = df_tweets.text.str.replace(' vax ', \" vaccine \")\n",
        "\n"
      ],
      "execution_count": 36,
      "outputs": [
        {
          "output_type": "stream",
          "name": "stderr",
          "text": [
            "ipykernel_launcher:5: FutureWarning: The default value of regex will change from True to False in a future version.\n"
          ]
        }
      ]
    },
    {
      "cell_type": "code",
      "metadata": {
        "colab": {
          "base_uri": "https://localhost:8080/",
          "height": 776
        },
        "id": "GPd-cGBG63pN",
        "outputId": "905877bb-7a65-413c-ec2c-e4a5b5a4d854"
      },
      "source": [
        "# Remove tweets by threadreaderapp\n",
        "# Threadreaderapp (https://twitter.com/threadreaderapp) is a bot to make a thread more readable \n",
        "df_tweets = df_tweets[df_tweets[\"user screen name\"]!= \"threadreaderapp\"]\n"
      ],
      "execution_count": 37,
      "outputs": []
    },
    {
      "cell_type": "code",
      "execution_count": 38,
      "metadata": {},
      "outputs": [
        {
          "output_type": "execute_result",
          "data": {
            "text/plain": [
              "                                                    text user screen name  \\\n",
              "0      Doesn't vaccine approval typically take 6 and ...       spadesgeek   \n",
              "1      You're right, too bad this vaccine doesn't hav...         selirodz   \n",
              "3                                 The vaccine is free…❤️  FlowerGirlBaker   \n",
              "4      .      the world needs  vaccine access now. Th...    DevizesGreens   \n",
              "5      But you can get it.\\nI remember getting my Mum...    canfixstoopid   \n",
              "...                                                  ...              ...   \n",
              "22538  The country need to check on people who take o...         LSungoun   \n",
              "22539  Why can you not go maskless with out vaccine? ...         bcgov115   \n",
              "22540  You say the immunocomprimised \"should discuss ...       dmdmdtweet   \n",
              "22541  Well, Kate, not everyone is vaccinated and the...  TuffCrusherPlus   \n",
              "22542  I disagree. Look at the NYC and Charlottesvill...      rehtaeh1628   \n",
              "\n",
              "       user followers                                  url  \\\n",
              "0                  19           https://mobile.twitter.com   \n",
              "1                  78  http://twitter.com/download/android   \n",
              "3                1486  http://twitter.com/#!/download/ipad   \n",
              "4                 150           https://mobile.twitter.com   \n",
              "5                 355           https://mobile.twitter.com   \n",
              "...               ...                                  ...   \n",
              "22538              90  http://twitter.com/download/android   \n",
              "22539              38   http://twitter.com/download/iphone   \n",
              "22540               1  http://twitter.com/download/android   \n",
              "22541              83   http://twitter.com/download/iphone   \n",
              "22542             728   http://twitter.com/download/iphone   \n",
              "\n",
              "                      created at  replies  retweets  likes  \\\n",
              "0     2021-06-10 19:24:26.999999        0         0      0   \n",
              "1     2021-06-10 19:24:26.000000        0         0      0   \n",
              "3     2021-06-10 19:23:57.000000        0         0      0   \n",
              "4     2021-06-10 19:23:49.000000        0         0      0   \n",
              "5     2021-06-10 19:23:42.000000        0         0      0   \n",
              "...                          ...      ...       ...    ...   \n",
              "22538 2021-05-16 04:11:06.000000        0         0      0   \n",
              "22539 2021-05-16 04:11:01.000000        0         0      0   \n",
              "22540 2021-05-16 04:08:22.999999        0         0      1   \n",
              "22541 2021-05-16 04:08:03.000000        0         0      0   \n",
              "22542 2021-05-16 04:03:26.000000        0         0      1   \n",
              "\n",
              "                                                 mention  \\\n",
              "0      MatthewDavidH,EricTopol,TheEconomist,US_FDA,la...   \n",
              "1                                      DharkArk,JoeBiden   \n",
              "3                    theredshift11,POTUS,studentsfordemo   \n",
              "4      BorisJohnson,JustinTrudeau,POTUS,EUCouncil,Reg...   \n",
              "5      SerendipityOr,Shockwave_Shaun,Ozymandiyaas,Joe...   \n",
              "...                                                  ...   \n",
              "22538                  POTUS,HillaryClinton,Jaemyung_Lee   \n",
              "22539                                              POTUS   \n",
              "22540                                             CDCgov   \n",
              "22541                     50treeK8,OregonGovBrown,CDCgov   \n",
              "22542  RadioFreeTom,Ned_Newhouse,jeffjarvis,ashishkjh...   \n",
              "\n",
              "                               hashtag  \n",
              "0                                       \n",
              "1                                       \n",
              "3                                       \n",
              "4      COVID19,G7,EndThePandemic,COVAX  \n",
              "5                                       \n",
              "...                                ...  \n",
              "22538                                   \n",
              "22539                                   \n",
              "22540                                   \n",
              "22541                                   \n",
              "22542                                   \n",
              "\n",
              "[22534 rows x 10 columns]"
            ],
            "text/html": "<div>\n<style scoped>\n    .dataframe tbody tr th:only-of-type {\n        vertical-align: middle;\n    }\n\n    .dataframe tbody tr th {\n        vertical-align: top;\n    }\n\n    .dataframe thead th {\n        text-align: right;\n    }\n</style>\n<table border=\"1\" class=\"dataframe\">\n  <thead>\n    <tr style=\"text-align: right;\">\n      <th></th>\n      <th>text</th>\n      <th>user screen name</th>\n      <th>user followers</th>\n      <th>url</th>\n      <th>created at</th>\n      <th>replies</th>\n      <th>retweets</th>\n      <th>likes</th>\n      <th>mention</th>\n      <th>hashtag</th>\n    </tr>\n  </thead>\n  <tbody>\n    <tr>\n      <th>0</th>\n      <td>Doesn't vaccine approval typically take 6 and ...</td>\n      <td>spadesgeek</td>\n      <td>19</td>\n      <td>https://mobile.twitter.com</td>\n      <td>2021-06-10 19:24:26.999999</td>\n      <td>0</td>\n      <td>0</td>\n      <td>0</td>\n      <td>MatthewDavidH,EricTopol,TheEconomist,US_FDA,la...</td>\n      <td></td>\n    </tr>\n    <tr>\n      <th>1</th>\n      <td>You're right, too bad this vaccine doesn't hav...</td>\n      <td>selirodz</td>\n      <td>78</td>\n      <td>http://twitter.com/download/android</td>\n      <td>2021-06-10 19:24:26.000000</td>\n      <td>0</td>\n      <td>0</td>\n      <td>0</td>\n      <td>DharkArk,JoeBiden</td>\n      <td></td>\n    </tr>\n    <tr>\n      <th>3</th>\n      <td>The vaccine is free…❤️</td>\n      <td>FlowerGirlBaker</td>\n      <td>1486</td>\n      <td>http://twitter.com/#!/download/ipad</td>\n      <td>2021-06-10 19:23:57.000000</td>\n      <td>0</td>\n      <td>0</td>\n      <td>0</td>\n      <td>theredshift11,POTUS,studentsfordemo</td>\n      <td></td>\n    </tr>\n    <tr>\n      <th>4</th>\n      <td>.      the world needs  vaccine access now. Th...</td>\n      <td>DevizesGreens</td>\n      <td>150</td>\n      <td>https://mobile.twitter.com</td>\n      <td>2021-06-10 19:23:49.000000</td>\n      <td>0</td>\n      <td>0</td>\n      <td>0</td>\n      <td>BorisJohnson,JustinTrudeau,POTUS,EUCouncil,Reg...</td>\n      <td>COVID19,G7,EndThePandemic,COVAX</td>\n    </tr>\n    <tr>\n      <th>5</th>\n      <td>But you can get it.\\nI remember getting my Mum...</td>\n      <td>canfixstoopid</td>\n      <td>355</td>\n      <td>https://mobile.twitter.com</td>\n      <td>2021-06-10 19:23:42.000000</td>\n      <td>0</td>\n      <td>0</td>\n      <td>0</td>\n      <td>SerendipityOr,Shockwave_Shaun,Ozymandiyaas,Joe...</td>\n      <td></td>\n    </tr>\n    <tr>\n      <th>...</th>\n      <td>...</td>\n      <td>...</td>\n      <td>...</td>\n      <td>...</td>\n      <td>...</td>\n      <td>...</td>\n      <td>...</td>\n      <td>...</td>\n      <td>...</td>\n      <td>...</td>\n    </tr>\n    <tr>\n      <th>22538</th>\n      <td>The country need to check on people who take o...</td>\n      <td>LSungoun</td>\n      <td>90</td>\n      <td>http://twitter.com/download/android</td>\n      <td>2021-05-16 04:11:06.000000</td>\n      <td>0</td>\n      <td>0</td>\n      <td>0</td>\n      <td>POTUS,HillaryClinton,Jaemyung_Lee</td>\n      <td></td>\n    </tr>\n    <tr>\n      <th>22539</th>\n      <td>Why can you not go maskless with out vaccine? ...</td>\n      <td>bcgov115</td>\n      <td>38</td>\n      <td>http://twitter.com/download/iphone</td>\n      <td>2021-05-16 04:11:01.000000</td>\n      <td>0</td>\n      <td>0</td>\n      <td>0</td>\n      <td>POTUS</td>\n      <td></td>\n    </tr>\n    <tr>\n      <th>22540</th>\n      <td>You say the immunocomprimised \"should discuss ...</td>\n      <td>dmdmdtweet</td>\n      <td>1</td>\n      <td>http://twitter.com/download/android</td>\n      <td>2021-05-16 04:08:22.999999</td>\n      <td>0</td>\n      <td>0</td>\n      <td>1</td>\n      <td>CDCgov</td>\n      <td></td>\n    </tr>\n    <tr>\n      <th>22541</th>\n      <td>Well, Kate, not everyone is vaccinated and the...</td>\n      <td>TuffCrusherPlus</td>\n      <td>83</td>\n      <td>http://twitter.com/download/iphone</td>\n      <td>2021-05-16 04:08:03.000000</td>\n      <td>0</td>\n      <td>0</td>\n      <td>0</td>\n      <td>50treeK8,OregonGovBrown,CDCgov</td>\n      <td></td>\n    </tr>\n    <tr>\n      <th>22542</th>\n      <td>I disagree. Look at the NYC and Charlottesvill...</td>\n      <td>rehtaeh1628</td>\n      <td>728</td>\n      <td>http://twitter.com/download/iphone</td>\n      <td>2021-05-16 04:03:26.000000</td>\n      <td>0</td>\n      <td>0</td>\n      <td>1</td>\n      <td>RadioFreeTom,Ned_Newhouse,jeffjarvis,ashishkjh...</td>\n      <td></td>\n    </tr>\n  </tbody>\n</table>\n<p>22534 rows × 10 columns</p>\n</div>"
          },
          "metadata": {},
          "execution_count": 38
        }
      ],
      "source": [
        "df_tweets"
      ]
    },
    {
      "cell_type": "code",
      "metadata": {
        "id": "0X1tzmqIULIk"
      },
      "source": [
        "df_tweets.to_excel(base_path + \"Tweets_cleaned.xlsx\", index=False)"
      ],
      "execution_count": 39,
      "outputs": []
    },
    {
      "cell_type": "code",
      "execution_count": null,
      "metadata": {},
      "outputs": [],
      "source": []
    },
    {
      "cell_type": "code",
      "execution_count": null,
      "metadata": {},
      "outputs": [],
      "source": []
    },
    {
      "cell_type": "code",
      "execution_count": null,
      "metadata": {},
      "outputs": [],
      "source": []
    }
  ]
}