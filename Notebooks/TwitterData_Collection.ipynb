{
 "cells": [
  {
   "cell_type": "markdown",
   "metadata": {},
   "source": [
    "# Twitter Data Collection\n",
    "\n",
    "Based on:\n",
    "API demo – Twitter\n",
    "by\n",
    "(c) Nuno António 2020 - Rev. 1.00"
   ]
  },
  {
   "cell_type": "markdown",
   "metadata": {},
   "source": [
    "### Load packages and do the initializations"
   ]
  },
  {
   "cell_type": "code",
   "execution_count": 195,
   "metadata": {},
   "outputs": [],
   "source": [
    "# Load libraries\n",
    "import numpy as np\n",
    "import pandas as pd\n",
    "import tweepy"
   ]
  },
  {
   "cell_type": "markdown",
   "metadata": {},
   "source": [
    "### Functions"
   ]
  },
  {
   "cell_type": "markdown",
   "metadata": {},
   "source": [
    "### Search definitions\n",
    "For details on how to build seach queries and filters check:\n",
    "- https://developer.twitter.com/en/docs/twitter-api/v1/rules-and-filtering/build-standard-queries\n",
    "- https://developer.twitter.com/en/docs/twitter-api/v1/rules-and-filtering/search-operators\n",
    "\n"
   ]
  },
  {
   "cell_type": "code",
   "execution_count": 197,
   "metadata": {},
   "outputs": [],
   "source": [
    "# Terms to search\n",
    "searchQuery = '(@joebiden OR @USAGov OR @POTUS OR @HHSvaccines OR @US_FDA OR @CDCgov OR @WhiteHouse) (vaccine OR vaccination OR vax OR moderna OR AstraZenca OR Biontech OR JNJ) -(is:verified)' "
   ]
  },
  {
   "cell_type": "code",
   "execution_count": 198,
   "metadata": {},
   "outputs": [],
   "source": [
    "# First date\n",
    "beginDate = '2021-01-01'"
   ]
  },
  {
   "cell_type": "code",
   "execution_count": 199,
   "metadata": {},
   "outputs": [],
   "source": [
    "# Language\n",
    "lang = 'en'"
   ]
  },
  {
   "cell_type": "code",
   "execution_count": 200,
   "metadata": {},
   "outputs": [],
   "source": [
    "# Apply a filter not to get retweets\n",
    "filter = ' -filter:retweets'"
   ]
  },
  {
   "cell_type": "markdown",
   "metadata": {},
   "source": [
    "### Do the search\n",
    "\n",
    "For aditional information on search parameters see:\n",
    "- **Tweepy**: https://docs.tweepy.org/en/latest/api.html\n",
    "- **Tweeter**: https://developer.twitter.com/en/docs/twitter-api/v1/tweets/search/api-reference/get-search-tweets"
   ]
  },
  {
   "cell_type": "code",
   "execution_count": 201,
   "metadata": {},
   "outputs": [],
   "source": [
    "# Access details - REPLACE BY OUR ACCOUNT\n",
    "api_key = \n",
    "api_key_secret = \n",
    "access_token = \n",
    "access_token_secret =\n",
    "\n",
    "auth = tweepy.OAuthHandler(api_key, api_key_secret)\n",
    "auth.set_access_token(access_token, access_token_secret)"
   ]
  },
  {
   "cell_type": "code",
   "execution_count": 202,
   "metadata": {},
   "outputs": [],
   "source": [
    "# Create the API endpoint with the indication to wait if rate limits are exceeded\n",
    "api = tweepy.API(auth, wait_on_rate_limit=True, timeout=600)"
   ]
  },
  {
   "cell_type": "code",
   "execution_count": 203,
   "metadata": {},
   "outputs": [],
   "source": [
    "# Create an empty list for tweets\n",
    "tws = []"
   ]
  },
  {
   "cell_type": "code",
   "execution_count": null,
   "metadata": {},
   "outputs": [],
   "source": [
    "\n",
    "# Define the maximum number of tweets to retrieve\n",
    "# The actual extraction was performed on Google Colab because the connection would time out eventually on the local machine.\n",
    "max_tweets = 500000\n",
    "\n",
    "# Query text\n",
    "q = searchQuery+' '+filter\n",
    "\n",
    "# Loop for each 100 (due to the limitations)\n",
    "for tweet in tweepy.Cursor(api.search,\n",
    "                            q=q,\n",
    "                            rpp=100,\n",
    "                            lang=lang,\n",
    "                            since=beginDate,\n",
    "                            tweet_mode='extended').items(max_tweets):\n",
    "\n",
    "    # Create a list with each tweet data and metadata\n",
    "    # For information on additional fields check https://developer.twitter.com/en/docs/twitter-api/v1/data-dictionary/object-model/tweet\n",
    "\n",
    "    if 'retweeted_status' in dir(tweet):\n",
    "      tweet_text=tweet.retweeted_status.full_text\n",
    "    else:\n",
    "      tweet_text=tweet.full_text\n",
    "    tw = [tweet_text,\n",
    "          tweet.user.screen_name,\n",
    "          tweet.user.followers_count,\n",
    "          tweet.source_url,\n",
    "          tweet.created_at,\n",
    "          notMandatoryObjects(\"tweet.reply_count\",0),\n",
    "          notMandatoryObjects(\"tweet.retweet_count\",0),\n",
    "          tweet.favorite_count]\n",
    "    if len(tws)%10==0:\n",
    "          print(str(len(tws))+\" Tweets extracted\")\n",
    "    # Transform to tuple and append it to the list of tweets to facilite the posterior transformation to a dataframe\n",
    "    tw = tuple(tw)\n",
    "    tws.append(tw)\n"
   ]
  },
  {
   "cell_type": "code",
   "execution_count": 182,
   "metadata": {},
   "outputs": [
    {
     "output_type": "display_data",
     "data": {
      "text/plain": "                                                  text user screen name  \\\n0    @JoeS619 @US_FDA @CDCgov @DrWoodcockFDA If U h...       noorchashm   \n1    @EmmaHil42019577 @JoeBiden @WhiteHouse The sci...       LeeCeinwen   \n2    @MPoppodum @earthshakerph @BBCNews @POTUS With...           1basp1   \n3    The @US_FDA says it's now OK to store the @pfi...         ghn_news   \n4    @CDCgov Lol 😂😂😂\\nTrust us the vaccine works bu...  ShaneGArchulet2   \n..                                                 ...              ...   \n891  That’s it. The Heil Hitler VAX PASS was the la...        x_rhodium   \n892  @JoeBiden How 'bout you write a law to make va...  smallbizowner99   \n893  @NAChristakis @WhiteHouse I’m a little worried...      TheAdamMack   \n894  @Jyn2Leia2Rey @dumb_ars_people @AndyRichter @J...     JimMaruschak   \n895  Sick &amp; tired of being called irresponsible...    SSage69007180   \n\n     user followers                                  url          created at  \\\n0              6389           https://mobile.twitter.com 2021-05-23 14:30:42   \n1               190   http://twitter.com/download/iphone 2021-05-23 14:30:41   \n2               305  http://twitter.com/download/android 2021-05-23 14:30:12   \n3             15591              https://www.heyorca.com 2021-05-23 14:30:04   \n4                 6           https://mobile.twitter.com 2021-05-23 14:29:14   \n..              ...                                  ...                 ...   \n891              55           https://mobile.twitter.com 2021-05-22 04:36:11   \n892              11           https://mobile.twitter.com 2021-05-22 04:35:24   \n893              39  http://twitter.com/#!/download/ipad 2021-05-22 04:30:55   \n894              88  http://twitter.com/download/android 2021-05-22 04:24:11   \n895             217           https://mobile.twitter.com 2021-05-22 04:21:13   \n\n     replies  retweets  likes  \n0          0         0      0  \n1          0         0      1  \n2          0         0      0  \n3          0         0      0  \n4          0         0      0  \n..       ...       ...    ...  \n891        0         0      0  \n892        0         0      0  \n893        0         0      0  \n894        0         0      0  \n895        0         0      0  \n\n[896 rows x 8 columns]",
      "text/html": "<div>\n<style scoped>\n    .dataframe tbody tr th:only-of-type {\n        vertical-align: middle;\n    }\n\n    .dataframe tbody tr th {\n        vertical-align: top;\n    }\n\n    .dataframe thead th {\n        text-align: right;\n    }\n</style>\n<table border=\"1\" class=\"dataframe\">\n  <thead>\n    <tr style=\"text-align: right;\">\n      <th></th>\n      <th>text</th>\n      <th>user screen name</th>\n      <th>user followers</th>\n      <th>url</th>\n      <th>created at</th>\n      <th>replies</th>\n      <th>retweets</th>\n      <th>likes</th>\n    </tr>\n  </thead>\n  <tbody>\n    <tr>\n      <th>0</th>\n      <td>@JoeS619 @US_FDA @CDCgov @DrWoodcockFDA If U h...</td>\n      <td>noorchashm</td>\n      <td>6389</td>\n      <td>https://mobile.twitter.com</td>\n      <td>2021-05-23 14:30:42</td>\n      <td>0</td>\n      <td>0</td>\n      <td>0</td>\n    </tr>\n    <tr>\n      <th>1</th>\n      <td>@EmmaHil42019577 @JoeBiden @WhiteHouse The sci...</td>\n      <td>LeeCeinwen</td>\n      <td>190</td>\n      <td>http://twitter.com/download/iphone</td>\n      <td>2021-05-23 14:30:41</td>\n      <td>0</td>\n      <td>0</td>\n      <td>1</td>\n    </tr>\n    <tr>\n      <th>2</th>\n      <td>@MPoppodum @earthshakerph @BBCNews @POTUS With...</td>\n      <td>1basp1</td>\n      <td>305</td>\n      <td>http://twitter.com/download/android</td>\n      <td>2021-05-23 14:30:12</td>\n      <td>0</td>\n      <td>0</td>\n      <td>0</td>\n    </tr>\n    <tr>\n      <th>3</th>\n      <td>The @US_FDA says it's now OK to store the @pfi...</td>\n      <td>ghn_news</td>\n      <td>15591</td>\n      <td>https://www.heyorca.com</td>\n      <td>2021-05-23 14:30:04</td>\n      <td>0</td>\n      <td>0</td>\n      <td>0</td>\n    </tr>\n    <tr>\n      <th>4</th>\n      <td>@CDCgov Lol 😂😂😂\\nTrust us the vaccine works bu...</td>\n      <td>ShaneGArchulet2</td>\n      <td>6</td>\n      <td>https://mobile.twitter.com</td>\n      <td>2021-05-23 14:29:14</td>\n      <td>0</td>\n      <td>0</td>\n      <td>0</td>\n    </tr>\n    <tr>\n      <th>...</th>\n      <td>...</td>\n      <td>...</td>\n      <td>...</td>\n      <td>...</td>\n      <td>...</td>\n      <td>...</td>\n      <td>...</td>\n      <td>...</td>\n    </tr>\n    <tr>\n      <th>891</th>\n      <td>That’s it. The Heil Hitler VAX PASS was the la...</td>\n      <td>x_rhodium</td>\n      <td>55</td>\n      <td>https://mobile.twitter.com</td>\n      <td>2021-05-22 04:36:11</td>\n      <td>0</td>\n      <td>0</td>\n      <td>0</td>\n    </tr>\n    <tr>\n      <th>892</th>\n      <td>@JoeBiden How 'bout you write a law to make va...</td>\n      <td>smallbizowner99</td>\n      <td>11</td>\n      <td>https://mobile.twitter.com</td>\n      <td>2021-05-22 04:35:24</td>\n      <td>0</td>\n      <td>0</td>\n      <td>0</td>\n    </tr>\n    <tr>\n      <th>893</th>\n      <td>@NAChristakis @WhiteHouse I’m a little worried...</td>\n      <td>TheAdamMack</td>\n      <td>39</td>\n      <td>http://twitter.com/#!/download/ipad</td>\n      <td>2021-05-22 04:30:55</td>\n      <td>0</td>\n      <td>0</td>\n      <td>0</td>\n    </tr>\n    <tr>\n      <th>894</th>\n      <td>@Jyn2Leia2Rey @dumb_ars_people @AndyRichter @J...</td>\n      <td>JimMaruschak</td>\n      <td>88</td>\n      <td>http://twitter.com/download/android</td>\n      <td>2021-05-22 04:24:11</td>\n      <td>0</td>\n      <td>0</td>\n      <td>0</td>\n    </tr>\n    <tr>\n      <th>895</th>\n      <td>Sick &amp;amp; tired of being called irresponsible...</td>\n      <td>SSage69007180</td>\n      <td>217</td>\n      <td>https://mobile.twitter.com</td>\n      <td>2021-05-22 04:21:13</td>\n      <td>0</td>\n      <td>0</td>\n      <td>0</td>\n    </tr>\n  </tbody>\n</table>\n<p>896 rows × 8 columns</p>\n</div>"
     },
     "metadata": {}
    }
   ],
   "source": [
    "# Create the dataframe\n",
    "tweetsDF = pd.DataFrame(tws, columns=['text',\n",
    "                                      'user screen name',\n",
    "                                      'user followers',\n",
    "                                      'url',\n",
    "                                      'created at',\n",
    "                                      'replies',\n",
    "                                      'retweets',\n",
    "                                      'likes'\n",
    "                        ])\n",
    "display(tweetsDF)"
   ]
  },
  {
   "cell_type": "markdown",
   "metadata": {},
   "source": [
    "### Save results"
   ]
  },
  {
   "cell_type": "code",
   "execution_count": 183,
   "metadata": {},
   "outputs": [],
   "source": [
    "# Save the extracted tweets to an Excel file\n",
    "tweetsDF.to_excel(\"Tweets.xlsx\", index=False)"
   ]
  },
  {
   "cell_type": "code",
   "execution_count": null,
   "metadata": {},
   "outputs": [],
   "source": []
  }
 ],
 "metadata": {
  "kernelspec": {
   "name": "python3",
   "display_name": "Python 3.7.4 64-bit ('base': conda)"
  },
  "language_info": {
   "codemirror_mode": {
    "name": "ipython",
    "version": 3
   },
   "file_extension": ".py",
   "mimetype": "text/x-python",
   "name": "python",
   "nbconvert_exporter": "python",
   "pygments_lexer": "ipython3",
   "version": "3.7.4"
  },
  "interpreter": {
   "hash": "cbc9b7885ccecc363ff0025696a0c3f7da593d3e68eaace78b68fd615729d33b"
  }
 },
 "nbformat": 4,
 "nbformat_minor": 2
}