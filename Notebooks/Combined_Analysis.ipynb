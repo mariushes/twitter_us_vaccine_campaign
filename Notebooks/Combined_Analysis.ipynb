{
  "nbformat": 4,
  "nbformat_minor": 0,
  "metadata": {
    "colab": {
      "name": "Twitter_Data_Cleaning.ipynb",
      "provenance": []
    },
    "kernelspec": {
      "name": "python3",
      "display_name": "Python 3.7.4 64-bit ('base': conda)"
    },
    "language_info": {
      "name": "python",
      "version": "3.7.4"
    },
    "interpreter": {
      "hash": "cbc9b7885ccecc363ff0025696a0c3f7da593d3e68eaace78b68fd615729d33b"
    }
  },
  "cells": [
    {
      "source": [
        "# Combined Analysis of previous analysis"
      ],
      "cell_type": "markdown",
      "metadata": {}
    },
    {
      "cell_type": "code",
      "metadata": {
        "id": "szFmYDAEwtRa"
      },
      "source": [
        "import pandas as pd\n",
        "import numpy as np\n"
      ],
      "execution_count": 199,
      "outputs": []
    },
    {
      "cell_type": "code",
      "metadata": {
        "id": "a70nmfjMw14w"
      },
      "source": [
        "#base_path = \"/content/drive/MyDrive/SMA_Project/\"\n",
        "base_path = \"Data/\"\n",
        "files = [\"Tweets_Hate.xlsx\",\"Tweets_NER.xlsx\", \"Tweets_Sentiment.xlsx\", \"Tweets_Topics.xlsx\"]\n",
        "dfs = []\n",
        "\n",
        "for i,file in enumerate(files):\n",
        "  df = pd.read_excel(base_path + file)\n",
        "  print(len(df.index))\n",
        "  if i!=0:\n",
        "    df = df.drop(df.columns[list(range(0,10))], axis=1)\n",
        "  display(df)\n",
        "  dfs.append(df)\n",
        "\n"
      ],
      "execution_count": 200,
      "outputs": [
        {
          "output_type": "stream",
          "name": "stdout",
          "text": [
            "22534\n"
          ]
        },
        {
          "output_type": "display_data",
          "data": {
            "text/plain": "                                                    text user screen name  \\\n0      Doesn't vaccine approval typically take 6 and ...       spadesgeek   \n1      You're right, too bad this vaccine doesn't hav...         selirodz   \n2                                 The vaccine is free…❤️  FlowerGirlBaker   \n3      .      the world needs  vaccine access now. Th...    DevizesGreens   \n4      But you can get it.\\nI remember getting my Mum...    canfixstoopid   \n...                                                  ...              ...   \n22529  The country need to check on people who take o...         LSungoun   \n22530  Why can you not go maskless with out vaccine? ...         bcgov115   \n22531  You say the immunocomprimised \"should discuss ...       dmdmdtweet   \n22532  Well, Kate, not everyone is vaccinated and the...  TuffCrusherPlus   \n22533  I disagree. Look at the NYC and Charlottesvill...      rehtaeh1628   \n\n       user followers                                  url  \\\n0                  19           https://mobile.twitter.com   \n1                  78  http://twitter.com/download/android   \n2                1486  http://twitter.com/#!/download/ipad   \n3                 150           https://mobile.twitter.com   \n4                 355           https://mobile.twitter.com   \n...               ...                                  ...   \n22529              90  http://twitter.com/download/android   \n22530              38   http://twitter.com/download/iphone   \n22531               1  http://twitter.com/download/android   \n22532              83   http://twitter.com/download/iphone   \n22533             728   http://twitter.com/download/iphone   \n\n                      created at  replies  retweets  likes  \\\n0     2021-06-10 19:24:26.999999        0         0      0   \n1     2021-06-10 19:24:26.000000        0         0      0   \n2     2021-06-10 19:23:57.000000        0         0      0   \n3     2021-06-10 19:23:49.000000        0         0      0   \n4     2021-06-10 19:23:42.000000        0         0      0   \n...                          ...      ...       ...    ...   \n22529 2021-05-16 04:11:06.000000        0         0      0   \n22530 2021-05-16 04:11:01.000000        0         0      0   \n22531 2021-05-16 04:08:22.999999        0         0      1   \n22532 2021-05-16 04:08:03.000000        0         0      0   \n22533 2021-05-16 04:03:26.000000        0         0      1   \n\n                                                 mention  \\\n0      MatthewDavidH,EricTopol,TheEconomist,US_FDA,la...   \n1                                      DharkArk,JoeBiden   \n2                    theredshift11,POTUS,studentsfordemo   \n3      BorisJohnson,JustinTrudeau,POTUS,EUCouncil,Reg...   \n4      SerendipityOr,Shockwave_Shaun,Ozymandiyaas,Joe...   \n...                                                  ...   \n22529                  POTUS,HillaryClinton,Jaemyung_Lee   \n22530                                              POTUS   \n22531                                             CDCgov   \n22532                     50treeK8,OregonGovBrown,CDCgov   \n22533  RadioFreeTom,Ned_Newhouse,jeffjarvis,ashishkjh...   \n\n                               hashtag   Hate  \n0                                  NaN  False  \n1                                  NaN  False  \n2                                  NaN  False  \n3      COVID19,G7,EndThePandemic,COVAX  False  \n4                                  NaN  False  \n...                                ...    ...  \n22529                              NaN  False  \n22530                              NaN  False  \n22531                              NaN  False  \n22532                              NaN  False  \n22533                              NaN  False  \n\n[22534 rows x 11 columns]",
            "text/html": "<div>\n<style scoped>\n    .dataframe tbody tr th:only-of-type {\n        vertical-align: middle;\n    }\n\n    .dataframe tbody tr th {\n        vertical-align: top;\n    }\n\n    .dataframe thead th {\n        text-align: right;\n    }\n</style>\n<table border=\"1\" class=\"dataframe\">\n  <thead>\n    <tr style=\"text-align: right;\">\n      <th></th>\n      <th>text</th>\n      <th>user screen name</th>\n      <th>user followers</th>\n      <th>url</th>\n      <th>created at</th>\n      <th>replies</th>\n      <th>retweets</th>\n      <th>likes</th>\n      <th>mention</th>\n      <th>hashtag</th>\n      <th>Hate</th>\n    </tr>\n  </thead>\n  <tbody>\n    <tr>\n      <th>0</th>\n      <td>Doesn't vaccine approval typically take 6 and ...</td>\n      <td>spadesgeek</td>\n      <td>19</td>\n      <td>https://mobile.twitter.com</td>\n      <td>2021-06-10 19:24:26.999999</td>\n      <td>0</td>\n      <td>0</td>\n      <td>0</td>\n      <td>MatthewDavidH,EricTopol,TheEconomist,US_FDA,la...</td>\n      <td>NaN</td>\n      <td>False</td>\n    </tr>\n    <tr>\n      <th>1</th>\n      <td>You're right, too bad this vaccine doesn't hav...</td>\n      <td>selirodz</td>\n      <td>78</td>\n      <td>http://twitter.com/download/android</td>\n      <td>2021-06-10 19:24:26.000000</td>\n      <td>0</td>\n      <td>0</td>\n      <td>0</td>\n      <td>DharkArk,JoeBiden</td>\n      <td>NaN</td>\n      <td>False</td>\n    </tr>\n    <tr>\n      <th>2</th>\n      <td>The vaccine is free…❤️</td>\n      <td>FlowerGirlBaker</td>\n      <td>1486</td>\n      <td>http://twitter.com/#!/download/ipad</td>\n      <td>2021-06-10 19:23:57.000000</td>\n      <td>0</td>\n      <td>0</td>\n      <td>0</td>\n      <td>theredshift11,POTUS,studentsfordemo</td>\n      <td>NaN</td>\n      <td>False</td>\n    </tr>\n    <tr>\n      <th>3</th>\n      <td>.      the world needs  vaccine access now. Th...</td>\n      <td>DevizesGreens</td>\n      <td>150</td>\n      <td>https://mobile.twitter.com</td>\n      <td>2021-06-10 19:23:49.000000</td>\n      <td>0</td>\n      <td>0</td>\n      <td>0</td>\n      <td>BorisJohnson,JustinTrudeau,POTUS,EUCouncil,Reg...</td>\n      <td>COVID19,G7,EndThePandemic,COVAX</td>\n      <td>False</td>\n    </tr>\n    <tr>\n      <th>4</th>\n      <td>But you can get it.\\nI remember getting my Mum...</td>\n      <td>canfixstoopid</td>\n      <td>355</td>\n      <td>https://mobile.twitter.com</td>\n      <td>2021-06-10 19:23:42.000000</td>\n      <td>0</td>\n      <td>0</td>\n      <td>0</td>\n      <td>SerendipityOr,Shockwave_Shaun,Ozymandiyaas,Joe...</td>\n      <td>NaN</td>\n      <td>False</td>\n    </tr>\n    <tr>\n      <th>...</th>\n      <td>...</td>\n      <td>...</td>\n      <td>...</td>\n      <td>...</td>\n      <td>...</td>\n      <td>...</td>\n      <td>...</td>\n      <td>...</td>\n      <td>...</td>\n      <td>...</td>\n      <td>...</td>\n    </tr>\n    <tr>\n      <th>22529</th>\n      <td>The country need to check on people who take o...</td>\n      <td>LSungoun</td>\n      <td>90</td>\n      <td>http://twitter.com/download/android</td>\n      <td>2021-05-16 04:11:06.000000</td>\n      <td>0</td>\n      <td>0</td>\n      <td>0</td>\n      <td>POTUS,HillaryClinton,Jaemyung_Lee</td>\n      <td>NaN</td>\n      <td>False</td>\n    </tr>\n    <tr>\n      <th>22530</th>\n      <td>Why can you not go maskless with out vaccine? ...</td>\n      <td>bcgov115</td>\n      <td>38</td>\n      <td>http://twitter.com/download/iphone</td>\n      <td>2021-05-16 04:11:01.000000</td>\n      <td>0</td>\n      <td>0</td>\n      <td>0</td>\n      <td>POTUS</td>\n      <td>NaN</td>\n      <td>False</td>\n    </tr>\n    <tr>\n      <th>22531</th>\n      <td>You say the immunocomprimised \"should discuss ...</td>\n      <td>dmdmdtweet</td>\n      <td>1</td>\n      <td>http://twitter.com/download/android</td>\n      <td>2021-05-16 04:08:22.999999</td>\n      <td>0</td>\n      <td>0</td>\n      <td>1</td>\n      <td>CDCgov</td>\n      <td>NaN</td>\n      <td>False</td>\n    </tr>\n    <tr>\n      <th>22532</th>\n      <td>Well, Kate, not everyone is vaccinated and the...</td>\n      <td>TuffCrusherPlus</td>\n      <td>83</td>\n      <td>http://twitter.com/download/iphone</td>\n      <td>2021-05-16 04:08:03.000000</td>\n      <td>0</td>\n      <td>0</td>\n      <td>0</td>\n      <td>50treeK8,OregonGovBrown,CDCgov</td>\n      <td>NaN</td>\n      <td>False</td>\n    </tr>\n    <tr>\n      <th>22533</th>\n      <td>I disagree. Look at the NYC and Charlottesvill...</td>\n      <td>rehtaeh1628</td>\n      <td>728</td>\n      <td>http://twitter.com/download/iphone</td>\n      <td>2021-05-16 04:03:26.000000</td>\n      <td>0</td>\n      <td>0</td>\n      <td>1</td>\n      <td>RadioFreeTom,Ned_Newhouse,jeffjarvis,ashishkjh...</td>\n      <td>NaN</td>\n      <td>False</td>\n    </tr>\n  </tbody>\n</table>\n<p>22534 rows × 11 columns</p>\n</div>"
          },
          "metadata": {}
        },
        {
          "output_type": "stream",
          "name": "stdout",
          "text": [
            "22534\n"
          ]
        },
        {
          "output_type": "display_data",
          "data": {
            "text/plain": "                                              Person Norp  Org  \\\n0                                                NaN  NaN  NaN   \n1                                                NaN  NaN  NaN   \n2                                                NaN  NaN  NaN   \n3                                                NaN  NaN  NaN   \n4                                              Mumps  NaN  NaN   \n...                                              ...  ...  ...   \n22529  Joe Biden;Hillary Clinton;Dogisa Jaemyung_Lee  NaN  NaN   \n22530                                            NaN  NaN  NaN   \n22531                                            NaN  NaN  NaN   \n22532                                           Kate  NaN  NaN   \n22533                                            NaN  NaN  NaN   \n\n                   Gpe  \n0                  NaN  \n1                  NaN  \n2                  NaN  \n3                   G7  \n4                  NaN  \n...                ...  \n22529              NaN  \n22530              NaN  \n22531              NaN  \n22532              NaN  \n22533  Charlottesville  \n\n[22534 rows x 4 columns]",
            "text/html": "<div>\n<style scoped>\n    .dataframe tbody tr th:only-of-type {\n        vertical-align: middle;\n    }\n\n    .dataframe tbody tr th {\n        vertical-align: top;\n    }\n\n    .dataframe thead th {\n        text-align: right;\n    }\n</style>\n<table border=\"1\" class=\"dataframe\">\n  <thead>\n    <tr style=\"text-align: right;\">\n      <th></th>\n      <th>Person</th>\n      <th>Norp</th>\n      <th>Org</th>\n      <th>Gpe</th>\n    </tr>\n  </thead>\n  <tbody>\n    <tr>\n      <th>0</th>\n      <td>NaN</td>\n      <td>NaN</td>\n      <td>NaN</td>\n      <td>NaN</td>\n    </tr>\n    <tr>\n      <th>1</th>\n      <td>NaN</td>\n      <td>NaN</td>\n      <td>NaN</td>\n      <td>NaN</td>\n    </tr>\n    <tr>\n      <th>2</th>\n      <td>NaN</td>\n      <td>NaN</td>\n      <td>NaN</td>\n      <td>NaN</td>\n    </tr>\n    <tr>\n      <th>3</th>\n      <td>NaN</td>\n      <td>NaN</td>\n      <td>NaN</td>\n      <td>G7</td>\n    </tr>\n    <tr>\n      <th>4</th>\n      <td>Mumps</td>\n      <td>NaN</td>\n      <td>NaN</td>\n      <td>NaN</td>\n    </tr>\n    <tr>\n      <th>...</th>\n      <td>...</td>\n      <td>...</td>\n      <td>...</td>\n      <td>...</td>\n    </tr>\n    <tr>\n      <th>22529</th>\n      <td>Joe Biden;Hillary Clinton;Dogisa Jaemyung_Lee</td>\n      <td>NaN</td>\n      <td>NaN</td>\n      <td>NaN</td>\n    </tr>\n    <tr>\n      <th>22530</th>\n      <td>NaN</td>\n      <td>NaN</td>\n      <td>NaN</td>\n      <td>NaN</td>\n    </tr>\n    <tr>\n      <th>22531</th>\n      <td>NaN</td>\n      <td>NaN</td>\n      <td>NaN</td>\n      <td>NaN</td>\n    </tr>\n    <tr>\n      <th>22532</th>\n      <td>Kate</td>\n      <td>NaN</td>\n      <td>NaN</td>\n      <td>NaN</td>\n    </tr>\n    <tr>\n      <th>22533</th>\n      <td>NaN</td>\n      <td>NaN</td>\n      <td>NaN</td>\n      <td>Charlottesville</td>\n    </tr>\n  </tbody>\n</table>\n<p>22534 rows × 4 columns</p>\n</div>"
          },
          "metadata": {}
        },
        {
          "output_type": "stream",
          "name": "stdout",
          "text": [
            "22534\n"
          ]
        },
        {
          "output_type": "display_data",
          "data": {
            "text/plain": "       Sentiment  Polarity\n0        -0.3724  Negative\n1        -0.7353  Negative\n2         0.5106  Positive\n3         0.4215  Positive\n4         0.0000   Neutral\n...          ...       ...\n22529     0.6898  Positive\n22530     0.0000   Neutral\n22531    -0.3987  Negative\n22532    -0.4318  Negative\n22533    -0.0772  Negative\n\n[22534 rows x 2 columns]",
            "text/html": "<div>\n<style scoped>\n    .dataframe tbody tr th:only-of-type {\n        vertical-align: middle;\n    }\n\n    .dataframe tbody tr th {\n        vertical-align: top;\n    }\n\n    .dataframe thead th {\n        text-align: right;\n    }\n</style>\n<table border=\"1\" class=\"dataframe\">\n  <thead>\n    <tr style=\"text-align: right;\">\n      <th></th>\n      <th>Sentiment</th>\n      <th>Polarity</th>\n    </tr>\n  </thead>\n  <tbody>\n    <tr>\n      <th>0</th>\n      <td>-0.3724</td>\n      <td>Negative</td>\n    </tr>\n    <tr>\n      <th>1</th>\n      <td>-0.7353</td>\n      <td>Negative</td>\n    </tr>\n    <tr>\n      <th>2</th>\n      <td>0.5106</td>\n      <td>Positive</td>\n    </tr>\n    <tr>\n      <th>3</th>\n      <td>0.4215</td>\n      <td>Positive</td>\n    </tr>\n    <tr>\n      <th>4</th>\n      <td>0.0000</td>\n      <td>Neutral</td>\n    </tr>\n    <tr>\n      <th>...</th>\n      <td>...</td>\n      <td>...</td>\n    </tr>\n    <tr>\n      <th>22529</th>\n      <td>0.6898</td>\n      <td>Positive</td>\n    </tr>\n    <tr>\n      <th>22530</th>\n      <td>0.0000</td>\n      <td>Neutral</td>\n    </tr>\n    <tr>\n      <th>22531</th>\n      <td>-0.3987</td>\n      <td>Negative</td>\n    </tr>\n    <tr>\n      <th>22532</th>\n      <td>-0.4318</td>\n      <td>Negative</td>\n    </tr>\n    <tr>\n      <th>22533</th>\n      <td>-0.0772</td>\n      <td>Negative</td>\n    </tr>\n  </tbody>\n</table>\n<p>22534 rows × 2 columns</p>\n</div>"
          },
          "metadata": {}
        },
        {
          "output_type": "stream",
          "name": "stdout",
          "text": [
            "22534\n"
          ]
        },
        {
          "output_type": "display_data",
          "data": {
            "text/plain": "                         Topic\n0                  Death/Child\n1            Risk/Country/mRNA\n2            Risk/Country/mRNA\n3                         Mask\n4      People get (vaccinated)\n...                        ...\n22529        Risk/Country/mRNA\n22530              Biden/Trump\n22531        Risk/Country/mRNA\n22532              Death/Child\n22533        Risk/Country/mRNA\n\n[22534 rows x 1 columns]",
            "text/html": "<div>\n<style scoped>\n    .dataframe tbody tr th:only-of-type {\n        vertical-align: middle;\n    }\n\n    .dataframe tbody tr th {\n        vertical-align: top;\n    }\n\n    .dataframe thead th {\n        text-align: right;\n    }\n</style>\n<table border=\"1\" class=\"dataframe\">\n  <thead>\n    <tr style=\"text-align: right;\">\n      <th></th>\n      <th>Topic</th>\n    </tr>\n  </thead>\n  <tbody>\n    <tr>\n      <th>0</th>\n      <td>Death/Child</td>\n    </tr>\n    <tr>\n      <th>1</th>\n      <td>Risk/Country/mRNA</td>\n    </tr>\n    <tr>\n      <th>2</th>\n      <td>Risk/Country/mRNA</td>\n    </tr>\n    <tr>\n      <th>3</th>\n      <td>Mask</td>\n    </tr>\n    <tr>\n      <th>4</th>\n      <td>People get (vaccinated)</td>\n    </tr>\n    <tr>\n      <th>...</th>\n      <td>...</td>\n    </tr>\n    <tr>\n      <th>22529</th>\n      <td>Risk/Country/mRNA</td>\n    </tr>\n    <tr>\n      <th>22530</th>\n      <td>Biden/Trump</td>\n    </tr>\n    <tr>\n      <th>22531</th>\n      <td>Risk/Country/mRNA</td>\n    </tr>\n    <tr>\n      <th>22532</th>\n      <td>Death/Child</td>\n    </tr>\n    <tr>\n      <th>22533</th>\n      <td>Risk/Country/mRNA</td>\n    </tr>\n  </tbody>\n</table>\n<p>22534 rows × 1 columns</p>\n</div>"
          },
          "metadata": {}
        }
      ]
    },
    {
      "cell_type": "code",
      "execution_count": 201,
      "metadata": {},
      "outputs": [],
      "source": [
        "df_tweets = pd.concat(dfs, axis=1)"
      ]
    },
    {
      "cell_type": "code",
      "metadata": {
        "colab": {
          "base_uri": "https://localhost:8080/",
          "height": 419
        },
        "id": "d1stVbaoxyTh",
        "outputId": "c74539de-902c-4c2d-f029-bb767b5c039f"
      },
      "source": [
        "df_tweets"
      ],
      "execution_count": 10,
      "outputs": [
        {
          "output_type": "execute_result",
          "data": {
            "text/plain": [
              "                                                    text user screen name  \\\n",
              "0      Doesn't vaccine approval typically take 6 and ...       spadesgeek   \n",
              "1      You're right, too bad this vaccine doesn't hav...         selirodz   \n",
              "2                                 The vaccine is free…❤️  FlowerGirlBaker   \n",
              "3      .      the world needs  vaccine access now. Th...    DevizesGreens   \n",
              "4      But you can get it.\\nI remember getting my Mum...    canfixstoopid   \n",
              "...                                                  ...              ...   \n",
              "22529  The country need to check on people who take o...         LSungoun   \n",
              "22530  Why can you not go maskless with out vaccine? ...         bcgov115   \n",
              "22531  You say the immunocomprimised \"should discuss ...       dmdmdtweet   \n",
              "22532  Well, Kate, not everyone is vaccinated and the...  TuffCrusherPlus   \n",
              "22533  I disagree. Look at the NYC and Charlottesvill...      rehtaeh1628   \n",
              "\n",
              "       user followers                                  url  \\\n",
              "0                  19           https://mobile.twitter.com   \n",
              "1                  78  http://twitter.com/download/android   \n",
              "2                1486  http://twitter.com/#!/download/ipad   \n",
              "3                 150           https://mobile.twitter.com   \n",
              "4                 355           https://mobile.twitter.com   \n",
              "...               ...                                  ...   \n",
              "22529              90  http://twitter.com/download/android   \n",
              "22530              38   http://twitter.com/download/iphone   \n",
              "22531               1  http://twitter.com/download/android   \n",
              "22532              83   http://twitter.com/download/iphone   \n",
              "22533             728   http://twitter.com/download/iphone   \n",
              "\n",
              "                      created at  replies  retweets  likes  \\\n",
              "0     2021-06-10 19:24:26.999999        0         0      0   \n",
              "1     2021-06-10 19:24:26.000000        0         0      0   \n",
              "2     2021-06-10 19:23:57.000000        0         0      0   \n",
              "3     2021-06-10 19:23:49.000000        0         0      0   \n",
              "4     2021-06-10 19:23:42.000000        0         0      0   \n",
              "...                          ...      ...       ...    ...   \n",
              "22529 2021-05-16 04:11:06.000000        0         0      0   \n",
              "22530 2021-05-16 04:11:01.000000        0         0      0   \n",
              "22531 2021-05-16 04:08:22.999999        0         0      1   \n",
              "22532 2021-05-16 04:08:03.000000        0         0      0   \n",
              "22533 2021-05-16 04:03:26.000000        0         0      1   \n",
              "\n",
              "                                                 mention  \\\n",
              "0      MatthewDavidH,EricTopol,TheEconomist,US_FDA,la...   \n",
              "1                                      DharkArk,JoeBiden   \n",
              "2                    theredshift11,POTUS,studentsfordemo   \n",
              "3      BorisJohnson,JustinTrudeau,POTUS,EUCouncil,Reg...   \n",
              "4      SerendipityOr,Shockwave_Shaun,Ozymandiyaas,Joe...   \n",
              "...                                                  ...   \n",
              "22529                  POTUS,HillaryClinton,Jaemyung_Lee   \n",
              "22530                                              POTUS   \n",
              "22531                                             CDCgov   \n",
              "22532                     50treeK8,OregonGovBrown,CDCgov   \n",
              "22533  RadioFreeTom,Ned_Newhouse,jeffjarvis,ashishkjh...   \n",
              "\n",
              "                               hashtag   Hate  \\\n",
              "0                                  NaN  False   \n",
              "1                                  NaN  False   \n",
              "2                                  NaN  False   \n",
              "3      COVID19,G7,EndThePandemic,COVAX  False   \n",
              "4                                  NaN  False   \n",
              "...                                ...    ...   \n",
              "22529                              NaN  False   \n",
              "22530                              NaN  False   \n",
              "22531                              NaN  False   \n",
              "22532                              NaN  False   \n",
              "22533                              NaN  False   \n",
              "\n",
              "                                              Person Norp  Org  \\\n",
              "0                                                NaN  NaN  NaN   \n",
              "1                                                NaN  NaN  NaN   \n",
              "2                                                NaN  NaN  NaN   \n",
              "3                                                NaN  NaN  NaN   \n",
              "4                                              Mumps  NaN  NaN   \n",
              "...                                              ...  ...  ...   \n",
              "22529  Joe Biden;Hillary Clinton;Dogisa Jaemyung_Lee  NaN  NaN   \n",
              "22530                                            NaN  NaN  NaN   \n",
              "22531                                            NaN  NaN  NaN   \n",
              "22532                                           Kate  NaN  NaN   \n",
              "22533                                            NaN  NaN  NaN   \n",
              "\n",
              "                   Gpe  Sentiment  Polarity                    Topic  \n",
              "0                  NaN    -0.3724  Negative              Death/Child  \n",
              "1                  NaN    -0.7353  Negative        Risk/Country/mRNA  \n",
              "2                  NaN     0.5106  Positive        Risk/Country/mRNA  \n",
              "3                   G7     0.4215  Positive                     Mask  \n",
              "4                  NaN     0.0000   Neutral  People get (vaccinated)  \n",
              "...                ...        ...       ...                      ...  \n",
              "22529              NaN     0.6898  Positive        Risk/Country/mRNA  \n",
              "22530              NaN     0.0000   Neutral              Biden/Trump  \n",
              "22531              NaN    -0.3987  Negative        Risk/Country/mRNA  \n",
              "22532              NaN    -0.4318  Negative              Death/Child  \n",
              "22533  Charlottesville    -0.0772  Negative        Risk/Country/mRNA  \n",
              "\n",
              "[22534 rows x 18 columns]"
            ],
            "text/html": "<div>\n<style scoped>\n    .dataframe tbody tr th:only-of-type {\n        vertical-align: middle;\n    }\n\n    .dataframe tbody tr th {\n        vertical-align: top;\n    }\n\n    .dataframe thead th {\n        text-align: right;\n    }\n</style>\n<table border=\"1\" class=\"dataframe\">\n  <thead>\n    <tr style=\"text-align: right;\">\n      <th></th>\n      <th>text</th>\n      <th>user screen name</th>\n      <th>user followers</th>\n      <th>url</th>\n      <th>created at</th>\n      <th>replies</th>\n      <th>retweets</th>\n      <th>likes</th>\n      <th>mention</th>\n      <th>hashtag</th>\n      <th>Hate</th>\n      <th>Person</th>\n      <th>Norp</th>\n      <th>Org</th>\n      <th>Gpe</th>\n      <th>Sentiment</th>\n      <th>Polarity</th>\n      <th>Topic</th>\n    </tr>\n  </thead>\n  <tbody>\n    <tr>\n      <th>0</th>\n      <td>Doesn't vaccine approval typically take 6 and ...</td>\n      <td>spadesgeek</td>\n      <td>19</td>\n      <td>https://mobile.twitter.com</td>\n      <td>2021-06-10 19:24:26.999999</td>\n      <td>0</td>\n      <td>0</td>\n      <td>0</td>\n      <td>MatthewDavidH,EricTopol,TheEconomist,US_FDA,la...</td>\n      <td>NaN</td>\n      <td>False</td>\n      <td>NaN</td>\n      <td>NaN</td>\n      <td>NaN</td>\n      <td>NaN</td>\n      <td>-0.3724</td>\n      <td>Negative</td>\n      <td>Death/Child</td>\n    </tr>\n    <tr>\n      <th>1</th>\n      <td>You're right, too bad this vaccine doesn't hav...</td>\n      <td>selirodz</td>\n      <td>78</td>\n      <td>http://twitter.com/download/android</td>\n      <td>2021-06-10 19:24:26.000000</td>\n      <td>0</td>\n      <td>0</td>\n      <td>0</td>\n      <td>DharkArk,JoeBiden</td>\n      <td>NaN</td>\n      <td>False</td>\n      <td>NaN</td>\n      <td>NaN</td>\n      <td>NaN</td>\n      <td>NaN</td>\n      <td>-0.7353</td>\n      <td>Negative</td>\n      <td>Risk/Country/mRNA</td>\n    </tr>\n    <tr>\n      <th>2</th>\n      <td>The vaccine is free…❤️</td>\n      <td>FlowerGirlBaker</td>\n      <td>1486</td>\n      <td>http://twitter.com/#!/download/ipad</td>\n      <td>2021-06-10 19:23:57.000000</td>\n      <td>0</td>\n      <td>0</td>\n      <td>0</td>\n      <td>theredshift11,POTUS,studentsfordemo</td>\n      <td>NaN</td>\n      <td>False</td>\n      <td>NaN</td>\n      <td>NaN</td>\n      <td>NaN</td>\n      <td>NaN</td>\n      <td>0.5106</td>\n      <td>Positive</td>\n      <td>Risk/Country/mRNA</td>\n    </tr>\n    <tr>\n      <th>3</th>\n      <td>.      the world needs  vaccine access now. Th...</td>\n      <td>DevizesGreens</td>\n      <td>150</td>\n      <td>https://mobile.twitter.com</td>\n      <td>2021-06-10 19:23:49.000000</td>\n      <td>0</td>\n      <td>0</td>\n      <td>0</td>\n      <td>BorisJohnson,JustinTrudeau,POTUS,EUCouncil,Reg...</td>\n      <td>COVID19,G7,EndThePandemic,COVAX</td>\n      <td>False</td>\n      <td>NaN</td>\n      <td>NaN</td>\n      <td>NaN</td>\n      <td>G7</td>\n      <td>0.4215</td>\n      <td>Positive</td>\n      <td>Mask</td>\n    </tr>\n    <tr>\n      <th>4</th>\n      <td>But you can get it.\\nI remember getting my Mum...</td>\n      <td>canfixstoopid</td>\n      <td>355</td>\n      <td>https://mobile.twitter.com</td>\n      <td>2021-06-10 19:23:42.000000</td>\n      <td>0</td>\n      <td>0</td>\n      <td>0</td>\n      <td>SerendipityOr,Shockwave_Shaun,Ozymandiyaas,Joe...</td>\n      <td>NaN</td>\n      <td>False</td>\n      <td>Mumps</td>\n      <td>NaN</td>\n      <td>NaN</td>\n      <td>NaN</td>\n      <td>0.0000</td>\n      <td>Neutral</td>\n      <td>People get (vaccinated)</td>\n    </tr>\n    <tr>\n      <th>...</th>\n      <td>...</td>\n      <td>...</td>\n      <td>...</td>\n      <td>...</td>\n      <td>...</td>\n      <td>...</td>\n      <td>...</td>\n      <td>...</td>\n      <td>...</td>\n      <td>...</td>\n      <td>...</td>\n      <td>...</td>\n      <td>...</td>\n      <td>...</td>\n      <td>...</td>\n      <td>...</td>\n      <td>...</td>\n      <td>...</td>\n    </tr>\n    <tr>\n      <th>22529</th>\n      <td>The country need to check on people who take o...</td>\n      <td>LSungoun</td>\n      <td>90</td>\n      <td>http://twitter.com/download/android</td>\n      <td>2021-05-16 04:11:06.000000</td>\n      <td>0</td>\n      <td>0</td>\n      <td>0</td>\n      <td>POTUS,HillaryClinton,Jaemyung_Lee</td>\n      <td>NaN</td>\n      <td>False</td>\n      <td>Joe Biden;Hillary Clinton;Dogisa Jaemyung_Lee</td>\n      <td>NaN</td>\n      <td>NaN</td>\n      <td>NaN</td>\n      <td>0.6898</td>\n      <td>Positive</td>\n      <td>Risk/Country/mRNA</td>\n    </tr>\n    <tr>\n      <th>22530</th>\n      <td>Why can you not go maskless with out vaccine? ...</td>\n      <td>bcgov115</td>\n      <td>38</td>\n      <td>http://twitter.com/download/iphone</td>\n      <td>2021-05-16 04:11:01.000000</td>\n      <td>0</td>\n      <td>0</td>\n      <td>0</td>\n      <td>POTUS</td>\n      <td>NaN</td>\n      <td>False</td>\n      <td>NaN</td>\n      <td>NaN</td>\n      <td>NaN</td>\n      <td>NaN</td>\n      <td>0.0000</td>\n      <td>Neutral</td>\n      <td>Biden/Trump</td>\n    </tr>\n    <tr>\n      <th>22531</th>\n      <td>You say the immunocomprimised \"should discuss ...</td>\n      <td>dmdmdtweet</td>\n      <td>1</td>\n      <td>http://twitter.com/download/android</td>\n      <td>2021-05-16 04:08:22.999999</td>\n      <td>0</td>\n      <td>0</td>\n      <td>1</td>\n      <td>CDCgov</td>\n      <td>NaN</td>\n      <td>False</td>\n      <td>NaN</td>\n      <td>NaN</td>\n      <td>NaN</td>\n      <td>NaN</td>\n      <td>-0.3987</td>\n      <td>Negative</td>\n      <td>Risk/Country/mRNA</td>\n    </tr>\n    <tr>\n      <th>22532</th>\n      <td>Well, Kate, not everyone is vaccinated and the...</td>\n      <td>TuffCrusherPlus</td>\n      <td>83</td>\n      <td>http://twitter.com/download/iphone</td>\n      <td>2021-05-16 04:08:03.000000</td>\n      <td>0</td>\n      <td>0</td>\n      <td>0</td>\n      <td>50treeK8,OregonGovBrown,CDCgov</td>\n      <td>NaN</td>\n      <td>False</td>\n      <td>Kate</td>\n      <td>NaN</td>\n      <td>NaN</td>\n      <td>NaN</td>\n      <td>-0.4318</td>\n      <td>Negative</td>\n      <td>Death/Child</td>\n    </tr>\n    <tr>\n      <th>22533</th>\n      <td>I disagree. Look at the NYC and Charlottesvill...</td>\n      <td>rehtaeh1628</td>\n      <td>728</td>\n      <td>http://twitter.com/download/iphone</td>\n      <td>2021-05-16 04:03:26.000000</td>\n      <td>0</td>\n      <td>0</td>\n      <td>1</td>\n      <td>RadioFreeTom,Ned_Newhouse,jeffjarvis,ashishkjh...</td>\n      <td>NaN</td>\n      <td>False</td>\n      <td>NaN</td>\n      <td>NaN</td>\n      <td>NaN</td>\n      <td>Charlottesville</td>\n      <td>-0.0772</td>\n      <td>Negative</td>\n      <td>Risk/Country/mRNA</td>\n    </tr>\n  </tbody>\n</table>\n<p>22534 rows × 18 columns</p>\n</div>"
          },
          "metadata": {},
          "execution_count": 10
        }
      ]
    },
    {
      "cell_type": "code",
      "execution_count": 205,
      "metadata": {},
      "outputs": [],
      "source": [
        "df_tweets_drop = df_tweets.drop([\"user screen name\", \"user followers\", \"url\", \"created at\", \"replies\", \"retweets\", \"likes\"], axis=1)"
      ]
    },
    {
      "source": [
        "# Frequency Hashtags, mentions, entities"
      ],
      "cell_type": "markdown",
      "metadata": {}
    },
    {
      "cell_type": "code",
      "execution_count": 32,
      "metadata": {},
      "outputs": [],
      "source": [
        "# Python program to count the frequency of\n",
        "# elements in a list using a dictionary\n",
        "# from https://www.geeksforgeeks.org/counting-the-frequencies-in-a-list-using-dictionary-in-python/\n",
        " \n",
        "def CountFrequency(my_list):\n",
        " \n",
        "    # Creating an empty dictionary\n",
        "    freq = {}\n",
        "    for item in my_list:\n",
        "        if (item in freq):\n",
        "            freq[item] += 1\n",
        "        else:\n",
        "            freq[item] = 1\n",
        "    return sorted(freq.items(), key=lambda item: item[1], reverse=True)"
      ]
    },
    {
      "cell_type": "code",
      "execution_count": 39,
      "metadata": {},
      "outputs": [
        {
          "output_type": "execute_result",
          "data": {
            "text/plain": [
              "[('potus', 13132),\n",
              " ('cdcgov', 4815),\n",
              " ('joebiden', 4590),\n",
              " ('borisjohnson', 1262),\n",
              " ('justintrudeau', 1027),\n",
              " ('whitehouse', 1006),\n",
              " ('us_fda', 878),\n",
              " ('regsprecher', 841),\n",
              " ('vp', 836),\n",
              " ('scottmorrisonmp', 814),\n",
              " ('eucouncil', 768),\n",
              " ('cdcdirector', 665),\n",
              " ('pfizer', 470),\n",
              " ('kamalaharris', 270),\n",
              " ('who', 257),\n",
              " ('jpn_pmo', 227),\n",
              " ('whcovidresponse', 214),\n",
              " ('moderna_tx', 211),\n",
              " ('g7', 209),\n",
              " ('speakerpelosi', 178),\n",
              " ('cnn', 175),\n",
              " ('whcos', 172),\n",
              " ('hhsgov', 155),\n",
              " ('narendramodi', 148),\n",
              " ('nytimes', 130),\n",
              " ('secblinken', 129),\n",
              " ('pmoindia', 122),\n",
              " ('drwoodcockfda', 121),\n",
              " ('noorchashm', 119),\n",
              " ('statedept', 119),\n",
              " ('wto', 118),\n",
              " ('housedemocrats', 118),\n",
              " ('govmurphy', 118),\n",
              " ('foxnews', 117),\n",
              " ('presssec', 110),\n",
              " ('erictopol', 105),\n",
              " ('alexberenson', 98),\n",
              " ('thedemocrats', 98),\n",
              " ('repthomasmassie', 98),\n",
              " ('emmanuelmacron', 96)]"
            ]
          },
          "metadata": {},
          "execution_count": 39
        }
      ],
      "source": [
        "# Mentions frequencies\n",
        "mentions = df_tweets.mention.str.split(\",\")\n",
        "mentions_list = []\n",
        "for m in mentions:\n",
        "    mentions_list.extend([n.lower() for n in m])\n",
        "CountFrequency(mentions_list)[0:40]"
      ]
    },
    {
      "cell_type": "code",
      "execution_count": 45,
      "metadata": {},
      "outputs": [
        {
          "output_type": "stream",
          "name": "stdout",
          "text": [
            "3                 [COVID19, G7, EndThePandemic, COVAX]\n21                             [COVIDCollegeChallenge]\n24                      [China, America, CCP, COVID19]\n26                [COVID19, G7, EndThePandemic, COVAX]\n29                [COVID19, G7, EndThePandemic, COVAX]\n                             ...                      \n22509                      [4thStimulus, MakeItHappen]\n22511    [Covid19, CDCgov, WHO, canada, Australia, UK]\n22516                                          [sheep]\n22520                      [WeNeedVaccinePassportsNow]\n22525                                        [COVID19]\nName: hashtag, Length: 4472, dtype: object\n"
          ]
        },
        {
          "output_type": "execute_result",
          "data": {
            "text/plain": [
              "[('covid19', 2127),\n",
              " ('g7', 1015),\n",
              " ('covax', 821),\n",
              " ('endthepandemic', 779),\n",
              " ('vaccine', 567),\n",
              " ('peoplesvaccine', 440),\n",
              " ('patents', 237),\n",
              " ('tripswaiver', 178),\n",
              " ('vaccination', 174),\n",
              " ('covid', 145),\n",
              " ('vaccinateourworld', 142),\n",
              " ('peoplenotprofits', 141),\n",
              " ('vownow', 137),\n",
              " ('covidvaccine', 123),\n",
              " ('vaccinated', 90),\n",
              " ('g7uk', 88),\n",
              " ('loveisnottourism', 84),\n",
              " ('vaccines', 82),\n",
              " ('coronavirus', 79),\n",
              " ('pfizer', 74),\n",
              " ('moderna', 71),\n",
              " ('freethevaccine', 66),\n",
              " ('usa', 61),\n",
              " ('wecandothis', 58),\n",
              " ('us', 51),\n",
              " ('trump', 51),\n",
              " ('cdc', 51),\n",
              " ('getvaccinated', 48),\n",
              " ('biden', 45),\n",
              " ('pandemic', 43),\n",
              " ('dv', 42),\n",
              " ('joebiden', 40),\n",
              " ('covid19vaccine', 35),\n",
              " ('vaccineswork', 32),\n",
              " ('india', 31),\n",
              " ('dv2021', 31),\n",
              " ('covid_19', 28),\n",
              " ('covidcollegechallenge', 26),\n",
              " ('liftthetravelban', 26),\n",
              " ('america', 24)]"
            ]
          },
          "metadata": {},
          "execution_count": 45
        }
      ],
      "source": [
        "# Hashtag frequencies\n",
        "hashtag = df_tweets.hashtag.str.split(\",\").dropna()\n",
        "print(hashtag)\n",
        "hashtag_list = []\n",
        "for m in hashtag:\n",
        "    hashtag_list.extend([n.lower() for n in m])\n",
        "CountFrequency(hashtag_list)[0:40]"
      ]
    },
    {
      "cell_type": "code",
      "execution_count": 47,
      "metadata": {},
      "outputs": [
        {
          "output_type": "execute_result",
          "data": {
            "text/plain": [
              "[('biden', 1019),\n",
              " ('vaccine', 771),\n",
              " ('trump', 598),\n",
              " ('pfizer', 556),\n",
              " ('moderna', 259),\n",
              " ('joe', 259),\n",
              " ('covid-19', 213),\n",
              " ('joe biden', 136),\n",
              " ('covid', 132),\n",
              " ('don', 130),\n",
              " ('fauci', 86),\n",
              " ('angela merkel', 81),\n",
              " ('donald trump', 67),\n",
              " ('johnson', 59),\n",
              " ('trumps', 51),\n",
              " ('lol', 48),\n",
              " ('bill gates', 26),\n",
              " ('mask', 26),\n",
              " ('covid vaccine', 26),\n",
              " ('donald j trump', 19),\n",
              " ('glad', 17),\n",
              " ('moderna covid19 vaccine', 17),\n",
              " ('harris', 16),\n",
              " ('dr fauci', 13),\n",
              " ('covid-19 vaccine', 12),\n",
              " ('joey', 12),\n",
              " ('obama', 11),\n",
              " ('bill', 11),\n",
              " ('nepal', 11),\n",
              " ('donald', 11),\n",
              " ('tsai', 11),\n",
              " ('rochelle walensky', 11),\n",
              " ('higherground', 11),\n",
              " ('putin', 10),\n",
              " ('hooray', 10),\n",
              " ('covid 19', 10),\n",
              " ('tucker carlson', 9),\n",
              " ('hunter', 9),\n",
              " ('wear', 9),\n",
              " ('anthony fauci', 9)]"
            ]
          },
          "metadata": {},
          "execution_count": 47
        }
      ],
      "source": [
        "# Person\n",
        "persons = df_tweets.Person.str.split(\";\").dropna()\n",
        "persons_list = []\n",
        "for m in persons:\n",
        "    persons_list.extend([n.lower() for n in m])\n",
        "CountFrequency(persons_list)[0:40]"
      ]
    },
    {
      "cell_type": "code",
      "execution_count": 49,
      "metadata": {},
      "outputs": [
        {
          "output_type": "execute_result",
          "data": {
            "text/plain": [
              "[('americans', 529),\n",
              " ('american', 323),\n",
              " ('chinese', 120),\n",
              " ('republicans', 90),\n",
              " ('covid', 90),\n",
              " ('democrats', 87),\n",
              " ('indian', 63),\n",
              " ('republican', 61),\n",
              " ('palestinians', 41),\n",
              " ('democrat', 36),\n",
              " ('german', 34),\n",
              " ('canadians', 26),\n",
              " ('indians', 23),\n",
              " ('dems', 18),\n",
              " ('israeli', 17),\n",
              " ('russian', 16),\n",
              " ('european', 16),\n",
              " ('canadian', 16),\n",
              " ('asian', 15),\n",
              " ('nepalese', 15),\n",
              " ('palestinian', 15),\n",
              " ('democratic', 13),\n",
              " ('turkish', 10),\n",
              " ('texans', 9),\n",
              " ('marxist', 9),\n",
              " ('british', 8),\n",
              " ('dem', 8),\n",
              " ('brazilians', 8),\n",
              " ('pandemic - benefits', 8),\n",
              " ('zeneca', 8),\n",
              " ('racists', 8),\n",
              " ('hispanic', 7),\n",
              " ('african american', 7),\n",
              " ('fauci', 7),\n",
              " ('brazilian', 7),\n",
              " ('korean', 7),\n",
              " ('african', 6),\n",
              " ('thai', 6),\n",
              " ('europeans', 6),\n",
              " ('japanese', 6)]"
            ]
          },
          "metadata": {},
          "execution_count": 49
        }
      ],
      "source": [
        "# Nationalities or religious or political groups\n",
        "norps = df_tweets.Norp.str.split(\";\").dropna()\n",
        "norps_list = []\n",
        "for m in norps:\n",
        "    norps_list.extend([n.lower() for n in m])\n",
        "CountFrequency(norps_list)[0:40]"
      ]
    },
    {
      "cell_type": "code",
      "execution_count": 50,
      "metadata": {},
      "outputs": [
        {
          "output_type": "execute_result",
          "data": {
            "text/plain": [
              "[('cdc', 506),\n",
              " ('fda', 385),\n",
              " ('trump', 307),\n",
              " ('j&j', 128),\n",
              " ('learn', 92),\n",
              " ('eu', 85),\n",
              " ('gop', 77),\n",
              " ('astrazeneca', 66),\n",
              " ('eua', 65),\n",
              " ('covidvaccine', 60),\n",
              " ('operation warp speed', 43),\n",
              " ('biden & harris', 39),\n",
              " ('the white house', 38),\n",
              " ('vaccinateourworld peoplesvaccine', 38),\n",
              " ('fauci / cdc', 38),\n",
              " ('johnson & johnson', 35),\n",
              " ('bs', 31),\n",
              " ('vaccination', 30),\n",
              " ('getvaccinated', 30),\n",
              " ('un', 30),\n",
              " ('rna', 27),\n",
              " ('who', 27),\n",
              " ('peoplesvaccine', 26),\n",
              " ('jnj', 24),\n",
              " ('&', 23),\n",
              " ('icu', 23),\n",
              " ('congress', 23),\n",
              " ('the sheeple who follow him need', 23),\n",
              " ('the murphydiot administration needs to be', 23),\n",
              " ('az', 22),\n",
              " ('gop tax cuts & vaccine', 22),\n",
              " ('africanamericans', 22),\n",
              " ('fauci', 21),\n",
              " ('mmr', 20),\n",
              " ('media', 20),\n",
              " ('k jobs & unemployment', 20),\n",
              " ('hpv', 19),\n",
              " ('ccp', 18),\n",
              " ('pcr', 18),\n",
              " ('vaccines', 18)]"
            ]
          },
          "metadata": {},
          "execution_count": 50
        }
      ],
      "source": [
        "# Organizations\n",
        "orgs = df_tweets.Org.str.split(\";\").dropna()\n",
        "orgs_list = []\n",
        "for m in orgs:\n",
        "    orgs_list.extend([n.lower() for n in m])\n",
        "CountFrequency(orgs_list)[0:40]"
      ]
    },
    {
      "cell_type": "code",
      "execution_count": 54,
      "metadata": {},
      "outputs": [
        {
          "output_type": "execute_result",
          "data": {
            "text/plain": [
              "[('us', 1482),\n",
              " ('g7', 995),\n",
              " ('india', 499),\n",
              " ('america', 365),\n",
              " ('uk', 299),\n",
              " ('usa', 277),\n",
              " ('china', 270),\n",
              " ('moderna', 160),\n",
              " ('canada', 120),\n",
              " ('taiwan', 102),\n",
              " ('israel', 97),\n",
              " ('the united states', 95),\n",
              " ('germany', 63),\n",
              " ('brazil', 58),\n",
              " ('russia', 52),\n",
              " ('japan', 45),\n",
              " ('mexico', 43),\n",
              " ('corona', 41),\n",
              " ('guatemala', 40),\n",
              " ('texas', 39),\n",
              " ('florida', 39),\n",
              " ('gaza', 35),\n",
              " ('nepal', 34),\n",
              " ('kamala', 33),\n",
              " ('california', 26),\n",
              " ('wuhan', 25),\n",
              " ('australia', 25),\n",
              " ('palestine', 23),\n",
              " ('iran', 21),\n",
              " ('ohio', 21),\n",
              " ('france', 20),\n",
              " ('biontech', 17),\n",
              " ('thailand', 16),\n",
              " ('dc', 16),\n",
              " ('united states', 15),\n",
              " ('philippines', 15),\n",
              " ('south africa', 14),\n",
              " ('korea', 13),\n",
              " ('eu', 13),\n",
              " ('zero', 13)]"
            ]
          },
          "metadata": {},
          "execution_count": 54
        }
      ],
      "source": [
        "# Geopolitcal entities\n",
        "gpes = df_tweets.Gpe.str.split(\";\").dropna()\n",
        "gpes_list = []\n",
        "for m in gpes:\n",
        "    gpes_list.extend([n.lower().replace(\".\",\"\") for n in m])\n",
        "CountFrequency(gpes_list)[0:40]"
      ]
    },
    {
      "source": [],
      "cell_type": "markdown",
      "metadata": {}
    },
    {
      "cell_type": "code",
      "execution_count": 21,
      "metadata": {},
      "outputs": [
        {
          "output_type": "execute_result",
          "data": {
            "text/plain": [
              "Positive    11167\n",
              "Negative     7691\n",
              "Neutral      3676\n",
              "Name: Polarity, dtype: int64"
            ]
          },
          "metadata": {},
          "execution_count": 21
        }
      ],
      "source": [
        "# Polarity frequencies\n",
        "df_tweets[\"Polarity\"].value_counts()"
      ]
    },
    {
      "cell_type": "code",
      "execution_count": 55,
      "metadata": {},
      "outputs": [
        {
          "output_type": "execute_result",
          "data": {
            "text/plain": [
              "False    20789\n",
              "True      1745\n",
              "Name: Hate, dtype: int64"
            ]
          },
          "metadata": {},
          "execution_count": 55
        }
      ],
      "source": [
        "# Hate frequencies\n",
        "df_tweets[\"Hate\"].value_counts()"
      ]
    },
    {
      "cell_type": "code",
      "execution_count": 56,
      "metadata": {},
      "outputs": [
        {
          "output_type": "execute_result",
          "data": {
            "text/plain": [
              "Risk/Country/mRNA                    11351\n",
              "Death/Child                           6431\n",
              "Biden/Trump                           1771\n",
              "Death/Infection                        824\n",
              "Mask                                   781\n",
              "Passport/Citizien                      653\n",
              "Experiment                             226\n",
              "Blood cloth/Research                   211\n",
              "People get (vaccinated)                116\n",
              "Administration/Effectivness            109\n",
              "Fight/Plan                              54\n",
              "Herd immunity/Republicans/Sharing        7\n",
              "Name: Topic, dtype: int64"
            ]
          },
          "metadata": {},
          "execution_count": 56
        }
      ],
      "source": [
        "# Topic frequencies\n",
        "df_tweets[\"Topic\"].value_counts()"
      ]
    },
    {
      "source": [
        "## Combined analysis of class (Sentiment or Hate) with additonal condition\n",
        "Because the code is repeating itself it is only commented in the last three cells"
      ],
      "cell_type": "markdown",
      "metadata": {}
    },
    {
      "cell_type": "code",
      "execution_count": 143,
      "metadata": {},
      "outputs": [],
      "source": [
        "topics = list(dict.fromkeys(df_tweets[\"Topic\"].to_list())) + [\"All\"]\n",
        "classes = [\"Polarity\", \"Hate\"]\n",
        "labels = [[\"Positive\", \"Negative\", \"Neutral\"], [True, False]]"
      ]
    },
    {
      "cell_type": "code",
      "execution_count": 144,
      "metadata": {},
      "outputs": [
        {
          "output_type": "execute_result",
          "data": {
            "text/plain": [
              "[[[3429, 1923, 1079], [403, 6028]],\n",
              " [[4936, 4353, 2062], [1055, 10296]],\n",
              " [[779, 0, 2], [0, 781]],\n",
              " [[64, 23, 29], [7, 109]],\n",
              " [[323, 385, 116], [79, 745]],\n",
              " [[124, 64, 38], [15, 211]],\n",
              " [[158, 44, 9], [17, 194]],\n",
              " [[441, 186, 26], [9, 644]],\n",
              " [[51, 35, 23], [4, 105]],\n",
              " [[832, 662, 277], [154, 1617]],\n",
              " [[26, 14, 14], [1, 53]],\n",
              " [[4, 2, 1], [1, 6]],\n",
              " [[11167, 7691, 3676], [1745, 20789]]]"
            ]
          },
          "metadata": {},
          "execution_count": 144
        }
      ],
      "source": [
        "topic_list = []\n",
        "for topic in topics:\n",
        "    if topic != \"All\":\n",
        "        df_tweets_topic = df_tweets[df_tweets[\"Topic\"] == topic]\n",
        "    else:\n",
        "        df_tweets_topic = df_tweets\n",
        "    class_list = []\n",
        "    for i, c in enumerate(classes):\n",
        "        counts  = df_tweets_topic[c].value_counts()\n",
        "        label_list = []\n",
        "        for label in labels[i]:\n",
        "            try:\n",
        "                label_list.append(counts[label])\n",
        "            except:\n",
        "                label_list.append(0)\n",
        "        class_list.append(label_list)\n",
        "    topic_list.append(class_list)\n",
        "topic_list"
      ]
    },
    {
      "cell_type": "code",
      "execution_count": 216,
      "metadata": {},
      "outputs": [
        {
          "output_type": "execute_result",
          "data": {
            "text/plain": [
              "                                   Positive  Negative   Neutral  Nr. of Tweets\n",
              "Death/Child                        0.533199  0.299020  0.167781         6431.0\n",
              "Risk/Country/mRNA                  0.434852  0.383490  0.181658        11351.0\n",
              "Mask                               0.997439  0.000000  0.002561          781.0\n",
              "People get (vaccinated)            0.551724  0.198276  0.250000          116.0\n",
              "Death/Infection                    0.391990  0.467233  0.140777          824.0\n",
              "Experiment                         0.548673  0.283186  0.168142          226.0\n",
              "Blood cloth/Research               0.748815  0.208531  0.042654          211.0\n",
              "Passport/Citizien                  0.675345  0.284839  0.039816          653.0\n",
              "Administration/Effectivness        0.467890  0.321101  0.211009          109.0\n",
              "Biden/Trump                        0.469791  0.373800  0.156409         1771.0\n",
              "Fight/Plan                         0.481481  0.259259  0.259259           54.0\n",
              "Herd immunity/Republicans/Sharing  0.571429  0.285714  0.142857            7.0\n",
              "All                                0.495562  0.341306  0.163131        22534.0"
            ],
            "text/html": "<div>\n<style scoped>\n    .dataframe tbody tr th:only-of-type {\n        vertical-align: middle;\n    }\n\n    .dataframe tbody tr th {\n        vertical-align: top;\n    }\n\n    .dataframe thead th {\n        text-align: right;\n    }\n</style>\n<table border=\"1\" class=\"dataframe\">\n  <thead>\n    <tr style=\"text-align: right;\">\n      <th></th>\n      <th>Positive</th>\n      <th>Negative</th>\n      <th>Neutral</th>\n      <th>Nr. of Tweets</th>\n    </tr>\n  </thead>\n  <tbody>\n    <tr>\n      <th>Death/Child</th>\n      <td>0.533199</td>\n      <td>0.299020</td>\n      <td>0.167781</td>\n      <td>6431.0</td>\n    </tr>\n    <tr>\n      <th>Risk/Country/mRNA</th>\n      <td>0.434852</td>\n      <td>0.383490</td>\n      <td>0.181658</td>\n      <td>11351.0</td>\n    </tr>\n    <tr>\n      <th>Mask</th>\n      <td>0.997439</td>\n      <td>0.000000</td>\n      <td>0.002561</td>\n      <td>781.0</td>\n    </tr>\n    <tr>\n      <th>People get (vaccinated)</th>\n      <td>0.551724</td>\n      <td>0.198276</td>\n      <td>0.250000</td>\n      <td>116.0</td>\n    </tr>\n    <tr>\n      <th>Death/Infection</th>\n      <td>0.391990</td>\n      <td>0.467233</td>\n      <td>0.140777</td>\n      <td>824.0</td>\n    </tr>\n    <tr>\n      <th>Experiment</th>\n      <td>0.548673</td>\n      <td>0.283186</td>\n      <td>0.168142</td>\n      <td>226.0</td>\n    </tr>\n    <tr>\n      <th>Blood cloth/Research</th>\n      <td>0.748815</td>\n      <td>0.208531</td>\n      <td>0.042654</td>\n      <td>211.0</td>\n    </tr>\n    <tr>\n      <th>Passport/Citizien</th>\n      <td>0.675345</td>\n      <td>0.284839</td>\n      <td>0.039816</td>\n      <td>653.0</td>\n    </tr>\n    <tr>\n      <th>Administration/Effectivness</th>\n      <td>0.467890</td>\n      <td>0.321101</td>\n      <td>0.211009</td>\n      <td>109.0</td>\n    </tr>\n    <tr>\n      <th>Biden/Trump</th>\n      <td>0.469791</td>\n      <td>0.373800</td>\n      <td>0.156409</td>\n      <td>1771.0</td>\n    </tr>\n    <tr>\n      <th>Fight/Plan</th>\n      <td>0.481481</td>\n      <td>0.259259</td>\n      <td>0.259259</td>\n      <td>54.0</td>\n    </tr>\n    <tr>\n      <th>Herd immunity/Republicans/Sharing</th>\n      <td>0.571429</td>\n      <td>0.285714</td>\n      <td>0.142857</td>\n      <td>7.0</td>\n    </tr>\n    <tr>\n      <th>All</th>\n      <td>0.495562</td>\n      <td>0.341306</td>\n      <td>0.163131</td>\n      <td>22534.0</td>\n    </tr>\n  </tbody>\n</table>\n</div>"
          },
          "metadata": {},
          "execution_count": 216
        }
      ],
      "source": [
        "topic_sentiment_df = pd.DataFrame([topic[0] for topic in topic_list])\n",
        "topic_sentiment_df.index = topics\n",
        "topic_sentiment_df.columns = labels[0]\n",
        "sums = []\n",
        "for topic in topics:\n",
        "    s = topic_sentiment_df.loc[topic].sum()\n",
        "    sums.append(s)\n",
        "    for column in topic_sentiment_df.columns:\n",
        "        topic_sentiment_df.loc[topic, column] = topic_sentiment_df.loc[topic, column]/s\n",
        "topic_sentiment_df[\"Nr. of Tweets\"] = sums    \n",
        "topic_sentiment_df"
      ]
    },
    {
      "cell_type": "code",
      "execution_count": 215,
      "metadata": {},
      "outputs": [
        {
          "output_type": "execute_result",
          "data": {
            "text/plain": [
              "                                       True     False  Nr. of Tweets\n",
              "Death/Child                        0.062665  0.937335         6431.0\n",
              "Risk/Country/mRNA                  0.092943  0.907057        11351.0\n",
              "Mask                               0.000000  1.000000          781.0\n",
              "People get (vaccinated)            0.060345  0.939655          116.0\n",
              "Death/Infection                    0.095874  0.904126          824.0\n",
              "Experiment                         0.066372  0.933628          226.0\n",
              "Blood cloth/Research               0.080569  0.919431          211.0\n",
              "Passport/Citizien                  0.013783  0.986217          653.0\n",
              "Administration/Effectivness        0.036697  0.963303          109.0\n",
              "Biden/Trump                        0.086957  0.913043         1771.0\n",
              "Fight/Plan                         0.018519  0.981481           54.0\n",
              "Herd immunity/Republicans/Sharing  0.142857  0.857143            7.0\n",
              "All                                0.077439  0.922561        22534.0"
            ],
            "text/html": "<div>\n<style scoped>\n    .dataframe tbody tr th:only-of-type {\n        vertical-align: middle;\n    }\n\n    .dataframe tbody tr th {\n        vertical-align: top;\n    }\n\n    .dataframe thead th {\n        text-align: right;\n    }\n</style>\n<table border=\"1\" class=\"dataframe\">\n  <thead>\n    <tr style=\"text-align: right;\">\n      <th></th>\n      <th>True</th>\n      <th>False</th>\n      <th>Nr. of Tweets</th>\n    </tr>\n  </thead>\n  <tbody>\n    <tr>\n      <th>Death/Child</th>\n      <td>0.062665</td>\n      <td>0.937335</td>\n      <td>6431.0</td>\n    </tr>\n    <tr>\n      <th>Risk/Country/mRNA</th>\n      <td>0.092943</td>\n      <td>0.907057</td>\n      <td>11351.0</td>\n    </tr>\n    <tr>\n      <th>Mask</th>\n      <td>0.000000</td>\n      <td>1.000000</td>\n      <td>781.0</td>\n    </tr>\n    <tr>\n      <th>People get (vaccinated)</th>\n      <td>0.060345</td>\n      <td>0.939655</td>\n      <td>116.0</td>\n    </tr>\n    <tr>\n      <th>Death/Infection</th>\n      <td>0.095874</td>\n      <td>0.904126</td>\n      <td>824.0</td>\n    </tr>\n    <tr>\n      <th>Experiment</th>\n      <td>0.066372</td>\n      <td>0.933628</td>\n      <td>226.0</td>\n    </tr>\n    <tr>\n      <th>Blood cloth/Research</th>\n      <td>0.080569</td>\n      <td>0.919431</td>\n      <td>211.0</td>\n    </tr>\n    <tr>\n      <th>Passport/Citizien</th>\n      <td>0.013783</td>\n      <td>0.986217</td>\n      <td>653.0</td>\n    </tr>\n    <tr>\n      <th>Administration/Effectivness</th>\n      <td>0.036697</td>\n      <td>0.963303</td>\n      <td>109.0</td>\n    </tr>\n    <tr>\n      <th>Biden/Trump</th>\n      <td>0.086957</td>\n      <td>0.913043</td>\n      <td>1771.0</td>\n    </tr>\n    <tr>\n      <th>Fight/Plan</th>\n      <td>0.018519</td>\n      <td>0.981481</td>\n      <td>54.0</td>\n    </tr>\n    <tr>\n      <th>Herd immunity/Republicans/Sharing</th>\n      <td>0.142857</td>\n      <td>0.857143</td>\n      <td>7.0</td>\n    </tr>\n    <tr>\n      <th>All</th>\n      <td>0.077439</td>\n      <td>0.922561</td>\n      <td>22534.0</td>\n    </tr>\n  </tbody>\n</table>\n</div>"
          },
          "metadata": {},
          "execution_count": 215
        }
      ],
      "source": [
        "topic_hate_df = pd.DataFrame([topic[1] for topic in topic_list])\n",
        "topic_hate_df.index = topics\n",
        "topic_hate_df.columns = labels[1]\n",
        "sums = []\n",
        "for topic in topics:\n",
        "    s = topic_hate_df.loc[topic].sum()\n",
        "    sums.append(s)\n",
        "    for column in topic_hate_df.columns:\n",
        "        topic_hate_df.loc[topic, column] = topic_hate_df.loc[topic, column]/s\n",
        "topic_hate_df[\"Nr. of Tweets\"] = sums    \n",
        "topic_hate_df\n"
      ]
    },
    {
      "cell_type": "code",
      "execution_count": 132,
      "metadata": {},
      "outputs": [],
      "source": [
        "mentions = [\"potus\", \"cdcgov\", \"borisjohnson\", \"justintrudeau\", \"us_fda\", \"regsprecher\", 'scottmorrisonmp', \"vp\", 'eucouncil', \"cdcdirector\", \"pfizer\", 'kamalaharris', \"jpn_pmo\", 'moderna_tx', \"g7\", 'speakerpelosi', \"erictopol\", 'emmanuelmacron', \"All\"]\n",
        "classes = [\"Polarity\", \"Hate\"]\n",
        "labels = [[\"Positive\", \"Negative\", \"Neutral\"], [True, False]]"
      ]
    },
    {
      "cell_type": "code",
      "execution_count": 157,
      "metadata": {},
      "outputs": [
        {
          "output_type": "execute_result",
          "data": {
            "text/plain": [
              "[[[6659, 4398, 1930], [1037, 11950]],\n",
              " [[2196, 1682, 894], [256, 4516]],\n",
              " [[1000, 216, 42], [7, 1251]],\n",
              " [[821, 183, 21], [4, 1021]],\n",
              " [[438, 271, 142], [27, 824]],\n",
              " [[839, 2, 0], [2, 839]],\n",
              " [[788, 9, 17], [1, 813]],\n",
              " [[436, 271, 104], [46, 765]],\n",
              " [[764, 0, 4], [0, 768]],\n",
              " [[317, 256, 81], [34, 620]],\n",
              " [[244, 88, 98], [11, 419]],\n",
              " [[158, 69, 40], [18, 249]],\n",
              " [[33, 164, 30], [2, 225]],\n",
              " [[108, 55, 46], [7, 202]],\n",
              " [[125, 52, 23], [4, 196]],\n",
              " [[74, 71, 29], [21, 153]],\n",
              " [[51, 30, 23], [3, 101]],\n",
              " [[40, 36, 20], [2, 94]],\n",
              " [[11167, 7691, 3676], [1745, 20789]]]"
            ]
          },
          "metadata": {},
          "execution_count": 157
        }
      ],
      "source": [
        "mention_list = []\n",
        "for mention in mentions:\n",
        "    if mention != \"All\":\n",
        "        df_tweets_mention = df_tweets[[mention in x for x in df_tweets.mention.str.lower().str.split(\",\")]]\n",
        "    else:\n",
        "        df_tweets_mention = df_tweets\n",
        "    class_list = []\n",
        "    for i, c in enumerate(classes):\n",
        "        counts  = df_tweets_mention[c].value_counts()\n",
        "        label_list = []\n",
        "        for label in labels[i]:\n",
        "            try:\n",
        "                label_list.append(counts[label])\n",
        "            except:\n",
        "                label_list.append(0)\n",
        "        class_list.append(label_list)\n",
        "    mention_list.append(class_list)\n",
        "mention_list"
      ]
    },
    {
      "cell_type": "code",
      "execution_count": 207,
      "metadata": {},
      "outputs": [
        {
          "output_type": "execute_result",
          "data": {
            "text/plain": [
              "                 Positive  Negative   Neutral  Nr. of Tweets\n",
              "potus            0.512744  0.338646  0.148610        12987.0\n",
              "cdcgov           0.460184  0.352473  0.187343         4772.0\n",
              "borisjohnson     0.794913  0.171701  0.033386         1258.0\n",
              "justintrudeau    0.800976  0.178537  0.020488         1025.0\n",
              "us_fda           0.514689  0.318449  0.166863          851.0\n",
              "regsprecher      0.997622  0.002378  0.000000          841.0\n",
              "scottmorrisonmp  0.968059  0.011057  0.020885          814.0\n",
              "vp               0.537608  0.334155  0.128237          811.0\n",
              "eucouncil        0.994792  0.000000  0.005208          768.0\n",
              "cdcdirector      0.484709  0.391437  0.123853          654.0\n",
              "pfizer           0.567442  0.204651  0.227907          430.0\n",
              "kamalaharris     0.591760  0.258427  0.149813          267.0\n",
              "jpn_pmo          0.145374  0.722467  0.132159          227.0\n",
              "moderna_tx       0.516746  0.263158  0.220096          209.0\n",
              "g7               0.625000  0.260000  0.115000          200.0\n",
              "speakerpelosi    0.425287  0.408046  0.166667          174.0\n",
              "erictopol        0.490385  0.288462  0.221154          104.0\n",
              "emmanuelmacron   0.416667  0.375000  0.208333           96.0\n",
              "All              0.495562  0.341306  0.163131        22534.0"
            ],
            "text/html": "<div>\n<style scoped>\n    .dataframe tbody tr th:only-of-type {\n        vertical-align: middle;\n    }\n\n    .dataframe tbody tr th {\n        vertical-align: top;\n    }\n\n    .dataframe thead th {\n        text-align: right;\n    }\n</style>\n<table border=\"1\" class=\"dataframe\">\n  <thead>\n    <tr style=\"text-align: right;\">\n      <th></th>\n      <th>Positive</th>\n      <th>Negative</th>\n      <th>Neutral</th>\n      <th>Nr. of Tweets</th>\n    </tr>\n  </thead>\n  <tbody>\n    <tr>\n      <th>potus</th>\n      <td>0.512744</td>\n      <td>0.338646</td>\n      <td>0.148610</td>\n      <td>12987.0</td>\n    </tr>\n    <tr>\n      <th>cdcgov</th>\n      <td>0.460184</td>\n      <td>0.352473</td>\n      <td>0.187343</td>\n      <td>4772.0</td>\n    </tr>\n    <tr>\n      <th>borisjohnson</th>\n      <td>0.794913</td>\n      <td>0.171701</td>\n      <td>0.033386</td>\n      <td>1258.0</td>\n    </tr>\n    <tr>\n      <th>justintrudeau</th>\n      <td>0.800976</td>\n      <td>0.178537</td>\n      <td>0.020488</td>\n      <td>1025.0</td>\n    </tr>\n    <tr>\n      <th>us_fda</th>\n      <td>0.514689</td>\n      <td>0.318449</td>\n      <td>0.166863</td>\n      <td>851.0</td>\n    </tr>\n    <tr>\n      <th>regsprecher</th>\n      <td>0.997622</td>\n      <td>0.002378</td>\n      <td>0.000000</td>\n      <td>841.0</td>\n    </tr>\n    <tr>\n      <th>scottmorrisonmp</th>\n      <td>0.968059</td>\n      <td>0.011057</td>\n      <td>0.020885</td>\n      <td>814.0</td>\n    </tr>\n    <tr>\n      <th>vp</th>\n      <td>0.537608</td>\n      <td>0.334155</td>\n      <td>0.128237</td>\n      <td>811.0</td>\n    </tr>\n    <tr>\n      <th>eucouncil</th>\n      <td>0.994792</td>\n      <td>0.000000</td>\n      <td>0.005208</td>\n      <td>768.0</td>\n    </tr>\n    <tr>\n      <th>cdcdirector</th>\n      <td>0.484709</td>\n      <td>0.391437</td>\n      <td>0.123853</td>\n      <td>654.0</td>\n    </tr>\n    <tr>\n      <th>pfizer</th>\n      <td>0.567442</td>\n      <td>0.204651</td>\n      <td>0.227907</td>\n      <td>430.0</td>\n    </tr>\n    <tr>\n      <th>kamalaharris</th>\n      <td>0.591760</td>\n      <td>0.258427</td>\n      <td>0.149813</td>\n      <td>267.0</td>\n    </tr>\n    <tr>\n      <th>jpn_pmo</th>\n      <td>0.145374</td>\n      <td>0.722467</td>\n      <td>0.132159</td>\n      <td>227.0</td>\n    </tr>\n    <tr>\n      <th>moderna_tx</th>\n      <td>0.516746</td>\n      <td>0.263158</td>\n      <td>0.220096</td>\n      <td>209.0</td>\n    </tr>\n    <tr>\n      <th>g7</th>\n      <td>0.625000</td>\n      <td>0.260000</td>\n      <td>0.115000</td>\n      <td>200.0</td>\n    </tr>\n    <tr>\n      <th>speakerpelosi</th>\n      <td>0.425287</td>\n      <td>0.408046</td>\n      <td>0.166667</td>\n      <td>174.0</td>\n    </tr>\n    <tr>\n      <th>erictopol</th>\n      <td>0.490385</td>\n      <td>0.288462</td>\n      <td>0.221154</td>\n      <td>104.0</td>\n    </tr>\n    <tr>\n      <th>emmanuelmacron</th>\n      <td>0.416667</td>\n      <td>0.375000</td>\n      <td>0.208333</td>\n      <td>96.0</td>\n    </tr>\n    <tr>\n      <th>All</th>\n      <td>0.495562</td>\n      <td>0.341306</td>\n      <td>0.163131</td>\n      <td>22534.0</td>\n    </tr>\n  </tbody>\n</table>\n</div>"
          },
          "metadata": {},
          "execution_count": 207
        }
      ],
      "source": [
        "mention_sentiment_df = pd.DataFrame([mention[0] for mention in mention_list])\n",
        "mention_sentiment_df.index = mentions\n",
        "mention_sentiment_df.columns = labels[0]\n",
        "sums = []\n",
        "for mention in mentions:\n",
        "    s = mention_sentiment_df.loc[mention].sum()\n",
        "    sums.append(s)\n",
        "    for column in mention_sentiment_df.columns:\n",
        "        mention_sentiment_df.loc[mention, column] = mention_sentiment_df.loc[mention, column]/s\n",
        "mention_sentiment_df[\"Nr. of Tweets\"] = sums     \n",
        "mention_sentiment_df"
      ]
    },
    {
      "cell_type": "code",
      "execution_count": 208,
      "metadata": {},
      "outputs": [
        {
          "output_type": "execute_result",
          "data": {
            "text/plain": [
              "                     True     False  Nr. of Tweets\n",
              "potus            0.079849  0.920151        12987.0\n",
              "cdcgov           0.053646  0.946354         4772.0\n",
              "borisjohnson     0.005564  0.994436         1258.0\n",
              "justintrudeau    0.003902  0.996098         1025.0\n",
              "us_fda           0.031727  0.968273          851.0\n",
              "regsprecher      0.002378  0.997622          841.0\n",
              "scottmorrisonmp  0.001229  0.998771          814.0\n",
              "vp               0.056720  0.943280          811.0\n",
              "eucouncil        0.000000  1.000000          768.0\n",
              "cdcdirector      0.051988  0.948012          654.0\n",
              "pfizer           0.025581  0.974419          430.0\n",
              "kamalaharris     0.067416  0.932584          267.0\n",
              "jpn_pmo          0.008811  0.991189          227.0\n",
              "moderna_tx       0.033493  0.966507          209.0\n",
              "g7               0.020000  0.980000          200.0\n",
              "speakerpelosi    0.120690  0.879310          174.0\n",
              "erictopol        0.028846  0.971154          104.0\n",
              "emmanuelmacron   0.020833  0.979167           96.0\n",
              "All              0.077439  0.922561        22534.0"
            ],
            "text/html": "<div>\n<style scoped>\n    .dataframe tbody tr th:only-of-type {\n        vertical-align: middle;\n    }\n\n    .dataframe tbody tr th {\n        vertical-align: top;\n    }\n\n    .dataframe thead th {\n        text-align: right;\n    }\n</style>\n<table border=\"1\" class=\"dataframe\">\n  <thead>\n    <tr style=\"text-align: right;\">\n      <th></th>\n      <th>True</th>\n      <th>False</th>\n      <th>Nr. of Tweets</th>\n    </tr>\n  </thead>\n  <tbody>\n    <tr>\n      <th>potus</th>\n      <td>0.079849</td>\n      <td>0.920151</td>\n      <td>12987.0</td>\n    </tr>\n    <tr>\n      <th>cdcgov</th>\n      <td>0.053646</td>\n      <td>0.946354</td>\n      <td>4772.0</td>\n    </tr>\n    <tr>\n      <th>borisjohnson</th>\n      <td>0.005564</td>\n      <td>0.994436</td>\n      <td>1258.0</td>\n    </tr>\n    <tr>\n      <th>justintrudeau</th>\n      <td>0.003902</td>\n      <td>0.996098</td>\n      <td>1025.0</td>\n    </tr>\n    <tr>\n      <th>us_fda</th>\n      <td>0.031727</td>\n      <td>0.968273</td>\n      <td>851.0</td>\n    </tr>\n    <tr>\n      <th>regsprecher</th>\n      <td>0.002378</td>\n      <td>0.997622</td>\n      <td>841.0</td>\n    </tr>\n    <tr>\n      <th>scottmorrisonmp</th>\n      <td>0.001229</td>\n      <td>0.998771</td>\n      <td>814.0</td>\n    </tr>\n    <tr>\n      <th>vp</th>\n      <td>0.056720</td>\n      <td>0.943280</td>\n      <td>811.0</td>\n    </tr>\n    <tr>\n      <th>eucouncil</th>\n      <td>0.000000</td>\n      <td>1.000000</td>\n      <td>768.0</td>\n    </tr>\n    <tr>\n      <th>cdcdirector</th>\n      <td>0.051988</td>\n      <td>0.948012</td>\n      <td>654.0</td>\n    </tr>\n    <tr>\n      <th>pfizer</th>\n      <td>0.025581</td>\n      <td>0.974419</td>\n      <td>430.0</td>\n    </tr>\n    <tr>\n      <th>kamalaharris</th>\n      <td>0.067416</td>\n      <td>0.932584</td>\n      <td>267.0</td>\n    </tr>\n    <tr>\n      <th>jpn_pmo</th>\n      <td>0.008811</td>\n      <td>0.991189</td>\n      <td>227.0</td>\n    </tr>\n    <tr>\n      <th>moderna_tx</th>\n      <td>0.033493</td>\n      <td>0.966507</td>\n      <td>209.0</td>\n    </tr>\n    <tr>\n      <th>g7</th>\n      <td>0.020000</td>\n      <td>0.980000</td>\n      <td>200.0</td>\n    </tr>\n    <tr>\n      <th>speakerpelosi</th>\n      <td>0.120690</td>\n      <td>0.879310</td>\n      <td>174.0</td>\n    </tr>\n    <tr>\n      <th>erictopol</th>\n      <td>0.028846</td>\n      <td>0.971154</td>\n      <td>104.0</td>\n    </tr>\n    <tr>\n      <th>emmanuelmacron</th>\n      <td>0.020833</td>\n      <td>0.979167</td>\n      <td>96.0</td>\n    </tr>\n    <tr>\n      <th>All</th>\n      <td>0.077439</td>\n      <td>0.922561</td>\n      <td>22534.0</td>\n    </tr>\n  </tbody>\n</table>\n</div>"
          },
          "metadata": {},
          "execution_count": 208
        }
      ],
      "source": [
        "mention_hate_df = pd.DataFrame([mention[1] for mention in mention_list])\n",
        "mention_hate_df.index = mentions\n",
        "mention_hate_df.columns = labels[1]\n",
        "sums = []\n",
        "for mention in mentions:\n",
        "    s = mention_hate_df.loc[mention].sum()\n",
        "    sums.append(s)\n",
        "    for column in mention_hate_df.columns:\n",
        "        mention_hate_df.loc[mention, column] = mention_hate_df.loc[mention, column]/s\n",
        "mention_hate_df[\"Nr. of Tweets\"] = sums     \n",
        "mention_hate_df"
      ]
    },
    {
      "cell_type": "code",
      "execution_count": 153,
      "metadata": {},
      "outputs": [],
      "source": [
        "norps = [\"chinese\", ['republicans', \"republican\"], [\"democrats\", \"democrat\", \"dems\", \"dem\"], [\"indians\", \"indian\"], \"german\",[\"palestinians\", 'palestinian'],[\"canadians\", \"canadian\"],'russian','african american','hispanic',\"All\"]\n",
        "classes = [\"Polarity\", \"Hate\"]\n",
        "labels = [[\"Positive\", \"Negative\", \"Neutral\"], [True, False]]"
      ]
    },
    {
      "cell_type": "code",
      "execution_count": 169,
      "metadata": {},
      "outputs": [
        {
          "output_type": "execute_result",
          "data": {
            "text/plain": [
              "[[[54, 19, 12], [2, 83]],\n",
              " [[63, 56, 17], [18, 118]],\n",
              " [[68, 53, 13], [24, 110]],\n",
              " [[40, 31, 9], [5, 75]],\n",
              " [[12, 7, 13], [0, 32]],\n",
              " [[22, 17, 10], [5, 44]],\n",
              " [[17, 14, 8], [2, 37]],\n",
              " [[8, 4, 4], [0, 16]],\n",
              " [[0, 2, 5], [1, 6]],\n",
              " [[1, 1, 5], [0, 7]],\n",
              " [[11167, 7691, 3676], [1745, 20789]]]"
            ]
          },
          "metadata": {},
          "execution_count": 169
        }
      ],
      "source": [
        "norp_list = []\n",
        "for norp in norps:\n",
        "    if norp != \"All\":\n",
        "        split_list = df_tweets.Norp.str.lower().str.split(\";\").apply(lambda d: d if isinstance(d, list) else [])\n",
        "        if type(norp) != list:\n",
        "            df_tweets_norp = df_tweets[[norp in x for x in split_list]]\n",
        "        else:\n",
        "            # create all false boolean list\n",
        "            boolean_list = np.array([False for x in split_list])\n",
        "            for n in norp:\n",
        "                # combine two list with elementwise logical or operator\n",
        "                boolean_list = boolean_list | np.array([n in x for x in split_list])\n",
        "            df_tweets_norp = df_tweets[boolean_list]\n",
        "    else:\n",
        "        df_tweets_norp = df_tweets\n",
        "    class_list = []\n",
        "    for i, c in enumerate(classes):\n",
        "        counts  = df_tweets_norp[c].value_counts()\n",
        "        label_list = []\n",
        "        for label in labels[i]:\n",
        "            try:\n",
        "                label_list.append(counts[label])\n",
        "            except:\n",
        "                label_list.append(0)\n",
        "        class_list.append(label_list)\n",
        "    norp_list.append(class_list)\n",
        "norp_list"
      ]
    },
    {
      "cell_type": "code",
      "execution_count": 209,
      "metadata": {},
      "outputs": [
        {
          "output_type": "execute_result",
          "data": {
            "text/plain": [
              "                  Positive  Negative   Neutral  Nr. of Tweets\n",
              "chinese           0.635294  0.223529  0.141176           85.0\n",
              "republicans       0.463235  0.411765  0.125000          136.0\n",
              "democrats         0.507463  0.395522  0.097015          134.0\n",
              "indians           0.500000  0.387500  0.112500           80.0\n",
              "german            0.375000  0.218750  0.406250           32.0\n",
              "palestinians      0.448980  0.346939  0.204082           49.0\n",
              "canadians         0.435897  0.358974  0.205128           39.0\n",
              "russian           0.500000  0.250000  0.250000           16.0\n",
              "african american  0.000000  0.285714  0.714286            7.0\n",
              "hispanic          0.142857  0.142857  0.714286            7.0\n",
              "All               0.495562  0.341306  0.163131        22534.0"
            ],
            "text/html": "<div>\n<style scoped>\n    .dataframe tbody tr th:only-of-type {\n        vertical-align: middle;\n    }\n\n    .dataframe tbody tr th {\n        vertical-align: top;\n    }\n\n    .dataframe thead th {\n        text-align: right;\n    }\n</style>\n<table border=\"1\" class=\"dataframe\">\n  <thead>\n    <tr style=\"text-align: right;\">\n      <th></th>\n      <th>Positive</th>\n      <th>Negative</th>\n      <th>Neutral</th>\n      <th>Nr. of Tweets</th>\n    </tr>\n  </thead>\n  <tbody>\n    <tr>\n      <th>chinese</th>\n      <td>0.635294</td>\n      <td>0.223529</td>\n      <td>0.141176</td>\n      <td>85.0</td>\n    </tr>\n    <tr>\n      <th>republicans</th>\n      <td>0.463235</td>\n      <td>0.411765</td>\n      <td>0.125000</td>\n      <td>136.0</td>\n    </tr>\n    <tr>\n      <th>democrats</th>\n      <td>0.507463</td>\n      <td>0.395522</td>\n      <td>0.097015</td>\n      <td>134.0</td>\n    </tr>\n    <tr>\n      <th>indians</th>\n      <td>0.500000</td>\n      <td>0.387500</td>\n      <td>0.112500</td>\n      <td>80.0</td>\n    </tr>\n    <tr>\n      <th>german</th>\n      <td>0.375000</td>\n      <td>0.218750</td>\n      <td>0.406250</td>\n      <td>32.0</td>\n    </tr>\n    <tr>\n      <th>palestinians</th>\n      <td>0.448980</td>\n      <td>0.346939</td>\n      <td>0.204082</td>\n      <td>49.0</td>\n    </tr>\n    <tr>\n      <th>canadians</th>\n      <td>0.435897</td>\n      <td>0.358974</td>\n      <td>0.205128</td>\n      <td>39.0</td>\n    </tr>\n    <tr>\n      <th>russian</th>\n      <td>0.500000</td>\n      <td>0.250000</td>\n      <td>0.250000</td>\n      <td>16.0</td>\n    </tr>\n    <tr>\n      <th>african american</th>\n      <td>0.000000</td>\n      <td>0.285714</td>\n      <td>0.714286</td>\n      <td>7.0</td>\n    </tr>\n    <tr>\n      <th>hispanic</th>\n      <td>0.142857</td>\n      <td>0.142857</td>\n      <td>0.714286</td>\n      <td>7.0</td>\n    </tr>\n    <tr>\n      <th>All</th>\n      <td>0.495562</td>\n      <td>0.341306</td>\n      <td>0.163131</td>\n      <td>22534.0</td>\n    </tr>\n  </tbody>\n</table>\n</div>"
          },
          "metadata": {},
          "execution_count": 209
        }
      ],
      "source": [
        "norp_sentiment_df = pd.DataFrame([norp[0] for norp in norp_list])\n",
        "norps_index = [x if type(x) == str else x[0] for x in norps]\n",
        "norp_sentiment_df.index = norps_index\n",
        "norp_sentiment_df.columns = labels[0]\n",
        "sums = []\n",
        "for norp in norps_index:\n",
        "    s = norp_sentiment_df.loc[norp].sum()\n",
        "    sums.append(s)\n",
        "    for column in norp_sentiment_df.columns:\n",
        "        norp_sentiment_df.loc[norp, column] = norp_sentiment_df.loc[norp, column]/s\n",
        "norp_sentiment_df[\"Nr. of Tweets\"] = sums     \n",
        "norp_sentiment_df"
      ]
    },
    {
      "cell_type": "code",
      "execution_count": 210,
      "metadata": {},
      "outputs": [
        {
          "output_type": "execute_result",
          "data": {
            "text/plain": [
              "                      True     False  Nr. of Tweets\n",
              "chinese           0.023529  0.976471           85.0\n",
              "republicans       0.132353  0.867647          136.0\n",
              "democrats         0.179104  0.820896          134.0\n",
              "indians           0.062500  0.937500           80.0\n",
              "german            0.000000  1.000000           32.0\n",
              "palestinians      0.102041  0.897959           49.0\n",
              "canadians         0.051282  0.948718           39.0\n",
              "russian           0.000000  1.000000           16.0\n",
              "african american  0.142857  0.857143            7.0\n",
              "hispanic          0.000000  1.000000            7.0\n",
              "All               0.077439  0.922561        22534.0"
            ],
            "text/html": "<div>\n<style scoped>\n    .dataframe tbody tr th:only-of-type {\n        vertical-align: middle;\n    }\n\n    .dataframe tbody tr th {\n        vertical-align: top;\n    }\n\n    .dataframe thead th {\n        text-align: right;\n    }\n</style>\n<table border=\"1\" class=\"dataframe\">\n  <thead>\n    <tr style=\"text-align: right;\">\n      <th></th>\n      <th>True</th>\n      <th>False</th>\n      <th>Nr. of Tweets</th>\n    </tr>\n  </thead>\n  <tbody>\n    <tr>\n      <th>chinese</th>\n      <td>0.023529</td>\n      <td>0.976471</td>\n      <td>85.0</td>\n    </tr>\n    <tr>\n      <th>republicans</th>\n      <td>0.132353</td>\n      <td>0.867647</td>\n      <td>136.0</td>\n    </tr>\n    <tr>\n      <th>democrats</th>\n      <td>0.179104</td>\n      <td>0.820896</td>\n      <td>134.0</td>\n    </tr>\n    <tr>\n      <th>indians</th>\n      <td>0.062500</td>\n      <td>0.937500</td>\n      <td>80.0</td>\n    </tr>\n    <tr>\n      <th>german</th>\n      <td>0.000000</td>\n      <td>1.000000</td>\n      <td>32.0</td>\n    </tr>\n    <tr>\n      <th>palestinians</th>\n      <td>0.102041</td>\n      <td>0.897959</td>\n      <td>49.0</td>\n    </tr>\n    <tr>\n      <th>canadians</th>\n      <td>0.051282</td>\n      <td>0.948718</td>\n      <td>39.0</td>\n    </tr>\n    <tr>\n      <th>russian</th>\n      <td>0.000000</td>\n      <td>1.000000</td>\n      <td>16.0</td>\n    </tr>\n    <tr>\n      <th>african american</th>\n      <td>0.142857</td>\n      <td>0.857143</td>\n      <td>7.0</td>\n    </tr>\n    <tr>\n      <th>hispanic</th>\n      <td>0.000000</td>\n      <td>1.000000</td>\n      <td>7.0</td>\n    </tr>\n    <tr>\n      <th>All</th>\n      <td>0.077439</td>\n      <td>0.922561</td>\n      <td>22534.0</td>\n    </tr>\n  </tbody>\n</table>\n</div>"
          },
          "metadata": {},
          "execution_count": 210
        }
      ],
      "source": [
        "norp_hate_df = pd.DataFrame([norp[1] for norp in norp_list])\n",
        "norps_index = [x if type(x) == str else x[0] for x in norps]\n",
        "norp_hate_df.index = norps_index\n",
        "norp_hate_df.columns = labels[1]\n",
        "sums = []\n",
        "for norp in norps_index:\n",
        "    s = norp_hate_df.loc[norp].sum()\n",
        "    sums.append(s)\n",
        "    for column in norp_hate_df.columns:\n",
        "        norp_hate_df.loc[norp, column] = norp_hate_df.loc[norp, column]/s\n",
        "norp_hate_df[\"Nr. of Tweets\"] = sums     \n",
        "norp_hate_df"
      ]
    },
    {
      "cell_type": "code",
      "execution_count": 184,
      "metadata": {},
      "outputs": [],
      "source": [
        "orgs = [[\"cdc\", 'fauci / cdc', \"fauci\"], \"fda\", [\"j&j\", \"johnson & johnson\",'jnj'],\"eu\",[\"astrazeneca\", \"az\"],\"All\"]\n",
        "classes = [\"Polarity\", \"Hate\"]\n",
        "labels = [[\"Positive\", \"Negative\", \"Neutral\"], [True, False]]"
      ]
    },
    {
      "cell_type": "code",
      "execution_count": 185,
      "metadata": {},
      "outputs": [
        {
          "output_type": "execute_result",
          "data": {
            "text/plain": [
              "[[[215, 240, 73], [72, 456]],\n",
              " [[176, 144, 35], [28, 327]],\n",
              " [[77, 50, 54], [5, 176]],\n",
              " [[37, 27, 11], [4, 71]],\n",
              " [[48, 19, 16], [6, 77]],\n",
              " [[11167, 7691, 3676], [1745, 20789]]]"
            ]
          },
          "metadata": {},
          "execution_count": 185
        }
      ],
      "source": [
        "org_list = []\n",
        "for org in orgs:\n",
        "    if org != \"All\":\n",
        "        split_list = df_tweets.Org.str.lower().str.split(\";\").apply(lambda d: d if isinstance(d, list) else [])\n",
        "        if type(org) != list:\n",
        "            df_tweets_org = df_tweets[[org in x for x in split_list]]\n",
        "        else:\n",
        "            # create all false boolean list\n",
        "            boolean_list = np.array([False for x in split_list])\n",
        "            for n in org:\n",
        "                # combine two list with elementwise logical or operator\n",
        "                boolean_list = boolean_list | np.array([n in x for x in split_list])\n",
        "            df_tweets_org = df_tweets[boolean_list]\n",
        "    else:\n",
        "        df_tweets_org = df_tweets\n",
        "    class_list = []\n",
        "    for i, c in enumerate(classes):\n",
        "        counts  = df_tweets_org[c].value_counts()\n",
        "        label_list = []\n",
        "        for label in labels[i]:\n",
        "            try:\n",
        "                label_list.append(counts[label])\n",
        "            except:\n",
        "                label_list.append(0)\n",
        "        class_list.append(label_list)\n",
        "    org_list.append(class_list)\n",
        "org_list"
      ]
    },
    {
      "cell_type": "code",
      "execution_count": 211,
      "metadata": {},
      "outputs": [
        {
          "output_type": "execute_result",
          "data": {
            "text/plain": [
              "             Positive  Negative   Neutral  Nr. of Tweets\n",
              "cdc          0.407197  0.454545  0.138258          528.0\n",
              "fda          0.495775  0.405634  0.098592          355.0\n",
              "j&j          0.425414  0.276243  0.298343          181.0\n",
              "eu           0.493333  0.360000  0.146667           75.0\n",
              "astrazeneca  0.578313  0.228916  0.192771           83.0\n",
              "All          0.495562  0.341306  0.163131        22534.0"
            ],
            "text/html": "<div>\n<style scoped>\n    .dataframe tbody tr th:only-of-type {\n        vertical-align: middle;\n    }\n\n    .dataframe tbody tr th {\n        vertical-align: top;\n    }\n\n    .dataframe thead th {\n        text-align: right;\n    }\n</style>\n<table border=\"1\" class=\"dataframe\">\n  <thead>\n    <tr style=\"text-align: right;\">\n      <th></th>\n      <th>Positive</th>\n      <th>Negative</th>\n      <th>Neutral</th>\n      <th>Nr. of Tweets</th>\n    </tr>\n  </thead>\n  <tbody>\n    <tr>\n      <th>cdc</th>\n      <td>0.407197</td>\n      <td>0.454545</td>\n      <td>0.138258</td>\n      <td>528.0</td>\n    </tr>\n    <tr>\n      <th>fda</th>\n      <td>0.495775</td>\n      <td>0.405634</td>\n      <td>0.098592</td>\n      <td>355.0</td>\n    </tr>\n    <tr>\n      <th>j&amp;j</th>\n      <td>0.425414</td>\n      <td>0.276243</td>\n      <td>0.298343</td>\n      <td>181.0</td>\n    </tr>\n    <tr>\n      <th>eu</th>\n      <td>0.493333</td>\n      <td>0.360000</td>\n      <td>0.146667</td>\n      <td>75.0</td>\n    </tr>\n    <tr>\n      <th>astrazeneca</th>\n      <td>0.578313</td>\n      <td>0.228916</td>\n      <td>0.192771</td>\n      <td>83.0</td>\n    </tr>\n    <tr>\n      <th>All</th>\n      <td>0.495562</td>\n      <td>0.341306</td>\n      <td>0.163131</td>\n      <td>22534.0</td>\n    </tr>\n  </tbody>\n</table>\n</div>"
          },
          "metadata": {},
          "execution_count": 211
        }
      ],
      "source": [
        "org_sentiment_df = pd.DataFrame([org[0] for org in org_list])\n",
        "orgs_index = [x if type(x) == str else x[0] for x in orgs]\n",
        "org_sentiment_df.index = orgs_index\n",
        "org_sentiment_df.columns = labels[0]\n",
        "sums = []\n",
        "for org in orgs_index:\n",
        "    s = org_sentiment_df.loc[org].sum()\n",
        "    sums.append(s)\n",
        "    for column in org_sentiment_df.columns:\n",
        "        org_sentiment_df.loc[org, column] = org_sentiment_df.loc[org, column]/s\n",
        "org_sentiment_df[\"Nr. of Tweets\"] = sums     \n",
        "org_sentiment_df"
      ]
    },
    {
      "cell_type": "code",
      "execution_count": 212,
      "metadata": {},
      "outputs": [
        {
          "output_type": "execute_result",
          "data": {
            "text/plain": [
              "                 True     False  Nr. of Tweets\n",
              "cdc          0.136364  0.863636          528.0\n",
              "fda          0.078873  0.921127          355.0\n",
              "j&j          0.027624  0.972376          181.0\n",
              "eu           0.053333  0.946667           75.0\n",
              "astrazeneca  0.072289  0.927711           83.0\n",
              "All          0.077439  0.922561        22534.0"
            ],
            "text/html": "<div>\n<style scoped>\n    .dataframe tbody tr th:only-of-type {\n        vertical-align: middle;\n    }\n\n    .dataframe tbody tr th {\n        vertical-align: top;\n    }\n\n    .dataframe thead th {\n        text-align: right;\n    }\n</style>\n<table border=\"1\" class=\"dataframe\">\n  <thead>\n    <tr style=\"text-align: right;\">\n      <th></th>\n      <th>True</th>\n      <th>False</th>\n      <th>Nr. of Tweets</th>\n    </tr>\n  </thead>\n  <tbody>\n    <tr>\n      <th>cdc</th>\n      <td>0.136364</td>\n      <td>0.863636</td>\n      <td>528.0</td>\n    </tr>\n    <tr>\n      <th>fda</th>\n      <td>0.078873</td>\n      <td>0.921127</td>\n      <td>355.0</td>\n    </tr>\n    <tr>\n      <th>j&amp;j</th>\n      <td>0.027624</td>\n      <td>0.972376</td>\n      <td>181.0</td>\n    </tr>\n    <tr>\n      <th>eu</th>\n      <td>0.053333</td>\n      <td>0.946667</td>\n      <td>75.0</td>\n    </tr>\n    <tr>\n      <th>astrazeneca</th>\n      <td>0.072289</td>\n      <td>0.927711</td>\n      <td>83.0</td>\n    </tr>\n    <tr>\n      <th>All</th>\n      <td>0.077439</td>\n      <td>0.922561</td>\n      <td>22534.0</td>\n    </tr>\n  </tbody>\n</table>\n</div>"
          },
          "metadata": {},
          "execution_count": 212
        }
      ],
      "source": [
        "org_hate_df = pd.DataFrame([org[1] for org in org_list])\n",
        "orgs_index = [x if type(x) == str else x[0] for x in orgs]\n",
        "org_hate_df.index = orgs_index\n",
        "org_hate_df.columns = labels[1]\n",
        "sums = []\n",
        "for org in orgs_index:\n",
        "    s = org_hate_df.loc[org].sum()\n",
        "    sums.append(s)\n",
        "    for column in org_hate_df.columns:\n",
        "        org_hate_df.loc[org, column] = org_hate_df.loc[org, column]/s\n",
        "org_hate_df[\"Nr. of Tweets\"] = sums     \n",
        "org_hate_df"
      ]
    },
    {
      "cell_type": "code",
      "execution_count": 192,
      "metadata": {},
      "outputs": [],
      "source": [
        "# define gpes (conditions), classes and labels\n",
        "gpes = [\"g7\",\"india\",\"uk\",\"china\",\"moderna\",\"canada\",\"taiwan\",\"israel\",\"germany\",\"brazil\",\"russia\",\"japan\",\"mexico\",\"guatemala\" ,\"texas\",\"florida\",\"nepal\",\"california\",\"australia\",\"palestine\", \"iran\",\"ohio\",\"france\",\"biontech\",\"thailand\",\"dc\",\"philippines\",\"south africa\",\"korea\",\"All\"]\n",
        "classes = [\"Polarity\", \"Hate\"]\n",
        "labels = [[\"Positive\", \"Negative\", \"Neutral\"], [True, False]]"
      ]
    },
    {
      "cell_type": "code",
      "execution_count": 194,
      "metadata": {},
      "outputs": [
        {
          "output_type": "execute_result",
          "data": {
            "text/plain": [
              "[[[989, 3, 3], [0, 995]],\n",
              " [[219, 120, 75], [25, 389]],\n",
              " [[145, 85, 19], [20, 229]],\n",
              " [[91, 115, 28], [25, 209]],\n",
              " [[76, 38, 44], [6, 152]],\n",
              " [[60, 26, 28], [6, 108]],\n",
              " [[44, 24, 10], [5, 73]],\n",
              " [[37, 40, 6], [5, 78]],\n",
              " [[30, 17, 14], [4, 57]],\n",
              " [[39, 12, 4], [6, 49]],\n",
              " [[28, 16, 5], [7, 42]],\n",
              " [[20, 14, 1], [3, 32]],\n",
              " [[18, 14, 9], [0, 41]],\n",
              " [[3, 0, 18], [0, 21]],\n",
              " [[20, 14, 3], [3, 34]],\n",
              " [[17, 16, 6], [2, 37]],\n",
              " [[25, 5, 2], [1, 31]],\n",
              " [[12, 7, 5], [1, 23]],\n",
              " [[13, 9, 2], [0, 24]],\n",
              " [[10, 13, 0], [1, 22]],\n",
              " [[9, 9, 1], [0, 19]],\n",
              " [[14, 1, 6], [1, 20]],\n",
              " [[11, 2, 1], [2, 12]],\n",
              " [[5, 6, 6], [0, 17]],\n",
              " [[8, 3, 4], [0, 15]],\n",
              " [[8, 2, 3], [0, 13]],\n",
              " [[11, 2, 2], [0, 15]],\n",
              " [[11, 1, 2], [0, 14]],\n",
              " [[9, 1, 2], [0, 12]],\n",
              " [[11167, 7691, 3676], [1745, 20789]]]"
            ]
          },
          "metadata": {},
          "execution_count": 194
        }
      ],
      "source": [
        "gpe_list = []\n",
        "for gpe in gpes:\n",
        "    if gpe != \"All\":\n",
        "        # slit the semi-colon seperated gpes into a list\n",
        "        split_list = df_tweets.Gpe.str.lower().str.split(\";\").apply(lambda d: d if isinstance(d, list) else [])\n",
        "        if type(gpe) != list:\n",
        "            df_tweets_gpe = df_tweets[[gpe in x for x in split_list]]\n",
        "        else:\n",
        "            # if type is lsit we check if just one of the elements in the list is present\n",
        "            # create all false boolean list\n",
        "            boolean_list = np.array([False for x in split_list])\n",
        "            for n in gpe:\n",
        "                # combine two list with elementwise logical or operator\n",
        "                boolean_list = boolean_list | np.array([n in x for x in split_list])\n",
        "            df_tweets_gpe = df_tweets[boolean_list]\n",
        "    else:\n",
        "        # if All dataframe of analysis it the entire dataset\n",
        "        df_tweets_gpe = df_tweets\n",
        "\n",
        "    # count for each class\n",
        "    class_list = []\n",
        "    for i, c in enumerate(classes):\n",
        "        counts  = df_tweets_gpe[c].value_counts()\n",
        "        label_list = []\n",
        "        \n",
        "        # count for each label of the class\n",
        "        for label in labels[i]:\n",
        "            \n",
        "            try:\n",
        "                label_list.append(counts[label])\n",
        "            except:\n",
        "                label_list.append(0)\n",
        "        class_list.append(label_list)\n",
        "    gpe_list.append(class_list)\n",
        "gpe_list"
      ]
    },
    {
      "cell_type": "code",
      "execution_count": 198,
      "metadata": {},
      "outputs": [
        {
          "output_type": "execute_result",
          "data": {
            "text/plain": [
              "              Positive  Negative   Neutral  Nr. of Tweets\n",
              "g7            0.993970  0.003015  0.003015          995.0\n",
              "india         0.528986  0.289855  0.181159          414.0\n",
              "uk            0.582329  0.341365  0.076305          249.0\n",
              "china         0.388889  0.491453  0.119658          234.0\n",
              "moderna       0.481013  0.240506  0.278481          158.0\n",
              "canada        0.526316  0.228070  0.245614          114.0\n",
              "taiwan        0.564103  0.307692  0.128205           78.0\n",
              "israel        0.445783  0.481928  0.072289           83.0\n",
              "germany       0.491803  0.278689  0.229508           61.0\n",
              "brazil        0.709091  0.218182  0.072727           55.0\n",
              "russia        0.571429  0.326531  0.102041           49.0\n",
              "japan         0.571429  0.400000  0.028571           35.0\n",
              "mexico        0.439024  0.341463  0.219512           41.0\n",
              "guatemala     0.142857  0.000000  0.857143           21.0\n",
              "texas         0.540541  0.378378  0.081081           37.0\n",
              "florida       0.435897  0.410256  0.153846           39.0\n",
              "nepal         0.781250  0.156250  0.062500           32.0\n",
              "california    0.500000  0.291667  0.208333           24.0\n",
              "australia     0.541667  0.375000  0.083333           24.0\n",
              "palestine     0.434783  0.565217  0.000000           23.0\n",
              "iran          0.473684  0.473684  0.052632           19.0\n",
              "ohio          0.666667  0.047619  0.285714           21.0\n",
              "france        0.785714  0.142857  0.071429           14.0\n",
              "biontech      0.294118  0.352941  0.352941           17.0\n",
              "thailand      0.533333  0.200000  0.266667           15.0\n",
              "dc            0.615385  0.153846  0.230769           13.0\n",
              "philippines   0.733333  0.133333  0.133333           15.0\n",
              "south africa  0.785714  0.071429  0.142857           14.0\n",
              "korea         0.750000  0.083333  0.166667           12.0\n",
              "All           0.495562  0.341306  0.163131        22534.0"
            ],
            "text/html": "<div>\n<style scoped>\n    .dataframe tbody tr th:only-of-type {\n        vertical-align: middle;\n    }\n\n    .dataframe tbody tr th {\n        vertical-align: top;\n    }\n\n    .dataframe thead th {\n        text-align: right;\n    }\n</style>\n<table border=\"1\" class=\"dataframe\">\n  <thead>\n    <tr style=\"text-align: right;\">\n      <th></th>\n      <th>Positive</th>\n      <th>Negative</th>\n      <th>Neutral</th>\n      <th>Nr. of Tweets</th>\n    </tr>\n  </thead>\n  <tbody>\n    <tr>\n      <th>g7</th>\n      <td>0.993970</td>\n      <td>0.003015</td>\n      <td>0.003015</td>\n      <td>995.0</td>\n    </tr>\n    <tr>\n      <th>india</th>\n      <td>0.528986</td>\n      <td>0.289855</td>\n      <td>0.181159</td>\n      <td>414.0</td>\n    </tr>\n    <tr>\n      <th>uk</th>\n      <td>0.582329</td>\n      <td>0.341365</td>\n      <td>0.076305</td>\n      <td>249.0</td>\n    </tr>\n    <tr>\n      <th>china</th>\n      <td>0.388889</td>\n      <td>0.491453</td>\n      <td>0.119658</td>\n      <td>234.0</td>\n    </tr>\n    <tr>\n      <th>moderna</th>\n      <td>0.481013</td>\n      <td>0.240506</td>\n      <td>0.278481</td>\n      <td>158.0</td>\n    </tr>\n    <tr>\n      <th>canada</th>\n      <td>0.526316</td>\n      <td>0.228070</td>\n      <td>0.245614</td>\n      <td>114.0</td>\n    </tr>\n    <tr>\n      <th>taiwan</th>\n      <td>0.564103</td>\n      <td>0.307692</td>\n      <td>0.128205</td>\n      <td>78.0</td>\n    </tr>\n    <tr>\n      <th>israel</th>\n      <td>0.445783</td>\n      <td>0.481928</td>\n      <td>0.072289</td>\n      <td>83.0</td>\n    </tr>\n    <tr>\n      <th>germany</th>\n      <td>0.491803</td>\n      <td>0.278689</td>\n      <td>0.229508</td>\n      <td>61.0</td>\n    </tr>\n    <tr>\n      <th>brazil</th>\n      <td>0.709091</td>\n      <td>0.218182</td>\n      <td>0.072727</td>\n      <td>55.0</td>\n    </tr>\n    <tr>\n      <th>russia</th>\n      <td>0.571429</td>\n      <td>0.326531</td>\n      <td>0.102041</td>\n      <td>49.0</td>\n    </tr>\n    <tr>\n      <th>japan</th>\n      <td>0.571429</td>\n      <td>0.400000</td>\n      <td>0.028571</td>\n      <td>35.0</td>\n    </tr>\n    <tr>\n      <th>mexico</th>\n      <td>0.439024</td>\n      <td>0.341463</td>\n      <td>0.219512</td>\n      <td>41.0</td>\n    </tr>\n    <tr>\n      <th>guatemala</th>\n      <td>0.142857</td>\n      <td>0.000000</td>\n      <td>0.857143</td>\n      <td>21.0</td>\n    </tr>\n    <tr>\n      <th>texas</th>\n      <td>0.540541</td>\n      <td>0.378378</td>\n      <td>0.081081</td>\n      <td>37.0</td>\n    </tr>\n    <tr>\n      <th>florida</th>\n      <td>0.435897</td>\n      <td>0.410256</td>\n      <td>0.153846</td>\n      <td>39.0</td>\n    </tr>\n    <tr>\n      <th>nepal</th>\n      <td>0.781250</td>\n      <td>0.156250</td>\n      <td>0.062500</td>\n      <td>32.0</td>\n    </tr>\n    <tr>\n      <th>california</th>\n      <td>0.500000</td>\n      <td>0.291667</td>\n      <td>0.208333</td>\n      <td>24.0</td>\n    </tr>\n    <tr>\n      <th>australia</th>\n      <td>0.541667</td>\n      <td>0.375000</td>\n      <td>0.083333</td>\n      <td>24.0</td>\n    </tr>\n    <tr>\n      <th>palestine</th>\n      <td>0.434783</td>\n      <td>0.565217</td>\n      <td>0.000000</td>\n      <td>23.0</td>\n    </tr>\n    <tr>\n      <th>iran</th>\n      <td>0.473684</td>\n      <td>0.473684</td>\n      <td>0.052632</td>\n      <td>19.0</td>\n    </tr>\n    <tr>\n      <th>ohio</th>\n      <td>0.666667</td>\n      <td>0.047619</td>\n      <td>0.285714</td>\n      <td>21.0</td>\n    </tr>\n    <tr>\n      <th>france</th>\n      <td>0.785714</td>\n      <td>0.142857</td>\n      <td>0.071429</td>\n      <td>14.0</td>\n    </tr>\n    <tr>\n      <th>biontech</th>\n      <td>0.294118</td>\n      <td>0.352941</td>\n      <td>0.352941</td>\n      <td>17.0</td>\n    </tr>\n    <tr>\n      <th>thailand</th>\n      <td>0.533333</td>\n      <td>0.200000</td>\n      <td>0.266667</td>\n      <td>15.0</td>\n    </tr>\n    <tr>\n      <th>dc</th>\n      <td>0.615385</td>\n      <td>0.153846</td>\n      <td>0.230769</td>\n      <td>13.0</td>\n    </tr>\n    <tr>\n      <th>philippines</th>\n      <td>0.733333</td>\n      <td>0.133333</td>\n      <td>0.133333</td>\n      <td>15.0</td>\n    </tr>\n    <tr>\n      <th>south africa</th>\n      <td>0.785714</td>\n      <td>0.071429</td>\n      <td>0.142857</td>\n      <td>14.0</td>\n    </tr>\n    <tr>\n      <th>korea</th>\n      <td>0.750000</td>\n      <td>0.083333</td>\n      <td>0.166667</td>\n      <td>12.0</td>\n    </tr>\n    <tr>\n      <th>All</th>\n      <td>0.495562</td>\n      <td>0.341306</td>\n      <td>0.163131</td>\n      <td>22534.0</td>\n    </tr>\n  </tbody>\n</table>\n</div>"
          },
          "metadata": {},
          "execution_count": 198
        }
      ],
      "source": [
        "gpe_sentiment_df = pd.DataFrame([gpe[0] for gpe in gpe_list])\n",
        "# build the index list by taking the first elements in case it is a list\n",
        "gpes_index = [x if type(x) == str else x[0] for x in gpes]\n",
        "gpe_sentiment_df.index = gpes_index\n",
        "gpe_sentiment_df.columns = labels[0]\n",
        "sums = []\n",
        "for gpe in gpes_index:\n",
        "    # sum for each row\n",
        "    s = gpe_sentiment_df.loc[gpe].sum()\n",
        "    sums.append(s)\n",
        "    \n",
        "    # devide the label counts by the entire class count for that condition to get probabilities\n",
        "    for column in gpe_sentiment_df.columns:\n",
        "        gpe_sentiment_df.loc[gpe, column] = gpe_sentiment_df.loc[gpe, column]/s\n",
        "# save the total number of Tweets in the dataframe\n",
        "gpe_sentiment_df[\"Nr. of Tweets\"] = sums\n",
        "gpe_sentiment_df"
      ]
    },
    {
      "cell_type": "code",
      "execution_count": 197,
      "metadata": {},
      "outputs": [
        {
          "output_type": "execute_result",
          "data": {
            "text/plain": [
              "                  True     False  Nr. of Tweets\n",
              "g7            0.000000  1.000000          995.0\n",
              "india         0.060386  0.939614          414.0\n",
              "uk            0.080321  0.919679          249.0\n",
              "china         0.106838  0.893162          234.0\n",
              "moderna       0.037975  0.962025          158.0\n",
              "canada        0.052632  0.947368          114.0\n",
              "taiwan        0.064103  0.935897           78.0\n",
              "israel        0.060241  0.939759           83.0\n",
              "germany       0.065574  0.934426           61.0\n",
              "brazil        0.109091  0.890909           55.0\n",
              "russia        0.142857  0.857143           49.0\n",
              "japan         0.085714  0.914286           35.0\n",
              "mexico        0.000000  1.000000           41.0\n",
              "guatemala     0.000000  1.000000           21.0\n",
              "texas         0.081081  0.918919           37.0\n",
              "florida       0.051282  0.948718           39.0\n",
              "nepal         0.031250  0.968750           32.0\n",
              "california    0.041667  0.958333           24.0\n",
              "australia     0.000000  1.000000           24.0\n",
              "palestine     0.043478  0.956522           23.0\n",
              "iran          0.000000  1.000000           19.0\n",
              "ohio          0.047619  0.952381           21.0\n",
              "france        0.142857  0.857143           14.0\n",
              "biontech      0.000000  1.000000           17.0\n",
              "thailand      0.000000  1.000000           15.0\n",
              "dc            0.000000  1.000000           13.0\n",
              "philippines   0.000000  1.000000           15.0\n",
              "south africa  0.000000  1.000000           14.0\n",
              "korea         0.000000  1.000000           12.0\n",
              "All           0.077439  0.922561        22534.0"
            ],
            "text/html": "<div>\n<style scoped>\n    .dataframe tbody tr th:only-of-type {\n        vertical-align: middle;\n    }\n\n    .dataframe tbody tr th {\n        vertical-align: top;\n    }\n\n    .dataframe thead th {\n        text-align: right;\n    }\n</style>\n<table border=\"1\" class=\"dataframe\">\n  <thead>\n    <tr style=\"text-align: right;\">\n      <th></th>\n      <th>True</th>\n      <th>False</th>\n      <th>Nr. of Tweets</th>\n    </tr>\n  </thead>\n  <tbody>\n    <tr>\n      <th>g7</th>\n      <td>0.000000</td>\n      <td>1.000000</td>\n      <td>995.0</td>\n    </tr>\n    <tr>\n      <th>india</th>\n      <td>0.060386</td>\n      <td>0.939614</td>\n      <td>414.0</td>\n    </tr>\n    <tr>\n      <th>uk</th>\n      <td>0.080321</td>\n      <td>0.919679</td>\n      <td>249.0</td>\n    </tr>\n    <tr>\n      <th>china</th>\n      <td>0.106838</td>\n      <td>0.893162</td>\n      <td>234.0</td>\n    </tr>\n    <tr>\n      <th>moderna</th>\n      <td>0.037975</td>\n      <td>0.962025</td>\n      <td>158.0</td>\n    </tr>\n    <tr>\n      <th>canada</th>\n      <td>0.052632</td>\n      <td>0.947368</td>\n      <td>114.0</td>\n    </tr>\n    <tr>\n      <th>taiwan</th>\n      <td>0.064103</td>\n      <td>0.935897</td>\n      <td>78.0</td>\n    </tr>\n    <tr>\n      <th>israel</th>\n      <td>0.060241</td>\n      <td>0.939759</td>\n      <td>83.0</td>\n    </tr>\n    <tr>\n      <th>germany</th>\n      <td>0.065574</td>\n      <td>0.934426</td>\n      <td>61.0</td>\n    </tr>\n    <tr>\n      <th>brazil</th>\n      <td>0.109091</td>\n      <td>0.890909</td>\n      <td>55.0</td>\n    </tr>\n    <tr>\n      <th>russia</th>\n      <td>0.142857</td>\n      <td>0.857143</td>\n      <td>49.0</td>\n    </tr>\n    <tr>\n      <th>japan</th>\n      <td>0.085714</td>\n      <td>0.914286</td>\n      <td>35.0</td>\n    </tr>\n    <tr>\n      <th>mexico</th>\n      <td>0.000000</td>\n      <td>1.000000</td>\n      <td>41.0</td>\n    </tr>\n    <tr>\n      <th>guatemala</th>\n      <td>0.000000</td>\n      <td>1.000000</td>\n      <td>21.0</td>\n    </tr>\n    <tr>\n      <th>texas</th>\n      <td>0.081081</td>\n      <td>0.918919</td>\n      <td>37.0</td>\n    </tr>\n    <tr>\n      <th>florida</th>\n      <td>0.051282</td>\n      <td>0.948718</td>\n      <td>39.0</td>\n    </tr>\n    <tr>\n      <th>nepal</th>\n      <td>0.031250</td>\n      <td>0.968750</td>\n      <td>32.0</td>\n    </tr>\n    <tr>\n      <th>california</th>\n      <td>0.041667</td>\n      <td>0.958333</td>\n      <td>24.0</td>\n    </tr>\n    <tr>\n      <th>australia</th>\n      <td>0.000000</td>\n      <td>1.000000</td>\n      <td>24.0</td>\n    </tr>\n    <tr>\n      <th>palestine</th>\n      <td>0.043478</td>\n      <td>0.956522</td>\n      <td>23.0</td>\n    </tr>\n    <tr>\n      <th>iran</th>\n      <td>0.000000</td>\n      <td>1.000000</td>\n      <td>19.0</td>\n    </tr>\n    <tr>\n      <th>ohio</th>\n      <td>0.047619</td>\n      <td>0.952381</td>\n      <td>21.0</td>\n    </tr>\n    <tr>\n      <th>france</th>\n      <td>0.142857</td>\n      <td>0.857143</td>\n      <td>14.0</td>\n    </tr>\n    <tr>\n      <th>biontech</th>\n      <td>0.000000</td>\n      <td>1.000000</td>\n      <td>17.0</td>\n    </tr>\n    <tr>\n      <th>thailand</th>\n      <td>0.000000</td>\n      <td>1.000000</td>\n      <td>15.0</td>\n    </tr>\n    <tr>\n      <th>dc</th>\n      <td>0.000000</td>\n      <td>1.000000</td>\n      <td>13.0</td>\n    </tr>\n    <tr>\n      <th>philippines</th>\n      <td>0.000000</td>\n      <td>1.000000</td>\n      <td>15.0</td>\n    </tr>\n    <tr>\n      <th>south africa</th>\n      <td>0.000000</td>\n      <td>1.000000</td>\n      <td>14.0</td>\n    </tr>\n    <tr>\n      <th>korea</th>\n      <td>0.000000</td>\n      <td>1.000000</td>\n      <td>12.0</td>\n    </tr>\n    <tr>\n      <th>All</th>\n      <td>0.077439</td>\n      <td>0.922561</td>\n      <td>22534.0</td>\n    </tr>\n  </tbody>\n</table>\n</div>"
          },
          "metadata": {},
          "execution_count": 197
        }
      ],
      "source": [
        "gpe_hate_df = pd.DataFrame([gpe[1] for gpe in gpe_list])\n",
        "gpes_index = [x if type(x) == str else x[0] for x in gpes]\n",
        "gpe_hate_df.index = gpes_index\n",
        "gpe_hate_df.columns = labels[1]\n",
        "sums = []\n",
        "for gpe in gpes_index:\n",
        "    s = gpe_hate_df.loc[gpe].sum()\n",
        "    sums.append(s)\n",
        "    for column in gpe_hate_df.columns:\n",
        "        gpe_hate_df.loc[gpe, column] = gpe_hate_df.loc[gpe, column]/s\n",
        "gpe_hate_df[\"Nr. of Tweets\"] = sums\n",
        "gpe_hate_df"
      ]
    },
    {
      "cell_type": "code",
      "execution_count": null,
      "metadata": {},
      "outputs": [],
      "source": []
    }
  ]
}