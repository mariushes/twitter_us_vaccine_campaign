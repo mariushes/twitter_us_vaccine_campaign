{
 "cells": [
  {
   "cell_type": "markdown",
   "metadata": {},
   "source": [
    "# Topic Modeling\n",
    "Based on: Social Media Analytics – Introduction to Text Mining – Topic Modeling\n",
    "\n",
    "by (c) Nuno Antonio 2019-2021 Version 1.10"
   ]
  },
  {
   "cell_type": "markdown",
   "metadata": {},
   "source": [
    "### Initial setup"
   ]
  },
  {
   "cell_type": "code",
   "execution_count": 1,
   "metadata": {},
   "outputs": [],
   "source": [
    "# Import packages\n",
    "import csv\n",
    "import pandas as pd\n",
    "import numpy as np\n",
    "import nltk \n",
    "import re\n",
    "from bs4 import BeautifulSoup\n",
    "from nltk.tokenize import word_tokenize\n",
    "from nltk.corpus import stopwords\n",
    "from nltk.stem import WordNetLemmatizer \n",
    "\n",
    "import gensim         \n",
    "import gensim.corpora as corpora\n",
    "from gensim.utils import simple_preprocess\n",
    "from gensim.models import CoherenceModel\n",
    "\n",
    "import spacy\n",
    "\n",
    "import pyLDAvis\n",
    "#import pyLDAvis.gensim\n",
    "\n",
    "# For pyLDAvis new version - replace the previous line\n",
    "import pyLDAvis.gensim_models as gensimvis\n",
    "pyLDAvis.enable_notebook()\n",
    "\n",
    "\n",
    "import matplotlib.pyplot as plt\n",
    "\n",
    "from emot.emo_unicode import UNICODE_EMO, EMOTICONS\n",
    "import emoji"
   ]
  },
  {
   "cell_type": "code",
   "execution_count": 2,
   "metadata": {},
   "outputs": [],
   "source": [
    "# Just because of versions on my computer\n",
    "import warnings\n",
    "warnings.filterwarnings(\"ignore\", category=DeprecationWarning)"
   ]
  },
  {
   "cell_type": "code",
   "execution_count": 3,
   "metadata": {},
   "outputs": [],
   "source": [
    "# Load dataset\n",
    "base_path = \"Data/\"\n",
    "ds = pd.read_excel(base_path + \"Tweets_cleaned.xlsx\")"
   ]
  },
  {
   "cell_type": "markdown",
   "metadata": {},
   "source": [
    "### Functions"
   ]
  },
  {
   "cell_type": "code",
   "execution_count": 4,
   "metadata": {},
   "outputs": [],
   "source": [
    "# Replace emojis and smileys\n",
    "\n",
    "# Converting emojis to words\n",
    "# Using both emot and emoji package to cover missing emojis\n",
    "def convert_emojis(text):\n",
    "    # from https://towardsdatascience.com/text-preprocessing-for-data-scientist-3d2419c8199d\n",
    "    for emot in UNICODE_EMO:\n",
    "        text = text.replace(emot, \"_\".join(UNICODE_EMO[emot].replace(\",\",\"\").replace(\":\",\"\").split()))\n",
    "\n",
    "    emoji.demojize(text, delimiters=(\"\", \"\")) \n",
    "    return text\n",
    "# Converting emoticons to words   \n",
    "# from https://towardsdatascience.com/text-preprocessing-for-data-scientist-3d2419c8199d \n",
    "def convert_emoticons(text):\n",
    "    for emot in EMOTICONS:\n",
    "        text = re.sub(u'('+emot+')', \"_\".join(EMOTICONS[emot].replace(\",\",\"\").split()), text)\n",
    "    return text\n",
    "\n",
    "def remove_emoji(text):\n",
    "    for emot in UNICODE_EMO:\n",
    "        text = text.replace(emot, \"\")\n",
    "    return text\n",
    "\n",
    "def remove_emoticon(text):\n",
    "    for emot in EMOTICONS:\n",
    "        text = re.sub(u'('+emot+')', \"\", text)\n",
    "    return text\n",
    "\n"
   ]
  },
  {
   "cell_type": "code",
   "execution_count": 5,
   "metadata": {},
   "outputs": [],
   "source": [
    "# Text preprocessing\n",
    "def textPreProcess(rawText, removeHTML=True, charsToRemove = r'\\?|\\.|\\!|\\;|\\.|\\\"|\\,|\\(|\\)|\\&|\\:|\\-', removeNumbers=True, removeLineBreaks=False, specialCharsToRemove = r'[^\\x00-\\xfd]', convertToLower=True, removeConsecutiveSpaces=True, convert_emojis=False, remove_emojis = False):\n",
    "    cleanedText = []\n",
    "    for x in (rawText[:]): \n",
    "        \n",
    "        if type(x) != str:\n",
    "            print(\"Type: \", str(type(x)))\n",
    "            x = str(x)\n",
    "        \n",
    "        # Remove HTML\n",
    "        if removeHTML:\n",
    "            procText = BeautifulSoup(x,'html.parser').get_text()\n",
    "\n",
    "        if convert_emojis:\n",
    "            procText = convert_emojis(procText)\n",
    "            procText = convert_emoticons(procText)\n",
    "        \n",
    "        if remove_emojis:\n",
    "            procText = remove_emoji(procText)\n",
    "            procText = remove_emoticon(procText)\n",
    "\n",
    "         # Remove punctuation and other special characters\n",
    "        if len(charsToRemove)>0:\n",
    "            procText = re.sub(charsToRemove,' ',procText)\n",
    "\n",
    "        # Remove numbers\n",
    "        if removeNumbers:\n",
    "            procText = re.sub(r'\\d+',' ',procText)\n",
    "\n",
    "        # Remove line breaks\n",
    "        if removeLineBreaks:\n",
    "            procText = procText.replace('\\n',' ').replace('\\r', '')\n",
    "\n",
    "        # Remove special characters\n",
    "        if len(specialCharsToRemove)>0:\n",
    "            procText = re.sub(specialCharsToRemove,' ',procText)\n",
    "\n",
    "        # Normalize to lower case\n",
    "        if convertToLower:\n",
    "            procText = procText.lower() \n",
    "\n",
    "        # Replace multiple consecutive spaces with just one space\n",
    "        if removeConsecutiveSpaces:\n",
    "            procText = re.sub(' +', ' ', procText)\n",
    "\n",
    "\n",
    "        cleanedText.append(procText)\n",
    "\n",
    "\n",
    "    return cleanedText"
   ]
  },
  {
   "cell_type": "code",
   "execution_count": 6,
   "metadata": {},
   "outputs": [],
   "source": [
    "# Tokenize texts\n",
    "def tokenize_words(texts):\n",
    "    words_new = []\n",
    "    for w in (texts[:]):\n",
    "        w_token = word_tokenize(w)\n",
    "        if w_token != '':\n",
    "            words_new.append(w_token)\n",
    "    return words_new"
   ]
  },
  {
   "cell_type": "code",
   "execution_count": 7,
   "metadata": {},
   "outputs": [],
   "source": [
    "# Function to recreate text from words\n",
    "def recreateText(words):\n",
    "    text_new = []\n",
    "    for w in (words[:]):\n",
    "        temp_str = (' ').join(w)\n",
    "        text_new.append(temp_str)\n",
    "    return text_new"
   ]
  },
  {
   "cell_type": "code",
   "execution_count": 8,
   "metadata": {},
   "outputs": [],
   "source": [
    "# Function to remove stop words\n",
    "def removeStopWords(texts, stop_words):\n",
    "  procText = []\n",
    "  for t in (texts[:]):\n",
    "    cleaned_text = [w for w in t[:] if not w in stop_words]\n",
    "    procText.append(cleaned_text)\n",
    "  return procText"
   ]
  },
  {
   "cell_type": "code",
   "execution_count": 9,
   "metadata": {},
   "outputs": [],
   "source": [
    "# Function to lemmatize words\n",
    "def lemmatize(words):\n",
    "  lemmatizer = WordNetLemmatizer()\n",
    "  procText = []\n",
    "  for w in (words[:]):\n",
    "    lemmatized_word = [lemmatizer.lemmatize(x) for x in (w[:])]\n",
    "    procText.append(lemmatized_word)\n",
    "  return procText"
   ]
  },
  {
   "cell_type": "markdown",
   "metadata": {},
   "source": [
    "### Analysis"
   ]
  },
  {
   "cell_type": "code",
   "execution_count": 10,
   "metadata": {},
   "outputs": [
    {
     "output_type": "stream",
     "name": "stdout",
     "text": [
      "Type:  <class 'int'>\n"
     ]
    }
   ],
   "source": [
    "# Preprocess text \n",
    "processedTweets =  pd.DataFrame(data=textPreProcess(ds.text, removeLineBreaks=True, removeNumbers=True, convertToLower=True, convert_emojis=False, remove_emojis=True), columns=['PreProcessedText']) "
   ]
  },
  {
   "cell_type": "code",
   "execution_count": 21,
   "metadata": {},
   "outputs": [],
   "source": [
    "# Tokekinze words\n",
    "processedTweets['Words'] =  tokenize_words(processedTweets['PreProcessedText'])\n",
    "\n",
    "# Remove stopwords\n",
    "stop_words = set(stopwords.words('english'))\n",
    "stop_words.update([\"vaccine\", \"vaccination\", \"vax\", \"covid\", \"vaccinated\"])\n",
    "processedTweets['WordsCleaned'] = removeStopWords(processedTweets['Words'], stop_words)\n",
    "\n",
    "# Lemmative words\n",
    "processedTweets['WordsLemmatized'] = lemmatize(processedTweets['WordsCleaned'])"
   ]
  },
  {
   "cell_type": "code",
   "execution_count": 22,
   "metadata": {},
   "outputs": [
    {
     "output_type": "execute_result",
     "data": {
      "text/plain": [
       "                                        PreProcessedText  \\\n",
       "0      doesn't vaccine approval typically take and mo...   \n",
       "1      you're right too bad this vaccine doesn't have...   \n",
       "2                                   the vaccine is free    \n",
       "3       the world needs vaccine access now the must s...   \n",
       "4      but you can get it i remember getting my mumps...   \n",
       "...                                                  ...   \n",
       "22529  the country need to check on people who take o...   \n",
       "22530  why can you not go maskless with out vaccine y...   \n",
       "22531  you say the immunocomprimised should discuss t...   \n",
       "22532  well kate not everyone is vaccinated and the v...   \n",
       "22533  i disagree look at the nyc and charlottesville...   \n",
       "\n",
       "                                                   Words  \\\n",
       "0      [does, n't, vaccine, approval, typically, take...   \n",
       "1      [you, 're, right, too, bad, this, vaccine, doe...   \n",
       "2                               [the, vaccine, is, free]   \n",
       "3      [the, world, needs, vaccine, access, now, the,...   \n",
       "4      [but, you, can, get, it, i, remember, getting,...   \n",
       "...                                                  ...   \n",
       "22529  [the, country, need, to, check, on, people, wh...   \n",
       "22530  [why, can, you, not, go, maskless, with, out, ...   \n",
       "22531  [you, say, the, immunocomprimised, should, dis...   \n",
       "22532  [well, kate, not, everyone, is, vaccinated, an...   \n",
       "22533  [i, disagree, look, at, the, nyc, and, charlot...   \n",
       "\n",
       "                                            WordsCleaned  \\\n",
       "0      [n't, approval, typically, take, months, askin...   \n",
       "1      ['re, right, bad, n't, decades, research, dont...   \n",
       "2                                                 [free]   \n",
       "3      [world, needs, access, must, step, sharing, bi...   \n",
       "4      [get, remember, getting, mumps, never, got, mu...   \n",
       "...                                                  ...   \n",
       "22529  [country, need, check, people, take, masks, wi...   \n",
       "22530        [go, maskless, still, catch/transmit, mask]   \n",
       "22531  [say, immunocomprimised, discuss, need, person...   \n",
       "22532  [well, kate, everyone, %, effective, perhaps, ...   \n",
       "22533  [disagree, look, nyc, charlottesville, approac...   \n",
       "\n",
       "                                         WordsLemmatized  \n",
       "0      [n't, approval, typically, take, month, asking...  \n",
       "1      ['re, right, bad, n't, decade, research, dont,...  \n",
       "2                                                 [free]  \n",
       "3      [world, need, access, must, step, sharing, bil...  \n",
       "4      [get, remember, getting, mumps, never, got, mu...  \n",
       "...                                                  ...  \n",
       "22529  [country, need, check, people, take, mask, wit...  \n",
       "22530        [go, maskless, still, catch/transmit, mask]  \n",
       "22531  [say, immunocomprimised, discus, need, persona...  \n",
       "22532  [well, kate, everyone, %, effective, perhaps, ...  \n",
       "22533  [disagree, look, nyc, charlottesville, approac...  \n",
       "\n",
       "[22534 rows x 4 columns]"
      ],
      "text/html": "<div>\n<style scoped>\n    .dataframe tbody tr th:only-of-type {\n        vertical-align: middle;\n    }\n\n    .dataframe tbody tr th {\n        vertical-align: top;\n    }\n\n    .dataframe thead th {\n        text-align: right;\n    }\n</style>\n<table border=\"1\" class=\"dataframe\">\n  <thead>\n    <tr style=\"text-align: right;\">\n      <th></th>\n      <th>PreProcessedText</th>\n      <th>Words</th>\n      <th>WordsCleaned</th>\n      <th>WordsLemmatized</th>\n    </tr>\n  </thead>\n  <tbody>\n    <tr>\n      <th>0</th>\n      <td>doesn't vaccine approval typically take and mo...</td>\n      <td>[does, n't, vaccine, approval, typically, take...</td>\n      <td>[n't, approval, typically, take, months, askin...</td>\n      <td>[n't, approval, typically, take, month, asking...</td>\n    </tr>\n    <tr>\n      <th>1</th>\n      <td>you're right too bad this vaccine doesn't have...</td>\n      <td>[you, 're, right, too, bad, this, vaccine, doe...</td>\n      <td>['re, right, bad, n't, decades, research, dont...</td>\n      <td>['re, right, bad, n't, decade, research, dont,...</td>\n    </tr>\n    <tr>\n      <th>2</th>\n      <td>the vaccine is free</td>\n      <td>[the, vaccine, is, free]</td>\n      <td>[free]</td>\n      <td>[free]</td>\n    </tr>\n    <tr>\n      <th>3</th>\n      <td>the world needs vaccine access now the must s...</td>\n      <td>[the, world, needs, vaccine, access, now, the,...</td>\n      <td>[world, needs, access, must, step, sharing, bi...</td>\n      <td>[world, need, access, must, step, sharing, bil...</td>\n    </tr>\n    <tr>\n      <th>4</th>\n      <td>but you can get it i remember getting my mumps...</td>\n      <td>[but, you, can, get, it, i, remember, getting,...</td>\n      <td>[get, remember, getting, mumps, never, got, mu...</td>\n      <td>[get, remember, getting, mumps, never, got, mu...</td>\n    </tr>\n    <tr>\n      <th>...</th>\n      <td>...</td>\n      <td>...</td>\n      <td>...</td>\n      <td>...</td>\n    </tr>\n    <tr>\n      <th>22529</th>\n      <td>the country need to check on people who take o...</td>\n      <td>[the, country, need, to, check, on, people, wh...</td>\n      <td>[country, need, check, people, take, masks, wi...</td>\n      <td>[country, need, check, people, take, mask, wit...</td>\n    </tr>\n    <tr>\n      <th>22530</th>\n      <td>why can you not go maskless with out vaccine y...</td>\n      <td>[why, can, you, not, go, maskless, with, out, ...</td>\n      <td>[go, maskless, still, catch/transmit, mask]</td>\n      <td>[go, maskless, still, catch/transmit, mask]</td>\n    </tr>\n    <tr>\n      <th>22531</th>\n      <td>you say the immunocomprimised should discuss t...</td>\n      <td>[you, say, the, immunocomprimised, should, dis...</td>\n      <td>[say, immunocomprimised, discuss, need, person...</td>\n      <td>[say, immunocomprimised, discus, need, persona...</td>\n    </tr>\n    <tr>\n      <th>22532</th>\n      <td>well kate not everyone is vaccinated and the v...</td>\n      <td>[well, kate, not, everyone, is, vaccinated, an...</td>\n      <td>[well, kate, everyone, %, effective, perhaps, ...</td>\n      <td>[well, kate, everyone, %, effective, perhaps, ...</td>\n    </tr>\n    <tr>\n      <th>22533</th>\n      <td>i disagree look at the nyc and charlottesville...</td>\n      <td>[i, disagree, look, at, the, nyc, and, charlot...</td>\n      <td>[disagree, look, nyc, charlottesville, approac...</td>\n      <td>[disagree, look, nyc, charlottesville, approac...</td>\n    </tr>\n  </tbody>\n</table>\n<p>22534 rows × 4 columns</p>\n</div>"
     },
     "metadata": {},
     "execution_count": 22
    }
   ],
   "source": [
    "processedTweets"
   ]
  },
  {
   "cell_type": "code",
   "execution_count": 23,
   "metadata": {},
   "outputs": [],
   "source": [
    "# Create dictionary (needed for LDA)\n",
    "id2word = corpora.Dictionary(processedTweets['WordsLemmatized'])"
   ]
  },
  {
   "cell_type": "code",
   "execution_count": 24,
   "metadata": {},
   "outputs": [],
   "source": [
    "# Create corpus\n",
    "corpus = processedTweets['WordsLemmatized']"
   ]
  },
  {
   "cell_type": "code",
   "execution_count": 25,
   "metadata": {},
   "outputs": [],
   "source": [
    "# Create TDM (Frequency)\n",
    "tdm = [id2word.doc2bow(text) for text in corpus]"
   ]
  },
  {
   "cell_type": "code",
   "execution_count": 30,
   "metadata": {},
   "outputs": [
    {
     "output_type": "display_data",
     "data": {
      "text/plain": "<Figure size 432x288 with 1 Axes>",
      "image/svg+xml": "<?xml version=\"1.0\" encoding=\"utf-8\" standalone=\"no\"?>\n<!DOCTYPE svg PUBLIC \"-//W3C//DTD SVG 1.1//EN\"\n  \"http://www.w3.org/Graphics/SVG/1.1/DTD/svg11.dtd\">\n<!-- Created with matplotlib (https://matplotlib.org/) -->\n<svg height=\"262.19625pt\" version=\"1.1\" viewBox=\"0 0 392.14375 262.19625\" width=\"392.14375pt\" xmlns=\"http://www.w3.org/2000/svg\" xmlns:xlink=\"http://www.w3.org/1999/xlink\">\n <defs>\n  <style type=\"text/css\">\n*{stroke-linecap:butt;stroke-linejoin:round;}\n  </style>\n </defs>\n <g id=\"figure_1\">\n  <g id=\"patch_1\">\n   <path d=\"M 0 262.19625 \nL 392.14375 262.19625 \nL 392.14375 0 \nL 0 0 \nz\n\" style=\"fill:none;\"/>\n  </g>\n  <g id=\"axes_1\">\n   <g id=\"patch_2\">\n    <path d=\"M 50.14375 224.64 \nL 384.94375 224.64 \nL 384.94375 7.2 \nL 50.14375 7.2 \nz\n\" style=\"fill:#ffffff;\"/>\n   </g>\n   <g id=\"matplotlib.axis_1\">\n    <g id=\"xtick_1\">\n     <g id=\"line2d_1\">\n      <defs>\n       <path d=\"M 0 0 \nL 0 3.5 \n\" id=\"m6d8c7dee8e\" style=\"stroke:#000000;stroke-width:0.8;\"/>\n      </defs>\n      <g>\n       <use style=\"stroke:#000000;stroke-width:0.8;\" x=\"65.361932\" xlink:href=\"#m6d8c7dee8e\" y=\"224.64\"/>\n      </g>\n     </g>\n     <g id=\"text_1\">\n      <!-- 2 -->\n      <defs>\n       <path d=\"M 19.1875 8.296875 \nL 53.609375 8.296875 \nL 53.609375 0 \nL 7.328125 0 \nL 7.328125 8.296875 \nQ 12.9375 14.109375 22.625 23.890625 \nQ 32.328125 33.6875 34.8125 36.53125 \nQ 39.546875 41.84375 41.421875 45.53125 \nQ 43.3125 49.21875 43.3125 52.78125 \nQ 43.3125 58.59375 39.234375 62.25 \nQ 35.15625 65.921875 28.609375 65.921875 \nQ 23.96875 65.921875 18.8125 64.3125 \nQ 13.671875 62.703125 7.8125 59.421875 \nL 7.8125 69.390625 \nQ 13.765625 71.78125 18.9375 73 \nQ 24.125 74.21875 28.421875 74.21875 \nQ 39.75 74.21875 46.484375 68.546875 \nQ 53.21875 62.890625 53.21875 53.421875 \nQ 53.21875 48.921875 51.53125 44.890625 \nQ 49.859375 40.875 45.40625 35.40625 \nQ 44.1875 33.984375 37.640625 27.21875 \nQ 31.109375 20.453125 19.1875 8.296875 \nz\n\" id=\"DejaVuSans-50\"/>\n      </defs>\n      <g transform=\"translate(62.180682 239.238438)scale(0.1 -0.1)\">\n       <use xlink:href=\"#DejaVuSans-50\"/>\n      </g>\n     </g>\n    </g>\n    <g id=\"xtick_2\">\n     <g id=\"line2d_2\">\n      <g>\n       <use style=\"stroke:#000000;stroke-width:0.8;\" x=\"103.407386\" xlink:href=\"#m6d8c7dee8e\" y=\"224.64\"/>\n      </g>\n     </g>\n     <g id=\"text_2\">\n      <!-- 4 -->\n      <defs>\n       <path d=\"M 37.796875 64.3125 \nL 12.890625 25.390625 \nL 37.796875 25.390625 \nz\nM 35.203125 72.90625 \nL 47.609375 72.90625 \nL 47.609375 25.390625 \nL 58.015625 25.390625 \nL 58.015625 17.1875 \nL 47.609375 17.1875 \nL 47.609375 0 \nL 37.796875 0 \nL 37.796875 17.1875 \nL 4.890625 17.1875 \nL 4.890625 26.703125 \nz\n\" id=\"DejaVuSans-52\"/>\n      </defs>\n      <g transform=\"translate(100.226136 239.238438)scale(0.1 -0.1)\">\n       <use xlink:href=\"#DejaVuSans-52\"/>\n      </g>\n     </g>\n    </g>\n    <g id=\"xtick_3\">\n     <g id=\"line2d_3\">\n      <g>\n       <use style=\"stroke:#000000;stroke-width:0.8;\" x=\"141.452841\" xlink:href=\"#m6d8c7dee8e\" y=\"224.64\"/>\n      </g>\n     </g>\n     <g id=\"text_3\">\n      <!-- 6 -->\n      <defs>\n       <path d=\"M 33.015625 40.375 \nQ 26.375 40.375 22.484375 35.828125 \nQ 18.609375 31.296875 18.609375 23.390625 \nQ 18.609375 15.53125 22.484375 10.953125 \nQ 26.375 6.390625 33.015625 6.390625 \nQ 39.65625 6.390625 43.53125 10.953125 \nQ 47.40625 15.53125 47.40625 23.390625 \nQ 47.40625 31.296875 43.53125 35.828125 \nQ 39.65625 40.375 33.015625 40.375 \nz\nM 52.59375 71.296875 \nL 52.59375 62.3125 \nQ 48.875 64.0625 45.09375 64.984375 \nQ 41.3125 65.921875 37.59375 65.921875 \nQ 27.828125 65.921875 22.671875 59.328125 \nQ 17.53125 52.734375 16.796875 39.40625 \nQ 19.671875 43.65625 24.015625 45.921875 \nQ 28.375 48.1875 33.59375 48.1875 \nQ 44.578125 48.1875 50.953125 41.515625 \nQ 57.328125 34.859375 57.328125 23.390625 \nQ 57.328125 12.15625 50.6875 5.359375 \nQ 44.046875 -1.421875 33.015625 -1.421875 \nQ 20.359375 -1.421875 13.671875 8.265625 \nQ 6.984375 17.96875 6.984375 36.375 \nQ 6.984375 53.65625 15.1875 63.9375 \nQ 23.390625 74.21875 37.203125 74.21875 \nQ 40.921875 74.21875 44.703125 73.484375 \nQ 48.484375 72.75 52.59375 71.296875 \nz\n\" id=\"DejaVuSans-54\"/>\n      </defs>\n      <g transform=\"translate(138.271591 239.238438)scale(0.1 -0.1)\">\n       <use xlink:href=\"#DejaVuSans-54\"/>\n      </g>\n     </g>\n    </g>\n    <g id=\"xtick_4\">\n     <g id=\"line2d_4\">\n      <g>\n       <use style=\"stroke:#000000;stroke-width:0.8;\" x=\"179.498295\" xlink:href=\"#m6d8c7dee8e\" y=\"224.64\"/>\n      </g>\n     </g>\n     <g id=\"text_4\">\n      <!-- 8 -->\n      <defs>\n       <path d=\"M 31.78125 34.625 \nQ 24.75 34.625 20.71875 30.859375 \nQ 16.703125 27.09375 16.703125 20.515625 \nQ 16.703125 13.921875 20.71875 10.15625 \nQ 24.75 6.390625 31.78125 6.390625 \nQ 38.8125 6.390625 42.859375 10.171875 \nQ 46.921875 13.96875 46.921875 20.515625 \nQ 46.921875 27.09375 42.890625 30.859375 \nQ 38.875 34.625 31.78125 34.625 \nz\nM 21.921875 38.8125 \nQ 15.578125 40.375 12.03125 44.71875 \nQ 8.5 49.078125 8.5 55.328125 \nQ 8.5 64.0625 14.71875 69.140625 \nQ 20.953125 74.21875 31.78125 74.21875 \nQ 42.671875 74.21875 48.875 69.140625 \nQ 55.078125 64.0625 55.078125 55.328125 \nQ 55.078125 49.078125 51.53125 44.71875 \nQ 48 40.375 41.703125 38.8125 \nQ 48.828125 37.15625 52.796875 32.3125 \nQ 56.78125 27.484375 56.78125 20.515625 \nQ 56.78125 9.90625 50.3125 4.234375 \nQ 43.84375 -1.421875 31.78125 -1.421875 \nQ 19.734375 -1.421875 13.25 4.234375 \nQ 6.78125 9.90625 6.78125 20.515625 \nQ 6.78125 27.484375 10.78125 32.3125 \nQ 14.796875 37.15625 21.921875 38.8125 \nz\nM 18.3125 54.390625 \nQ 18.3125 48.734375 21.84375 45.5625 \nQ 25.390625 42.390625 31.78125 42.390625 \nQ 38.140625 42.390625 41.71875 45.5625 \nQ 45.3125 48.734375 45.3125 54.390625 \nQ 45.3125 60.0625 41.71875 63.234375 \nQ 38.140625 66.40625 31.78125 66.40625 \nQ 25.390625 66.40625 21.84375 63.234375 \nQ 18.3125 60.0625 18.3125 54.390625 \nz\n\" id=\"DejaVuSans-56\"/>\n      </defs>\n      <g transform=\"translate(176.317045 239.238438)scale(0.1 -0.1)\">\n       <use xlink:href=\"#DejaVuSans-56\"/>\n      </g>\n     </g>\n    </g>\n    <g id=\"xtick_5\">\n     <g id=\"line2d_5\">\n      <g>\n       <use style=\"stroke:#000000;stroke-width:0.8;\" x=\"217.54375\" xlink:href=\"#m6d8c7dee8e\" y=\"224.64\"/>\n      </g>\n     </g>\n     <g id=\"text_5\">\n      <!-- 10 -->\n      <defs>\n       <path d=\"M 12.40625 8.296875 \nL 28.515625 8.296875 \nL 28.515625 63.921875 \nL 10.984375 60.40625 \nL 10.984375 69.390625 \nL 28.421875 72.90625 \nL 38.28125 72.90625 \nL 38.28125 8.296875 \nL 54.390625 8.296875 \nL 54.390625 0 \nL 12.40625 0 \nz\n\" id=\"DejaVuSans-49\"/>\n       <path d=\"M 31.78125 66.40625 \nQ 24.171875 66.40625 20.328125 58.90625 \nQ 16.5 51.421875 16.5 36.375 \nQ 16.5 21.390625 20.328125 13.890625 \nQ 24.171875 6.390625 31.78125 6.390625 \nQ 39.453125 6.390625 43.28125 13.890625 \nQ 47.125 21.390625 47.125 36.375 \nQ 47.125 51.421875 43.28125 58.90625 \nQ 39.453125 66.40625 31.78125 66.40625 \nz\nM 31.78125 74.21875 \nQ 44.046875 74.21875 50.515625 64.515625 \nQ 56.984375 54.828125 56.984375 36.375 \nQ 56.984375 17.96875 50.515625 8.265625 \nQ 44.046875 -1.421875 31.78125 -1.421875 \nQ 19.53125 -1.421875 13.0625 8.265625 \nQ 6.59375 17.96875 6.59375 36.375 \nQ 6.59375 54.828125 13.0625 64.515625 \nQ 19.53125 74.21875 31.78125 74.21875 \nz\n\" id=\"DejaVuSans-48\"/>\n      </defs>\n      <g transform=\"translate(211.18125 239.238438)scale(0.1 -0.1)\">\n       <use xlink:href=\"#DejaVuSans-49\"/>\n       <use x=\"63.623047\" xlink:href=\"#DejaVuSans-48\"/>\n      </g>\n     </g>\n    </g>\n    <g id=\"xtick_6\">\n     <g id=\"line2d_6\">\n      <g>\n       <use style=\"stroke:#000000;stroke-width:0.8;\" x=\"255.589205\" xlink:href=\"#m6d8c7dee8e\" y=\"224.64\"/>\n      </g>\n     </g>\n     <g id=\"text_6\">\n      <!-- 12 -->\n      <g transform=\"translate(249.226705 239.238438)scale(0.1 -0.1)\">\n       <use xlink:href=\"#DejaVuSans-49\"/>\n       <use x=\"63.623047\" xlink:href=\"#DejaVuSans-50\"/>\n      </g>\n     </g>\n    </g>\n    <g id=\"xtick_7\">\n     <g id=\"line2d_7\">\n      <g>\n       <use style=\"stroke:#000000;stroke-width:0.8;\" x=\"293.634659\" xlink:href=\"#m6d8c7dee8e\" y=\"224.64\"/>\n      </g>\n     </g>\n     <g id=\"text_7\">\n      <!-- 14 -->\n      <g transform=\"translate(287.272159 239.238438)scale(0.1 -0.1)\">\n       <use xlink:href=\"#DejaVuSans-49\"/>\n       <use x=\"63.623047\" xlink:href=\"#DejaVuSans-52\"/>\n      </g>\n     </g>\n    </g>\n    <g id=\"xtick_8\">\n     <g id=\"line2d_8\">\n      <g>\n       <use style=\"stroke:#000000;stroke-width:0.8;\" x=\"331.680114\" xlink:href=\"#m6d8c7dee8e\" y=\"224.64\"/>\n      </g>\n     </g>\n     <g id=\"text_8\">\n      <!-- 16 -->\n      <g transform=\"translate(325.317614 239.238438)scale(0.1 -0.1)\">\n       <use xlink:href=\"#DejaVuSans-49\"/>\n       <use x=\"63.623047\" xlink:href=\"#DejaVuSans-54\"/>\n      </g>\n     </g>\n    </g>\n    <g id=\"xtick_9\">\n     <g id=\"line2d_9\">\n      <g>\n       <use style=\"stroke:#000000;stroke-width:0.8;\" x=\"369.725568\" xlink:href=\"#m6d8c7dee8e\" y=\"224.64\"/>\n      </g>\n     </g>\n     <g id=\"text_9\">\n      <!-- 18 -->\n      <g transform=\"translate(363.363068 239.238438)scale(0.1 -0.1)\">\n       <use xlink:href=\"#DejaVuSans-49\"/>\n       <use x=\"63.623047\" xlink:href=\"#DejaVuSans-56\"/>\n      </g>\n     </g>\n    </g>\n    <g id=\"text_10\">\n     <!-- Num Topics -->\n     <defs>\n      <path d=\"M 9.8125 72.90625 \nL 23.09375 72.90625 \nL 55.421875 11.921875 \nL 55.421875 72.90625 \nL 64.984375 72.90625 \nL 64.984375 0 \nL 51.703125 0 \nL 19.390625 60.984375 \nL 19.390625 0 \nL 9.8125 0 \nz\n\" id=\"DejaVuSans-78\"/>\n      <path d=\"M 8.5 21.578125 \nL 8.5 54.6875 \nL 17.484375 54.6875 \nL 17.484375 21.921875 \nQ 17.484375 14.15625 20.5 10.265625 \nQ 23.53125 6.390625 29.59375 6.390625 \nQ 36.859375 6.390625 41.078125 11.03125 \nQ 45.3125 15.671875 45.3125 23.6875 \nL 45.3125 54.6875 \nL 54.296875 54.6875 \nL 54.296875 0 \nL 45.3125 0 \nL 45.3125 8.40625 \nQ 42.046875 3.421875 37.71875 1 \nQ 33.40625 -1.421875 27.6875 -1.421875 \nQ 18.265625 -1.421875 13.375 4.4375 \nQ 8.5 10.296875 8.5 21.578125 \nz\nM 31.109375 56 \nz\n\" id=\"DejaVuSans-117\"/>\n      <path d=\"M 52 44.1875 \nQ 55.375 50.25 60.0625 53.125 \nQ 64.75 56 71.09375 56 \nQ 79.640625 56 84.28125 50.015625 \nQ 88.921875 44.046875 88.921875 33.015625 \nL 88.921875 0 \nL 79.890625 0 \nL 79.890625 32.71875 \nQ 79.890625 40.578125 77.09375 44.375 \nQ 74.3125 48.1875 68.609375 48.1875 \nQ 61.625 48.1875 57.5625 43.546875 \nQ 53.515625 38.921875 53.515625 30.90625 \nL 53.515625 0 \nL 44.484375 0 \nL 44.484375 32.71875 \nQ 44.484375 40.625 41.703125 44.40625 \nQ 38.921875 48.1875 33.109375 48.1875 \nQ 26.21875 48.1875 22.15625 43.53125 \nQ 18.109375 38.875 18.109375 30.90625 \nL 18.109375 0 \nL 9.078125 0 \nL 9.078125 54.6875 \nL 18.109375 54.6875 \nL 18.109375 46.1875 \nQ 21.1875 51.21875 25.484375 53.609375 \nQ 29.78125 56 35.6875 56 \nQ 41.65625 56 45.828125 52.96875 \nQ 50 49.953125 52 44.1875 \nz\n\" id=\"DejaVuSans-109\"/>\n      <path id=\"DejaVuSans-32\"/>\n      <path d=\"M -0.296875 72.90625 \nL 61.375 72.90625 \nL 61.375 64.59375 \nL 35.5 64.59375 \nL 35.5 0 \nL 25.59375 0 \nL 25.59375 64.59375 \nL -0.296875 64.59375 \nz\n\" id=\"DejaVuSans-84\"/>\n      <path d=\"M 30.609375 48.390625 \nQ 23.390625 48.390625 19.1875 42.75 \nQ 14.984375 37.109375 14.984375 27.296875 \nQ 14.984375 17.484375 19.15625 11.84375 \nQ 23.34375 6.203125 30.609375 6.203125 \nQ 37.796875 6.203125 41.984375 11.859375 \nQ 46.1875 17.53125 46.1875 27.296875 \nQ 46.1875 37.015625 41.984375 42.703125 \nQ 37.796875 48.390625 30.609375 48.390625 \nz\nM 30.609375 56 \nQ 42.328125 56 49.015625 48.375 \nQ 55.71875 40.765625 55.71875 27.296875 \nQ 55.71875 13.875 49.015625 6.21875 \nQ 42.328125 -1.421875 30.609375 -1.421875 \nQ 18.84375 -1.421875 12.171875 6.21875 \nQ 5.515625 13.875 5.515625 27.296875 \nQ 5.515625 40.765625 12.171875 48.375 \nQ 18.84375 56 30.609375 56 \nz\n\" id=\"DejaVuSans-111\"/>\n      <path d=\"M 18.109375 8.203125 \nL 18.109375 -20.796875 \nL 9.078125 -20.796875 \nL 9.078125 54.6875 \nL 18.109375 54.6875 \nL 18.109375 46.390625 \nQ 20.953125 51.265625 25.265625 53.625 \nQ 29.59375 56 35.59375 56 \nQ 45.5625 56 51.78125 48.09375 \nQ 58.015625 40.1875 58.015625 27.296875 \nQ 58.015625 14.40625 51.78125 6.484375 \nQ 45.5625 -1.421875 35.59375 -1.421875 \nQ 29.59375 -1.421875 25.265625 0.953125 \nQ 20.953125 3.328125 18.109375 8.203125 \nz\nM 48.6875 27.296875 \nQ 48.6875 37.203125 44.609375 42.84375 \nQ 40.53125 48.484375 33.40625 48.484375 \nQ 26.265625 48.484375 22.1875 42.84375 \nQ 18.109375 37.203125 18.109375 27.296875 \nQ 18.109375 17.390625 22.1875 11.75 \nQ 26.265625 6.109375 33.40625 6.109375 \nQ 40.53125 6.109375 44.609375 11.75 \nQ 48.6875 17.390625 48.6875 27.296875 \nz\n\" id=\"DejaVuSans-112\"/>\n      <path d=\"M 9.421875 54.6875 \nL 18.40625 54.6875 \nL 18.40625 0 \nL 9.421875 0 \nz\nM 9.421875 75.984375 \nL 18.40625 75.984375 \nL 18.40625 64.59375 \nL 9.421875 64.59375 \nz\n\" id=\"DejaVuSans-105\"/>\n      <path d=\"M 48.78125 52.59375 \nL 48.78125 44.1875 \nQ 44.96875 46.296875 41.140625 47.34375 \nQ 37.3125 48.390625 33.40625 48.390625 \nQ 24.65625 48.390625 19.8125 42.84375 \nQ 14.984375 37.3125 14.984375 27.296875 \nQ 14.984375 17.28125 19.8125 11.734375 \nQ 24.65625 6.203125 33.40625 6.203125 \nQ 37.3125 6.203125 41.140625 7.25 \nQ 44.96875 8.296875 48.78125 10.40625 \nL 48.78125 2.09375 \nQ 45.015625 0.34375 40.984375 -0.53125 \nQ 36.96875 -1.421875 32.421875 -1.421875 \nQ 20.0625 -1.421875 12.78125 6.34375 \nQ 5.515625 14.109375 5.515625 27.296875 \nQ 5.515625 40.671875 12.859375 48.328125 \nQ 20.21875 56 33.015625 56 \nQ 37.15625 56 41.109375 55.140625 \nQ 45.0625 54.296875 48.78125 52.59375 \nz\n\" id=\"DejaVuSans-99\"/>\n      <path d=\"M 44.28125 53.078125 \nL 44.28125 44.578125 \nQ 40.484375 46.53125 36.375 47.5 \nQ 32.28125 48.484375 27.875 48.484375 \nQ 21.1875 48.484375 17.84375 46.4375 \nQ 14.5 44.390625 14.5 40.28125 \nQ 14.5 37.15625 16.890625 35.375 \nQ 19.28125 33.59375 26.515625 31.984375 \nL 29.59375 31.296875 \nQ 39.15625 29.25 43.1875 25.515625 \nQ 47.21875 21.78125 47.21875 15.09375 \nQ 47.21875 7.46875 41.1875 3.015625 \nQ 35.15625 -1.421875 24.609375 -1.421875 \nQ 20.21875 -1.421875 15.453125 -0.5625 \nQ 10.6875 0.296875 5.421875 2 \nL 5.421875 11.28125 \nQ 10.40625 8.6875 15.234375 7.390625 \nQ 20.0625 6.109375 24.8125 6.109375 \nQ 31.15625 6.109375 34.5625 8.28125 \nQ 37.984375 10.453125 37.984375 14.40625 \nQ 37.984375 18.0625 35.515625 20.015625 \nQ 33.0625 21.96875 24.703125 23.78125 \nL 21.578125 24.515625 \nQ 13.234375 26.265625 9.515625 29.90625 \nQ 5.8125 33.546875 5.8125 39.890625 \nQ 5.8125 47.609375 11.28125 51.796875 \nQ 16.75 56 26.8125 56 \nQ 31.78125 56 36.171875 55.265625 \nQ 40.578125 54.546875 44.28125 53.078125 \nz\n\" id=\"DejaVuSans-115\"/>\n     </defs>\n     <g transform=\"translate(188.994531 252.916563)scale(0.1 -0.1)\">\n      <use xlink:href=\"#DejaVuSans-78\"/>\n      <use x=\"74.804688\" xlink:href=\"#DejaVuSans-117\"/>\n      <use x=\"138.183594\" xlink:href=\"#DejaVuSans-109\"/>\n      <use x=\"235.595703\" xlink:href=\"#DejaVuSans-32\"/>\n      <use x=\"267.382812\" xlink:href=\"#DejaVuSans-84\"/>\n      <use x=\"311.466797\" xlink:href=\"#DejaVuSans-111\"/>\n      <use x=\"372.648438\" xlink:href=\"#DejaVuSans-112\"/>\n      <use x=\"436.125\" xlink:href=\"#DejaVuSans-105\"/>\n      <use x=\"463.908203\" xlink:href=\"#DejaVuSans-99\"/>\n      <use x=\"518.888672\" xlink:href=\"#DejaVuSans-115\"/>\n     </g>\n    </g>\n   </g>\n   <g id=\"matplotlib.axis_2\">\n    <g id=\"ytick_1\">\n     <g id=\"line2d_10\">\n      <defs>\n       <path d=\"M 0 0 \nL -3.5 0 \n\" id=\"m77fb926cfa\" style=\"stroke:#000000;stroke-width:0.8;\"/>\n      </defs>\n      <g>\n       <use style=\"stroke:#000000;stroke-width:0.8;\" x=\"50.14375\" xlink:href=\"#m77fb926cfa\" y=\"207.769707\"/>\n      </g>\n     </g>\n     <g id=\"text_11\">\n      <!-- 0.26 -->\n      <defs>\n       <path d=\"M 10.6875 12.40625 \nL 21 12.40625 \nL 21 0 \nL 10.6875 0 \nz\n\" id=\"DejaVuSans-46\"/>\n      </defs>\n      <g transform=\"translate(20.878125 211.568926)scale(0.1 -0.1)\">\n       <use xlink:href=\"#DejaVuSans-48\"/>\n       <use x=\"63.623047\" xlink:href=\"#DejaVuSans-46\"/>\n       <use x=\"95.410156\" xlink:href=\"#DejaVuSans-50\"/>\n       <use x=\"159.033203\" xlink:href=\"#DejaVuSans-54\"/>\n      </g>\n     </g>\n    </g>\n    <g id=\"ytick_2\">\n     <g id=\"line2d_11\">\n      <g>\n       <use style=\"stroke:#000000;stroke-width:0.8;\" x=\"50.14375\" xlink:href=\"#m77fb926cfa\" y=\"182.015568\"/>\n      </g>\n     </g>\n     <g id=\"text_12\">\n      <!-- 0.27 -->\n      <defs>\n       <path d=\"M 8.203125 72.90625 \nL 55.078125 72.90625 \nL 55.078125 68.703125 \nL 28.609375 0 \nL 18.3125 0 \nL 43.21875 64.59375 \nL 8.203125 64.59375 \nz\n\" id=\"DejaVuSans-55\"/>\n      </defs>\n      <g transform=\"translate(20.878125 185.814787)scale(0.1 -0.1)\">\n       <use xlink:href=\"#DejaVuSans-48\"/>\n       <use x=\"63.623047\" xlink:href=\"#DejaVuSans-46\"/>\n       <use x=\"95.410156\" xlink:href=\"#DejaVuSans-50\"/>\n       <use x=\"159.033203\" xlink:href=\"#DejaVuSans-55\"/>\n      </g>\n     </g>\n    </g>\n    <g id=\"ytick_3\">\n     <g id=\"line2d_12\">\n      <g>\n       <use style=\"stroke:#000000;stroke-width:0.8;\" x=\"50.14375\" xlink:href=\"#m77fb926cfa\" y=\"156.261429\"/>\n      </g>\n     </g>\n     <g id=\"text_13\">\n      <!-- 0.28 -->\n      <g transform=\"translate(20.878125 160.060648)scale(0.1 -0.1)\">\n       <use xlink:href=\"#DejaVuSans-48\"/>\n       <use x=\"63.623047\" xlink:href=\"#DejaVuSans-46\"/>\n       <use x=\"95.410156\" xlink:href=\"#DejaVuSans-50\"/>\n       <use x=\"159.033203\" xlink:href=\"#DejaVuSans-56\"/>\n      </g>\n     </g>\n    </g>\n    <g id=\"ytick_4\">\n     <g id=\"line2d_13\">\n      <g>\n       <use style=\"stroke:#000000;stroke-width:0.8;\" x=\"50.14375\" xlink:href=\"#m77fb926cfa\" y=\"130.50729\"/>\n      </g>\n     </g>\n     <g id=\"text_14\">\n      <!-- 0.29 -->\n      <defs>\n       <path d=\"M 10.984375 1.515625 \nL 10.984375 10.5 \nQ 14.703125 8.734375 18.5 7.8125 \nQ 22.3125 6.890625 25.984375 6.890625 \nQ 35.75 6.890625 40.890625 13.453125 \nQ 46.046875 20.015625 46.78125 33.40625 \nQ 43.953125 29.203125 39.59375 26.953125 \nQ 35.25 24.703125 29.984375 24.703125 \nQ 19.046875 24.703125 12.671875 31.3125 \nQ 6.296875 37.9375 6.296875 49.421875 \nQ 6.296875 60.640625 12.9375 67.421875 \nQ 19.578125 74.21875 30.609375 74.21875 \nQ 43.265625 74.21875 49.921875 64.515625 \nQ 56.59375 54.828125 56.59375 36.375 \nQ 56.59375 19.140625 48.40625 8.859375 \nQ 40.234375 -1.421875 26.421875 -1.421875 \nQ 22.703125 -1.421875 18.890625 -0.6875 \nQ 15.09375 0.046875 10.984375 1.515625 \nz\nM 30.609375 32.421875 \nQ 37.25 32.421875 41.125 36.953125 \nQ 45.015625 41.5 45.015625 49.421875 \nQ 45.015625 57.28125 41.125 61.84375 \nQ 37.25 66.40625 30.609375 66.40625 \nQ 23.96875 66.40625 20.09375 61.84375 \nQ 16.21875 57.28125 16.21875 49.421875 \nQ 16.21875 41.5 20.09375 36.953125 \nQ 23.96875 32.421875 30.609375 32.421875 \nz\n\" id=\"DejaVuSans-57\"/>\n      </defs>\n      <g transform=\"translate(20.878125 134.306509)scale(0.1 -0.1)\">\n       <use xlink:href=\"#DejaVuSans-48\"/>\n       <use x=\"63.623047\" xlink:href=\"#DejaVuSans-46\"/>\n       <use x=\"95.410156\" xlink:href=\"#DejaVuSans-50\"/>\n       <use x=\"159.033203\" xlink:href=\"#DejaVuSans-57\"/>\n      </g>\n     </g>\n    </g>\n    <g id=\"ytick_5\">\n     <g id=\"line2d_14\">\n      <g>\n       <use style=\"stroke:#000000;stroke-width:0.8;\" x=\"50.14375\" xlink:href=\"#m77fb926cfa\" y=\"104.753151\"/>\n      </g>\n     </g>\n     <g id=\"text_15\">\n      <!-- 0.30 -->\n      <defs>\n       <path d=\"M 40.578125 39.3125 \nQ 47.65625 37.796875 51.625 33 \nQ 55.609375 28.21875 55.609375 21.1875 \nQ 55.609375 10.40625 48.1875 4.484375 \nQ 40.765625 -1.421875 27.09375 -1.421875 \nQ 22.515625 -1.421875 17.65625 -0.515625 \nQ 12.796875 0.390625 7.625 2.203125 \nL 7.625 11.71875 \nQ 11.71875 9.328125 16.59375 8.109375 \nQ 21.484375 6.890625 26.8125 6.890625 \nQ 36.078125 6.890625 40.9375 10.546875 \nQ 45.796875 14.203125 45.796875 21.1875 \nQ 45.796875 27.640625 41.28125 31.265625 \nQ 36.765625 34.90625 28.71875 34.90625 \nL 20.21875 34.90625 \nL 20.21875 43.015625 \nL 29.109375 43.015625 \nQ 36.375 43.015625 40.234375 45.921875 \nQ 44.09375 48.828125 44.09375 54.296875 \nQ 44.09375 59.90625 40.109375 62.90625 \nQ 36.140625 65.921875 28.71875 65.921875 \nQ 24.65625 65.921875 20.015625 65.03125 \nQ 15.375 64.15625 9.8125 62.3125 \nL 9.8125 71.09375 \nQ 15.4375 72.65625 20.34375 73.4375 \nQ 25.25 74.21875 29.59375 74.21875 \nQ 40.828125 74.21875 47.359375 69.109375 \nQ 53.90625 64.015625 53.90625 55.328125 \nQ 53.90625 49.265625 50.4375 45.09375 \nQ 46.96875 40.921875 40.578125 39.3125 \nz\n\" id=\"DejaVuSans-51\"/>\n      </defs>\n      <g transform=\"translate(20.878125 108.55237)scale(0.1 -0.1)\">\n       <use xlink:href=\"#DejaVuSans-48\"/>\n       <use x=\"63.623047\" xlink:href=\"#DejaVuSans-46\"/>\n       <use x=\"95.410156\" xlink:href=\"#DejaVuSans-51\"/>\n       <use x=\"159.033203\" xlink:href=\"#DejaVuSans-48\"/>\n      </g>\n     </g>\n    </g>\n    <g id=\"ytick_6\">\n     <g id=\"line2d_15\">\n      <g>\n       <use style=\"stroke:#000000;stroke-width:0.8;\" x=\"50.14375\" xlink:href=\"#m77fb926cfa\" y=\"78.999012\"/>\n      </g>\n     </g>\n     <g id=\"text_16\">\n      <!-- 0.31 -->\n      <g transform=\"translate(20.878125 82.798231)scale(0.1 -0.1)\">\n       <use xlink:href=\"#DejaVuSans-48\"/>\n       <use x=\"63.623047\" xlink:href=\"#DejaVuSans-46\"/>\n       <use x=\"95.410156\" xlink:href=\"#DejaVuSans-51\"/>\n       <use x=\"159.033203\" xlink:href=\"#DejaVuSans-49\"/>\n      </g>\n     </g>\n    </g>\n    <g id=\"ytick_7\">\n     <g id=\"line2d_16\">\n      <g>\n       <use style=\"stroke:#000000;stroke-width:0.8;\" x=\"50.14375\" xlink:href=\"#m77fb926cfa\" y=\"53.244873\"/>\n      </g>\n     </g>\n     <g id=\"text_17\">\n      <!-- 0.32 -->\n      <g transform=\"translate(20.878125 57.044092)scale(0.1 -0.1)\">\n       <use xlink:href=\"#DejaVuSans-48\"/>\n       <use x=\"63.623047\" xlink:href=\"#DejaVuSans-46\"/>\n       <use x=\"95.410156\" xlink:href=\"#DejaVuSans-51\"/>\n       <use x=\"159.033203\" xlink:href=\"#DejaVuSans-50\"/>\n      </g>\n     </g>\n    </g>\n    <g id=\"ytick_8\">\n     <g id=\"line2d_17\">\n      <g>\n       <use style=\"stroke:#000000;stroke-width:0.8;\" x=\"50.14375\" xlink:href=\"#m77fb926cfa\" y=\"27.490734\"/>\n      </g>\n     </g>\n     <g id=\"text_18\">\n      <!-- 0.33 -->\n      <g transform=\"translate(20.878125 31.289953)scale(0.1 -0.1)\">\n       <use xlink:href=\"#DejaVuSans-48\"/>\n       <use x=\"63.623047\" xlink:href=\"#DejaVuSans-46\"/>\n       <use x=\"95.410156\" xlink:href=\"#DejaVuSans-51\"/>\n       <use x=\"159.033203\" xlink:href=\"#DejaVuSans-51\"/>\n      </g>\n     </g>\n    </g>\n    <g id=\"text_19\">\n     <!-- Coherence score -->\n     <defs>\n      <path d=\"M 64.40625 67.28125 \nL 64.40625 56.890625 \nQ 59.421875 61.53125 53.78125 63.8125 \nQ 48.140625 66.109375 41.796875 66.109375 \nQ 29.296875 66.109375 22.65625 58.46875 \nQ 16.015625 50.828125 16.015625 36.375 \nQ 16.015625 21.96875 22.65625 14.328125 \nQ 29.296875 6.6875 41.796875 6.6875 \nQ 48.140625 6.6875 53.78125 8.984375 \nQ 59.421875 11.28125 64.40625 15.921875 \nL 64.40625 5.609375 \nQ 59.234375 2.09375 53.4375 0.328125 \nQ 47.65625 -1.421875 41.21875 -1.421875 \nQ 24.65625 -1.421875 15.125 8.703125 \nQ 5.609375 18.84375 5.609375 36.375 \nQ 5.609375 53.953125 15.125 64.078125 \nQ 24.65625 74.21875 41.21875 74.21875 \nQ 47.75 74.21875 53.53125 72.484375 \nQ 59.328125 70.75 64.40625 67.28125 \nz\n\" id=\"DejaVuSans-67\"/>\n      <path d=\"M 54.890625 33.015625 \nL 54.890625 0 \nL 45.90625 0 \nL 45.90625 32.71875 \nQ 45.90625 40.484375 42.875 44.328125 \nQ 39.84375 48.1875 33.796875 48.1875 \nQ 26.515625 48.1875 22.3125 43.546875 \nQ 18.109375 38.921875 18.109375 30.90625 \nL 18.109375 0 \nL 9.078125 0 \nL 9.078125 75.984375 \nL 18.109375 75.984375 \nL 18.109375 46.1875 \nQ 21.34375 51.125 25.703125 53.5625 \nQ 30.078125 56 35.796875 56 \nQ 45.21875 56 50.046875 50.171875 \nQ 54.890625 44.34375 54.890625 33.015625 \nz\n\" id=\"DejaVuSans-104\"/>\n      <path d=\"M 56.203125 29.59375 \nL 56.203125 25.203125 \nL 14.890625 25.203125 \nQ 15.484375 15.921875 20.484375 11.0625 \nQ 25.484375 6.203125 34.421875 6.203125 \nQ 39.59375 6.203125 44.453125 7.46875 \nQ 49.3125 8.734375 54.109375 11.28125 \nL 54.109375 2.78125 \nQ 49.265625 0.734375 44.1875 -0.34375 \nQ 39.109375 -1.421875 33.890625 -1.421875 \nQ 20.796875 -1.421875 13.15625 6.1875 \nQ 5.515625 13.8125 5.515625 26.8125 \nQ 5.515625 40.234375 12.765625 48.109375 \nQ 20.015625 56 32.328125 56 \nQ 43.359375 56 49.78125 48.890625 \nQ 56.203125 41.796875 56.203125 29.59375 \nz\nM 47.21875 32.234375 \nQ 47.125 39.59375 43.09375 43.984375 \nQ 39.0625 48.390625 32.421875 48.390625 \nQ 24.90625 48.390625 20.390625 44.140625 \nQ 15.875 39.890625 15.1875 32.171875 \nz\n\" id=\"DejaVuSans-101\"/>\n      <path d=\"M 41.109375 46.296875 \nQ 39.59375 47.171875 37.8125 47.578125 \nQ 36.03125 48 33.890625 48 \nQ 26.265625 48 22.1875 43.046875 \nQ 18.109375 38.09375 18.109375 28.8125 \nL 18.109375 0 \nL 9.078125 0 \nL 9.078125 54.6875 \nL 18.109375 54.6875 \nL 18.109375 46.1875 \nQ 20.953125 51.171875 25.484375 53.578125 \nQ 30.03125 56 36.53125 56 \nQ 37.453125 56 38.578125 55.875 \nQ 39.703125 55.765625 41.0625 55.515625 \nz\n\" id=\"DejaVuSans-114\"/>\n      <path d=\"M 54.890625 33.015625 \nL 54.890625 0 \nL 45.90625 0 \nL 45.90625 32.71875 \nQ 45.90625 40.484375 42.875 44.328125 \nQ 39.84375 48.1875 33.796875 48.1875 \nQ 26.515625 48.1875 22.3125 43.546875 \nQ 18.109375 38.921875 18.109375 30.90625 \nL 18.109375 0 \nL 9.078125 0 \nL 9.078125 54.6875 \nL 18.109375 54.6875 \nL 18.109375 46.1875 \nQ 21.34375 51.125 25.703125 53.5625 \nQ 30.078125 56 35.796875 56 \nQ 45.21875 56 50.046875 50.171875 \nQ 54.890625 44.34375 54.890625 33.015625 \nz\n\" id=\"DejaVuSans-110\"/>\n     </defs>\n     <g transform=\"translate(14.798438 157.752031)rotate(-90)scale(0.1 -0.1)\">\n      <use xlink:href=\"#DejaVuSans-67\"/>\n      <use x=\"69.824219\" xlink:href=\"#DejaVuSans-111\"/>\n      <use x=\"131.005859\" xlink:href=\"#DejaVuSans-104\"/>\n      <use x=\"194.384766\" xlink:href=\"#DejaVuSans-101\"/>\n      <use x=\"255.908203\" xlink:href=\"#DejaVuSans-114\"/>\n      <use x=\"294.771484\" xlink:href=\"#DejaVuSans-101\"/>\n      <use x=\"356.294922\" xlink:href=\"#DejaVuSans-110\"/>\n      <use x=\"419.673828\" xlink:href=\"#DejaVuSans-99\"/>\n      <use x=\"474.654297\" xlink:href=\"#DejaVuSans-101\"/>\n      <use x=\"536.177734\" xlink:href=\"#DejaVuSans-32\"/>\n      <use x=\"567.964844\" xlink:href=\"#DejaVuSans-115\"/>\n      <use x=\"620.064453\" xlink:href=\"#DejaVuSans-99\"/>\n      <use x=\"675.044922\" xlink:href=\"#DejaVuSans-111\"/>\n      <use x=\"736.226562\" xlink:href=\"#DejaVuSans-114\"/>\n      <use x=\"775.089844\" xlink:href=\"#DejaVuSans-101\"/>\n     </g>\n    </g>\n   </g>\n   <g id=\"line2d_18\">\n    <path clip-path=\"url(#p2bfc52c61e)\" d=\"M 65.361932 33.857477 \nL 103.407386 17.083636 \nL 141.452841 214.756364 \nL 179.498295 103.466843 \nL 217.54375 130.277013 \nL 255.589205 76.341271 \nL 293.634659 103.153431 \nL 331.680114 111.942461 \nL 369.725568 115.001809 \n\" style=\"fill:none;stroke:#1f77b4;stroke-linecap:square;stroke-width:1.5;\"/>\n   </g>\n   <g id=\"patch_3\">\n    <path d=\"M 50.14375 224.64 \nL 50.14375 7.2 \n\" style=\"fill:none;stroke:#000000;stroke-linecap:square;stroke-linejoin:miter;stroke-width:0.8;\"/>\n   </g>\n   <g id=\"patch_4\">\n    <path d=\"M 384.94375 224.64 \nL 384.94375 7.2 \n\" style=\"fill:none;stroke:#000000;stroke-linecap:square;stroke-linejoin:miter;stroke-width:0.8;\"/>\n   </g>\n   <g id=\"patch_5\">\n    <path d=\"M 50.14375 224.64 \nL 384.94375 224.64 \n\" style=\"fill:none;stroke:#000000;stroke-linecap:square;stroke-linejoin:miter;stroke-width:0.8;\"/>\n   </g>\n   <g id=\"patch_6\">\n    <path d=\"M 50.14375 7.2 \nL 384.94375 7.2 \n\" style=\"fill:none;stroke:#000000;stroke-linecap:square;stroke-linejoin:miter;stroke-width:0.8;\"/>\n   </g>\n   <g id=\"legend_1\">\n    <g id=\"patch_7\">\n     <path d=\"M 340.445312 29.878125 \nL 377.94375 29.878125 \nQ 379.94375 29.878125 379.94375 27.878125 \nL 379.94375 14.2 \nQ 379.94375 12.2 377.94375 12.2 \nL 340.445312 12.2 \nQ 338.445312 12.2 338.445312 14.2 \nL 338.445312 27.878125 \nQ 338.445312 29.878125 340.445312 29.878125 \nz\n\" style=\"fill:#ffffff;opacity:0.8;stroke:#cccccc;stroke-linejoin:miter;\"/>\n    </g>\n    <g id=\"line2d_19\">\n     <path d=\"M 342.445312 20.298438 \nL 362.445312 20.298438 \n\" style=\"fill:none;stroke:#1f77b4;stroke-linecap:square;stroke-width:1.5;\"/>\n    </g>\n    <g id=\"line2d_20\"/>\n    <g id=\"text_20\">\n     <!-- c -->\n     <g transform=\"translate(370.445312 23.798438)scale(0.1 -0.1)\">\n      <use xlink:href=\"#DejaVuSans-99\"/>\n     </g>\n    </g>\n   </g>\n  </g>\n </g>\n <defs>\n  <clipPath id=\"p2bfc52c61e\">\n   <rect height=\"217.44\" width=\"334.8\" x=\"50.14375\" y=\"7.2\"/>\n  </clipPath>\n </defs>\n</svg>\n",
      "image/png": "[encoded data removed]"
     },
     "metadata": {
      "needs_background": "light"
     }
    }
   ],
   "source": [
    "# Determine the optimal number of topics according to the coherence score\n",
    "def compute_coherence_values(dictionary, corpus, texts, limit, start=2, step=3):\n",
    "    \"\"\"\n",
    "    Compute c_v coherence for various number of topics\n",
    "\n",
    "    Parameters:\n",
    "    ----------\n",
    "    dictionary : Gensim dictionary\n",
    "    corpus : Gensim corpus\n",
    "    texts : List of input texts\n",
    "    limit : Max num of topics\n",
    "\n",
    "    Returns:\n",
    "    -------\n",
    "    model_list : List of LDA topic models\n",
    "    coherence_values : Coherence values corresponding to the LDA model with respective number of topics\n",
    "    \"\"\"\n",
    "    coherence_values = []\n",
    "    model_list = []\n",
    "    for num_topics in range(start, limit, step):\n",
    "        model = gensim.models.ldamodel.LdaModel(corpus=corpus,\n",
    "                                           id2word=id2word,\n",
    "                                           num_topics=num_topics,\n",
    "                                           random_state=123,\n",
    "                                           update_every=1,\n",
    "                                           chunksize=100,\n",
    "                                           passes=10,\n",
    "                                           alpha='auto',\n",
    "                                           per_word_topics=True)\n",
    "        model_list.append(model)\n",
    "        coherencemodel = CoherenceModel(model=model, texts=texts, dictionary=dictionary, coherence='c_v')\n",
    "        coherence_values.append(coherencemodel.get_coherence())\n",
    "\n",
    "    return model_list, coherence_values\n",
    "\n",
    "# ATTENTION!!!! Can take a LONG time to run.\n",
    "lowerBound = 2\n",
    "upperBound = 20\n",
    "step = 2\n",
    "model_list, coherence_values = compute_coherence_values(dictionary=id2word, corpus=tdm, texts=corpus, start=lowerBound, limit=upperBound, step= step)\n",
    "\n",
    "# Show graph\n",
    "x = range(lowerBound, upperBound, step)\n",
    "plt.plot(x, coherence_values)\n",
    "plt.xlabel(\"Num Topics\")\n",
    "plt.ylabel(\"Coherence score\")\n",
    "plt.legend((\"coherence_values\"), loc='best')\n",
    "plt.show()"
   ]
  },
  {
   "source": [
    "**There is a peak before a decrease at 12 topics, therefore we choose the number.**"
   ],
   "cell_type": "markdown",
   "metadata": {}
  },
  {
   "cell_type": "code",
   "execution_count": 33,
   "metadata": {},
   "outputs": [],
   "source": [
    "# Build LDA model with 12 topics\n",
    "lda_model = gensim.models.ldamodel.LdaModel(corpus=tdm,\n",
    "                                           id2word=id2word,\n",
    "                                           num_topics=12, \n",
    "                                           random_state=123,\n",
    "                                           update_every=1,\n",
    "                                           chunksize=100,\n",
    "                                           passes=10,\n",
    "                                           alpha='auto')"
   ]
  },
  {
   "cell_type": "code",
   "execution_count": 34,
   "metadata": {},
   "outputs": [],
   "source": [
    "data = processedTweets['WordsLemmatized']"
   ]
  },
  {
   "cell_type": "code",
   "execution_count": 35,
   "metadata": {},
   "outputs": [
    {
     "output_type": "stream",
     "name": "stdout",
     "text": [
      "[(0, '0.062*\"got\" + 0.055*\"shot\" + 0.050*\"blood\" + 0.049*\"clot\" + 0.038*\"dying\" + 0.038*\"science\" + 0.030*\"told\" + 0.028*\"put\" + 0.027*\"effective\" + 0.026*\"variant\"'), (1, '0.067*\"u\" + 0.044*\"j\" + 0.035*\"%\" + 0.033*\"would\" + 0.031*\"like\" + 0.029*\"vaccine\" + 0.025*\"cdc\" + 0.024*\"make\" + 0.022*\"also\" + 0.019*\"stop\"'), (2, '0.287*\"need\" + 0.115*\"immune\" + 0.061*\"live\" + 0.051*\"doctor\" + 0.039*\"must\" + 0.033*\"infected\" + 0.028*\"herd\" + 0.026*\"republican\" + 0.025*\"access\" + 0.016*\"compromised\"'), (3, '0.135*\"n\\'t\" + 0.094*\"\\'s\" + 0.047*\"virus\" + 0.030*\"\\'m\" + 0.029*\"died\" + 0.028*\"use\" + 0.023*\"american\" + 0.020*\"ca\" + 0.018*\"never\" + 0.013*\"enough\"'), (4, '0.099*\"people\" + 0.095*\"get\" + 0.034*\"want\" + 0.029*\"getting\" + 0.029*\"take\" + 0.024*\"know\" + 0.018*\"say\" + 0.018*\"many\" + 0.017*\"right\" + 0.015*\"time\"'), (5, '0.050*\"risk\" + 0.049*\"country\" + 0.042*\"please\" + 0.040*\"life\" + 0.038*\"help\" + 0.037*\"world\" + 0.033*\"may\" + 0.028*\"health\" + 0.025*\"dos\" + 0.025*\"around\"'), (6, '0.131*\"mask\" + 0.039*\"even\" + 0.036*\"still\" + 0.035*\"wear\" + 0.026*\"think\" + 0.026*\"work\" + 0.022*\"taking\" + 0.022*\"wearing\" + 0.020*\"approve\" + 0.018*\"going\"'), (7, '0.081*\"president\" + 0.043*\"nothing\" + 0.038*\"two\" + 0.035*\"experimental\" + 0.034*\"anyone\" + 0.032*\"believe\" + 0.032*\"mr\" + 0.032*\"next\" + 0.026*\"speed\" + 0.025*\"low\"'), (8, '0.089*\"biden\" + 0.058*\"trump\" + 0.041*\"new\" + 0.030*\"thank\" + 0.030*\"protect\" + 0.025*\"free\" + 0.025*\"show\" + 0.025*\"guidance\" + 0.023*\"come\" + 0.020*\"reason\"'), (9, '0.092*\"one\" + 0.030*\"citizen\" + 0.028*\"week\" + 0.024*\"passport\" + 0.022*\"harris\" + 0.020*\"proof\" + 0.020*\"government\" + 0.019*\"someone\" + 0.018*\"made\" + 0.016*\"school\"'), (10, '0.111*\"fully\" + 0.105*\"card\" + 0.101*\"good\" + 0.041*\"done\" + 0.037*\"stay\" + 0.031*\"administration\" + 0.027*\"credit\" + 0.025*\"fake\" + 0.024*\"st\" + 0.021*\"try\"'), (11, '0.068*\"go\" + 0.068*\"everyone\" + 0.048*\"/\" + 0.040*\"day\" + 0.038*\"way\" + 0.035*\"said\" + 0.033*\"state\" + 0.032*\"month\" + 0.028*\"back\" + 0.016*\"plan\"')]\n"
     ]
    }
   ],
   "source": [
    "# Print the keywords in the 10 topics\n",
    "print(lda_model.print_topics())\n",
    "doc_lda = lda_model[tdm]\n",
    "# Interpretation: Topic 0 is represented as 0.055\"walking\" + 0.054\"garden\" + ..."
   ]
  },
  {
   "cell_type": "code",
   "execution_count": 36,
   "metadata": {},
   "outputs": [
    {
     "output_type": "execute_result",
     "data": {
      "text/plain": [
       "<IPython.core.display.HTML object>"
      ],
      "text/html": "\n<link rel=\"stylesheet\" type=\"text/css\" href=\"https://cdn.jsdelivr.net/gh/bmabey/pyLDAvis@3.3.1/pyLDAvis/js/ldavis.v1.0.0.css\">\n\n\n<div id=\"ldavis_el953401404635056722724077314435\"></div>\n<script type=\"text/javascript\">\n\nvar ldavis_el953401404635056722724077314435_data = {\"mdsDat\": {\"x\": [-0.2914574185422226, -0.20306621326707736, -0.1822688702733911, -0.058349764556070764, 0.09336198231372929, 0.03878549781115699, 0.060941414878396605, 0.07072278292296741, 0.05214831607973609, 0.1299866892709688, 0.15125421886673146, 0.13794136449507544], \"y\": [-0.34340665385527586, 0.2831919572054127, 0.16006225815469116, 0.01830113612295201, -0.020965542205497917, -0.007525900114578756, -0.010644639419384337, -0.011986911183377889, -0.009240921072709747, -0.018068374229376873, -0.021381945098358005, -0.018334464304496218], \"topics\": [1, 2, 3, 4, 5, 6, 7, 8, 9, 10, 11, 12], \"cluster\": [1, 1, 1, 1, 1, 1, 1, 1, 1, 1, 1, 1], \"Freq\": [18.757763660568905, 16.494470743926392, 12.628752516054531, 10.105877505216796, 7.45390849564427, 7.439928832424717, 6.71317047497887, 6.0372383611049125, 5.967159587261782, 3.347064113452917, 2.7432375034454464, 2.3114282059204623]}, \"tinfo\": {\"Term\": [\"mask\", \"n't\", \"people\", \"get\", \"need\", \"'s\", \"u\", \"one\", \"biden\", \"j\", \"go\", \"everyone\", \"immune\", \"virus\", \"trump\", \"want\", \"%\", \"got\", \"even\", \"would\", \"risk\", \"fully\", \"country\", \"still\", \"like\", \"shot\", \"president\", \"wear\", \"card\", \"getting\", \"people\", \"get\", \"want\", \"getting\", \"take\", \"know\", \"say\", \"many\", \"right\", \"time\", \"'re\", \"year\", \"anti\", \"system\", \"kid\", \"already\", \"choice\", \"long\", \"yet\", \"flu\", \"fauci\", \"body\", \"effect\", \"rushed\", \"mean\", \"public\", \"trust\", \"ppl\", \"yes\", \"'ve\", \"u\", \"j\", \"%\", \"would\", \"like\", \"vaccine\", \"cdc\", \"make\", \"also\", \"stop\", \"pfizer\", \"death\", \"without\", \"could\", \"safe\", \"million\", \"child\", \"case\", \"first\", \"moderna\", \"give\", \"thousand\", \"since\", \"let\", \"well\", \"feel\", \"better\", \"dose\", \"place\", \"$\", \"mask\", \"even\", \"still\", \"wear\", \"think\", \"work\", \"taking\", \"wearing\", \"approve\", \"going\", \"rate\", \"keep\", \"immunity\", \"mandate\", \"see\", \"others\", \"thing\", \"business\", \"tell\", \"really\", \"unvaccinated\", \"last\", \"lie\", \"america\", \"continue\", \"fda\", \"maskless\", \"travel\", \"guideline\", \"talk\", \"n't\", \"'s\", \"virus\", \"'m\", \"died\", \"use\", \"american\", \"ca\", \"never\", \"enough\", \"medical\", \"wo\", \"point\", \"family\", \"infection\", \"issue\", \"na\", \"least\", \"understand\", \"kill\", \"problem\", \"able\", \"non\", \"far\", \"rule\", \"vaccinate\", \"gon\", \"gotten\", \"vaxxed\", \"line\", \"risk\", \"country\", \"please\", \"life\", \"help\", \"may\", \"health\", \"around\", \"pandemic\", \"making\", \"mrna\", \"worker\", \"old\", \"start\", \"number\", \"end\", \"adult\", \"following\", \"whole\", \"vulnerable\", \"young\", \"healthy\", \"reach\", \"cell\", \"higher\", \"together\", \"provider\", \"effort\", \"little\", \"save\", \"dos\", \"world\", \"one\", \"citizen\", \"week\", \"passport\", \"harris\", \"proof\", \"government\", \"someone\", \"made\", \"school\", \"sure\", \"fact\", \"much\", \"antibody\", \"population\", \"store\", \"ask\", \"test\", \"disease\", \"information\", \"community\", \"took\", \"control\", \"working\", \"masking\", \"spreading\", \"require\", \"hell\", \"=\", \"as\", \"biden\", \"trump\", \"new\", \"thank\", \"protect\", \"free\", \"show\", \"guidance\", \"come\", \"reason\", \"'ll\", \"thanks\", \"away\", \"choose\", \"ever\", \"company\", \"maybe\", \"freedom\", \"god\", \"support\", \"normal\", \"longer\", \"'\", \"fine\", \"rollout\", \"required\", \"giving\", \"looking\", \"w/\", \"distribution\", \"go\", \"everyone\", \"/\", \"day\", \"way\", \"said\", \"state\", \"month\", \"back\", \"plan\", \"big\", \"another\", \"force\", \"soon\", \"seems\", \"sorry\", \"word\", \"fight\", \"prevent\", \"hope\", \"dear\", \"though\", \"ok\", \"record\", \"guy\", \"china\", \"b\", \"absolutely\", \"vaxxers\", \"rest\", \"got\", \"shot\", \"blood\", \"clot\", \"dying\", \"science\", \"told\", \"put\", \"effective\", \"variant\", \"incompetent\", \"care\", \"lot\", \"le\", \"chance\", \"refuse\", \"might\", \"great\", \"send\", \"human\", \"yr\", \"bc\", \"likely\", \"response\", \"find\", \"uk\", \"needed\", \"man\", \"provide\", \"completely\", \"president\", \"nothing\", \"two\", \"experimental\", \"anyone\", \"believe\", \"mr\", \"next\", \"speed\", \"low\", \"real\", \"warp\", \"tested\", \"oh\", \"living\", \"change\", \"operation\", \"yesterday\", \"poor\", \"immigrant\", \"finally\", \"developed\", \"lower\", \"nation\", \"hear\", \"happen\", \"wish\", \"experiment\", \"approach\", \"front\", \"need\", \"immune\", \"live\", \"doctor\", \"must\", \"infected\", \"herd\", \"republican\", \"access\", \"compromised\", \"international\", \"sharing\", \"step\", \"billion\", \"prior\", \"saving\", \"lottery\", \"ohio\", \"selfishness\", \"nose\", \"announces\", \"sued\", \"attention\", \"fault\", \"supreme\", \"vaxer\", \"sheeple\", \"september\", \"murphydiot\", \"condemn\", \"world\", \"dos\", \"fully\", \"card\", \"good\", \"done\", \"stay\", \"administration\", \"credit\", \"fake\", \"st\", \"try\", \"emergency\", \"remember\", \"appointment\", \"proven\", \"effectiveness\", \"x\", \"course\", \">\", \"shame\", \"false\", \"responsible\", \"argument\", \"hippa\", \"claim\", \"|\", \"coronavirus\", \"mention\", \"tourism\", \"charged\", \"medicine\"], \"Freq\": [5346.0, 4414.0, 6030.0, 5782.0, 2551.0, 3071.0, 3560.0, 2212.0, 1939.0, 2372.0, 1330.0, 1326.0, 1025.0, 1555.0, 1270.0, 2054.0, 1892.0, 1201.0, 1589.0, 1751.0, 1208.0, 830.0, 1188.0, 1485.0, 1675.0, 1065.0, 882.0, 1452.0, 787.0, 1782.0, 6029.1914008507065, 5781.3087751099, 2053.425215858943, 1781.8063120282802, 1733.8290661789486, 1442.9169436736486, 1080.5936124600855, 1077.5446251161075, 1057.3078611161652, 928.1851507328258, 909.8183673385649, 838.8197260050389, 812.8339869090629, 812.6929140220682, 800.2697183209604, 663.7475933753052, 659.171562849332, 638.1493231444523, 637.5180644669846, 608.4937060343879, 557.9970343971983, 534.4163897292589, 520.3862661993036, 519.4941076645625, 497.1618164070813, 451.1645766841313, 428.08224791079505, 423.14500847275974, 415.1780163273465, 403.7846243734108, 3560.0391298861755, 2371.485400258102, 1891.204888679476, 1750.6809142296286, 1674.9369611399236, 1567.3368657969077, 1358.9238187513445, 1261.4657289243141, 1157.2241821182167, 1030.2476919245214, 974.5650555902272, 875.821217689491, 859.455230972016, 786.5782051393423, 765.0159688157153, 757.9694635636645, 701.4313723249376, 640.948105008689, 628.5207679816596, 621.6593430959223, 588.9857085866661, 582.9753544674784, 574.1426617663201, 570.3268675760976, 551.8646651135342, 551.6873068082648, 550.3889543381454, 515.352120050672, 501.82531099021844, 498.57786049283663, 5345.560506973156, 1588.3605389696684, 1484.8295014466235, 1451.2001240867967, 1073.1747026505627, 1056.906461600607, 902.5750189509124, 887.4844286148552, 817.5603399156596, 744.635175785094, 742.2952081523018, 707.7984414929332, 674.8741898407286, 661.7791289063791, 596.9500178196594, 582.2564659716818, 551.2023651535686, 521.5720949323462, 518.0305985864684, 482.1586346352624, 415.946049058904, 383.44530767023565, 362.0896796177692, 360.6430771909827, 338.531210780877, 298.16823765030614, 298.1692675320602, 297.6964183037502, 292.74991531081986, 280.55617255824353, 4413.185414174365, 3070.559687970641, 1554.7997501649868, 976.4047538957414, 935.4770506885393, 930.3944272990148, 768.5185161747955, 644.7990004831664, 584.6721341363856, 441.76630578289706, 411.5987257449483, 409.1585390684397, 385.00080085632476, 362.3176625934509, 341.1124818868232, 322.52064880706735, 322.4119233875021, 308.25551968518715, 302.8583495666845, 300.8992774503071, 293.8617636913115, 291.28244998999145, 289.1000359603746, 270.47465733426776, 269.17498870999253, 254.1334740155824, 251.03167087871827, 235.09178264454283, 232.8116164655274, 231.8139035439611, 1207.8344457240435, 1187.8397434121928, 1004.5492687452319, 964.8479496454086, 919.5037024393876, 786.1398268999901, 688.5684839267594, 598.4119436221096, 538.5330658002341, 515.917091407645, 503.4909154246628, 502.55047243439736, 481.3162098870292, 418.04347926876966, 378.1978472424022, 342.070603244265, 326.3714731256697, 283.40080208496767, 258.9435433402082, 255.23580430016136, 254.16448907245424, 240.2186371859262, 237.927461225155, 214.55646681625012, 214.18906546706546, 213.31393477007683, 209.81958074060495, 198.6308712174509, 194.37003768966466, 191.5290767575662, 605.0538053555715, 884.1190733994497, 2212.0576409485748, 714.5503784296815, 668.1180716716774, 580.6746159662141, 538.5165220138628, 476.98786622986836, 471.2171868165395, 466.20253831513446, 438.1989681723737, 391.49520577841554, 385.91423070935195, 356.59771864259375, 356.20307428178035, 350.5410670088053, 329.98356091465433, 329.2102494245808, 317.4508497009312, 277.7583504367023, 264.84029806028536, 239.17479688263063, 231.49505177787128, 226.97140539944616, 216.6162043330399, 211.1796760212539, 207.53376616107107, 193.83999784482504, 185.16574310822776, 179.821493982621, 177.84986765456003, 177.66152283562383, 1938.631998949931, 1270.0557078347676, 887.3437101171563, 663.9262640387504, 649.4171219433844, 554.8113790322819, 546.5543833835676, 543.4041609693394, 495.50627859268974, 445.16971318648336, 409.99555489032866, 408.39639587430594, 365.1970417198611, 333.5365197325962, 319.59460989205127, 317.9116485200259, 291.6803756128476, 281.6899506356379, 274.3199257735151, 273.04062694765514, 264.43554636172854, 262.9197841737337, 249.35876648356643, 224.45705759473077, 213.8391997348334, 212.36098943730966, 188.697783260064, 187.7066728895311, 187.19785693948705, 180.36300734577353, 1329.6054352105625, 1325.110041613103, 949.0907755956792, 774.4263682241162, 748.3282568285334, 678.9634408429688, 652.5222960217491, 630.4530585999017, 543.882486857667, 312.72157566681307, 312.7159958120265, 295.9460157732954, 289.60144735867624, 282.3896673952351, 261.0846877309517, 258.0422263215276, 251.52966051426586, 247.0698430497757, 242.8544998111793, 238.04882252401984, 231.15726422694112, 229.7700320937947, 219.499962897548, 214.7174620660543, 211.5048697900986, 209.2659257047596, 203.55722368315463, 200.52690666356014, 152.5741999072171, 149.86006554145155, 1200.248138099131, 1064.4478520015325, 963.2402710171975, 945.1215940235707, 739.4342923497908, 726.9442464365476, 571.9715776537324, 535.7863466286448, 527.7637360120934, 500.57483453647046, 426.31496917723746, 418.8424973218056, 366.0247786046872, 337.9292043300576, 320.1922216976871, 260.14000885419665, 221.6053335071572, 219.9459416929692, 219.9289098121784, 206.7739717145406, 191.26425444128526, 164.90786048482337, 163.83892522787022, 163.3912661219638, 160.12042408396184, 157.8160917171627, 155.84999988666058, 150.1468070170373, 150.03979453852375, 147.85749694932719, 881.442639735238, 466.0918538342037, 407.7413281410673, 383.707343263279, 366.6455169309039, 350.3689111663083, 344.6806112987419, 342.46211450249524, 284.9980857656441, 269.9590172163147, 267.05410953698157, 256.4183903576513, 248.66222437748118, 232.5240775285348, 221.31806451526725, 190.9978467219431, 189.05558031494874, 148.84690295590738, 145.68755073451996, 129.49064780951096, 128.88829693545077, 127.3378623853233, 121.17269003600386, 118.03168645158368, 116.66955036545176, 114.47122190570627, 110.47901342651754, 105.8261023748802, 105.73893876720439, 104.56194699920916, 2550.760392697543, 1025.057335903171, 546.5607137781152, 455.11826440183563, 344.01970247540385, 295.143683604586, 247.3065526083562, 234.82664107412887, 219.5866139846251, 145.1870164546315, 129.0938326093169, 127.76638870588619, 124.81565349863843, 102.52357756504045, 80.48274738066993, 66.14302653535145, 43.630908608473355, 42.864792600465655, 37.85250494572651, 32.642177839905344, 30.739235509025892, 21.74812097372529, 20.263521085166648, 14.441681976425416, 14.001444705349751, 13.480619136004673, 12.971384154578024, 11.312247059691638, 7.419500827299647, 3.495768596185772, 96.09087273403871, 33.731827746041816, 829.6495464208824, 786.2961220507756, 754.1478155142312, 307.1597955356657, 276.6755236147862, 232.6044235783492, 205.7983668582651, 189.56894688422835, 182.35697595546486, 158.85231945519888, 155.34470215107893, 125.76517993644262, 123.25167447137999, 121.38442478056247, 107.00808222159226, 104.30010241499289, 96.70999003609316, 96.1649787657598, 95.03887626396937, 94.39983229309902, 93.60814662911557, 73.90208589652889, 70.05728711361803, 67.87310903364194, 67.34187209831188, 66.67838618783355, 59.915641493293286, 56.994560925598755, 54.20900012674183, 47.038886281360135], \"Total\": [5346.0, 4414.0, 6030.0, 5782.0, 2551.0, 3071.0, 3560.0, 2212.0, 1939.0, 2372.0, 1330.0, 1326.0, 1025.0, 1555.0, 1270.0, 2054.0, 1892.0, 1201.0, 1589.0, 1751.0, 1208.0, 830.0, 1188.0, 1485.0, 1675.0, 1065.0, 882.0, 1452.0, 787.0, 1782.0, 6030.132142828326, 5782.249511407039, 2054.365962546083, 1782.7470498610603, 1734.7698048785276, 1443.8576761136108, 1081.5343476145952, 1078.4853639184073, 1058.2485962885037, 929.1258845951644, 910.7591079432362, 839.7604606351264, 813.7747260844039, 813.6336736516038, 801.2104545312911, 664.6883329111562, 660.1122991497366, 639.0900551717867, 638.4587984849567, 609.4344494374593, 558.937908145483, 535.3571265735612, 521.3269969899758, 520.4352462631939, 498.10255420061634, 452.10532374696106, 429.0229827128242, 424.08574885654525, 416.1187524337963, 404.72536683206255, 3560.9742378207443, 2372.420623314874, 1892.1399978319744, 1751.6160226567795, 1675.872072449774, 1568.2719702394756, 1359.858936072437, 1262.400834112636, 1158.1592954017617, 1031.182805919858, 975.5001651014786, 876.7563275310247, 860.3903457148982, 787.5133171992575, 765.9510824678521, 758.9045585614134, 702.366476227142, 641.8832164798598, 629.4558720993336, 622.5944499582436, 589.9208139313157, 583.9105973646334, 575.0777723374598, 571.261973399395, 552.7997722595686, 552.6224252175407, 551.3240641543528, 516.2872243029406, 502.7604324268137, 499.51294887681695, 5346.511669996655, 1589.3117141447551, 1485.7806613149442, 1452.151283015039, 1074.125871524162, 1057.8576211099148, 903.5262092805335, 888.4355880505691, 818.512513646457, 745.5863329450361, 743.2463728937605, 708.749613744556, 675.8253512937674, 662.7302937896154, 597.9011849423252, 583.2076330515363, 552.153524814929, 522.5232665700356, 518.9817638653825, 483.1098027603326, 416.89721151111695, 384.3964647969272, 363.04084344979543, 361.5942375193711, 339.48237226503284, 299.1193907941777, 299.1204473522147, 298.647599792327, 293.70107686975575, 281.50735272084376, 4414.1271649197915, 3071.5014387277793, 1555.7415066039423, 977.346510613772, 936.418865982142, 931.3362247187424, 769.4602628796946, 645.7407521740685, 585.6138862502808, 442.7080588380147, 412.5404812139772, 410.1002875035504, 385.9425583536242, 363.2594125803514, 342.05424497152296, 323.4623979865596, 323.3536729065819, 309.197270255736, 303.8001028097289, 301.8410338279957, 294.80351752226625, 292.2242144339287, 290.04180073032995, 271.41641000608274, 270.11675411022674, 255.0752382279708, 251.97342225746124, 236.03354893270262, 233.75337446491386, 232.7556821278454, 1208.7645878032179, 1188.7698817809953, 1005.4794044190626, 965.7780922684468, 920.4338422590921, 787.069977689951, 689.4986210639977, 599.3420940484369, 539.4632033741264, 516.847249611883, 504.42106715636953, 503.4806133541256, 482.24635947469085, 418.9736166768585, 379.12799106293426, 343.00073600549376, 327.3016130661547, 284.33098073164524, 259.873697086204, 256.165941677329, 255.09464567664028, 241.1487856628913, 238.85758991915418, 215.4866708098328, 215.11921917135112, 214.24406258598168, 210.74976443796055, 199.5610081951309, 195.3001808131923, 192.459209408137, 639.6124572282997, 981.0367766154416, 2212.9966424810236, 715.489455127287, 669.0570677336624, 581.6136189579762, 539.4557862673673, 477.92686049764245, 472.1561835397894, 467.1415402113099, 439.13796203889075, 392.4342071968256, 386.85322329571585, 357.53671408423935, 357.1420654420171, 351.48006047364055, 330.922557859843, 330.1492618384188, 318.3898439618202, 278.6973366856264, 265.779293227843, 240.11380212560323, 232.43405343499683, 227.91040444138224, 217.55521167843773, 212.11867101218843, 208.4727580836244, 194.77899853413686, 186.10473131659748, 180.76050201908342, 178.7888639227673, 178.6005275359545, 1939.5653483624274, 1270.9890209539535, 888.27703794603, 664.8595746127197, 650.3504555200321, 555.744697331248, 547.4877094279312, 544.3374843356894, 496.4396031503064, 446.103053189138, 410.92889662699724, 409.32971106612837, 366.1303771384273, 334.46985002002685, 320.52793493339436, 318.84497430474715, 292.61369820775957, 282.6232782775814, 275.25324895747195, 273.9739572971969, 265.36887843034884, 263.85311301483205, 250.2920822110161, 225.3903851673896, 214.77252097742328, 213.29432053468187, 189.6311024997336, 188.6400259703729, 188.13118092123062, 181.29631982758363, 1330.5427187209182, 1326.0473432359368, 950.0280900431133, 775.3636487463912, 749.2655395002173, 679.9007167248976, 653.4595726260675, 631.3903382451895, 544.8197648122776, 313.6588560124165, 313.6532750108451, 296.883295902511, 290.5387295333578, 283.3269480527115, 262.02197908519, 258.9795143646143, 252.4669806610347, 248.00712998145355, 243.79179066752715, 238.98610259384873, 232.09458337138682, 230.70732220425782, 220.4372481513251, 215.65475504670275, 212.4421574464117, 210.20319788074434, 204.49450361983412, 201.46423328879496, 153.51148638948052, 150.79733787849554, 1201.1943791018946, 1065.394095103539, 964.1866113915695, 946.0679789623337, 740.3805536277946, 727.8904983016022, 572.9178421358316, 536.7326066498969, 528.7099910914961, 501.5210941741418, 427.2623097530313, 419.7887369419859, 366.9710338571748, 338.8754450075567, 321.1384744595631, 261.08625770961686, 222.551581476841, 220.8921817016803, 220.87513983317828, 207.72022157157588, 192.21056536588765, 165.85411917179732, 164.78516566708393, 164.3375055547254, 161.0666562660719, 158.76233737070473, 156.7962425623407, 151.09305219699476, 150.98604256250655, 148.8037519153743, 882.3805136695483, 467.0297319234892, 408.67921228637346, 384.6452249231482, 367.5833980425511, 351.306793136012, 345.61848533852987, 343.39999756023684, 285.93595270438453, 270.89690555237576, 267.99198970488203, 257.3562568217734, 249.60012907450712, 233.46196258229568, 222.25595573703384, 191.93572911866423, 189.9934478460361, 149.78482085214742, 146.62543169743384, 130.42858353065384, 129.8261812450671, 128.2757372305489, 122.11058810547313, 118.9695684313578, 117.60743026907694, 115.40910363224404, 111.41689522057315, 106.7640197431192, 106.67684898739675, 105.49985638673638, 2551.680839962053, 1025.9777900406307, 547.4811694733668, 456.0387139422017, 344.9401534697868, 296.06413842803283, 248.2270059617639, 235.7470884166343, 220.50705672374792, 146.1074702702586, 130.01428540798875, 128.6868342713126, 125.73610116238902, 103.44401454542061, 81.40319445672243, 67.06347341048459, 44.55136081094908, 43.785409236047286, 38.77297163440012, 33.56261792909592, 31.659686681942443, 22.668567978042027, 21.183961040071278, 15.362838607225585, 14.921875907240691, 14.401156715705943, 13.892143009167574, 12.23268172916666, 8.341155710712771, 4.416208868699671, 981.0367766154416, 639.6124572282997, 830.5978263137579, 787.244402254893, 755.0960932443459, 308.10806753461026, 277.6238103541369, 233.55269070796888, 206.74663756919767, 190.5172127538976, 183.30525773400421, 159.8006010208614, 156.29297569711173, 126.71345110204875, 124.19997939382273, 122.33271448494081, 107.95636076683385, 105.24838499739329, 97.65827416431655, 97.11325918826547, 95.98715187969061, 95.34811864813345, 94.5564297828543, 74.85037184269697, 71.00557591429249, 68.82137830254726, 68.29013492480091, 67.6266596478307, 60.86391585686184, 57.942913958480595, 55.15735484682615, 47.987156055563354], \"Category\": [\"Default\", \"Default\", \"Default\", \"Default\", \"Default\", \"Default\", \"Default\", \"Default\", \"Default\", \"Default\", \"Default\", \"Default\", \"Default\", \"Default\", \"Default\", \"Default\", \"Default\", \"Default\", \"Default\", \"Default\", \"Default\", \"Default\", \"Default\", \"Default\", \"Default\", \"Default\", \"Default\", \"Default\", \"Default\", \"Default\", \"Topic1\", \"Topic1\", \"Topic1\", \"Topic1\", \"Topic1\", \"Topic1\", \"Topic1\", \"Topic1\", \"Topic1\", \"Topic1\", \"Topic1\", \"Topic1\", \"Topic1\", \"Topic1\", \"Topic1\", \"Topic1\", \"Topic1\", \"Topic1\", \"Topic1\", \"Topic1\", \"Topic1\", \"Topic1\", \"Topic1\", \"Topic1\", \"Topic1\", \"Topic1\", \"Topic1\", \"Topic1\", \"Topic1\", \"Topic1\", \"Topic2\", \"Topic2\", \"Topic2\", \"Topic2\", \"Topic2\", \"Topic2\", \"Topic2\", \"Topic2\", \"Topic2\", \"Topic2\", \"Topic2\", \"Topic2\", \"Topic2\", \"Topic2\", \"Topic2\", \"Topic2\", \"Topic2\", \"Topic2\", \"Topic2\", \"Topic2\", \"Topic2\", \"Topic2\", \"Topic2\", \"Topic2\", \"Topic2\", \"Topic2\", \"Topic2\", \"Topic2\", \"Topic2\", \"Topic2\", \"Topic3\", \"Topic3\", \"Topic3\", \"Topic3\", \"Topic3\", \"Topic3\", \"Topic3\", \"Topic3\", \"Topic3\", \"Topic3\", \"Topic3\", \"Topic3\", \"Topic3\", \"Topic3\", \"Topic3\", \"Topic3\", \"Topic3\", \"Topic3\", \"Topic3\", \"Topic3\", \"Topic3\", \"Topic3\", \"Topic3\", \"Topic3\", \"Topic3\", \"Topic3\", \"Topic3\", \"Topic3\", \"Topic3\", \"Topic3\", \"Topic4\", \"Topic4\", \"Topic4\", \"Topic4\", \"Topic4\", \"Topic4\", \"Topic4\", \"Topic4\", \"Topic4\", \"Topic4\", \"Topic4\", \"Topic4\", \"Topic4\", \"Topic4\", \"Topic4\", \"Topic4\", \"Topic4\", \"Topic4\", \"Topic4\", \"Topic4\", \"Topic4\", \"Topic4\", \"Topic4\", \"Topic4\", \"Topic4\", \"Topic4\", \"Topic4\", \"Topic4\", \"Topic4\", \"Topic4\", \"Topic5\", \"Topic5\", \"Topic5\", \"Topic5\", \"Topic5\", \"Topic5\", \"Topic5\", \"Topic5\", \"Topic5\", \"Topic5\", \"Topic5\", \"Topic5\", \"Topic5\", \"Topic5\", \"Topic5\", \"Topic5\", \"Topic5\", \"Topic5\", \"Topic5\", \"Topic5\", \"Topic5\", \"Topic5\", \"Topic5\", \"Topic5\", \"Topic5\", \"Topic5\", \"Topic5\", \"Topic5\", \"Topic5\", \"Topic5\", \"Topic5\", \"Topic5\", \"Topic6\", \"Topic6\", \"Topic6\", \"Topic6\", \"Topic6\", \"Topic6\", \"Topic6\", \"Topic6\", \"Topic6\", \"Topic6\", \"Topic6\", \"Topic6\", \"Topic6\", \"Topic6\", \"Topic6\", \"Topic6\", \"Topic6\", \"Topic6\", \"Topic6\", \"Topic6\", \"Topic6\", \"Topic6\", \"Topic6\", \"Topic6\", \"Topic6\", \"Topic6\", \"Topic6\", \"Topic6\", \"Topic6\", \"Topic6\", \"Topic7\", \"Topic7\", \"Topic7\", \"Topic7\", \"Topic7\", \"Topic7\", \"Topic7\", \"Topic7\", \"Topic7\", \"Topic7\", \"Topic7\", \"Topic7\", \"Topic7\", \"Topic7\", \"Topic7\", \"Topic7\", \"Topic7\", \"Topic7\", \"Topic7\", \"Topic7\", \"Topic7\", \"Topic7\", \"Topic7\", \"Topic7\", \"Topic7\", \"Topic7\", \"Topic7\", \"Topic7\", \"Topic7\", \"Topic7\", \"Topic8\", \"Topic8\", \"Topic8\", \"Topic8\", \"Topic8\", \"Topic8\", \"Topic8\", \"Topic8\", \"Topic8\", \"Topic8\", \"Topic8\", \"Topic8\", \"Topic8\", \"Topic8\", \"Topic8\", \"Topic8\", \"Topic8\", \"Topic8\", \"Topic8\", \"Topic8\", \"Topic8\", \"Topic8\", \"Topic8\", \"Topic8\", \"Topic8\", \"Topic8\", \"Topic8\", \"Topic8\", \"Topic8\", \"Topic8\", \"Topic9\", \"Topic9\", \"Topic9\", \"Topic9\", \"Topic9\", \"Topic9\", \"Topic9\", \"Topic9\", \"Topic9\", \"Topic9\", \"Topic9\", \"Topic9\", \"Topic9\", \"Topic9\", \"Topic9\", \"Topic9\", \"Topic9\", \"Topic9\", \"Topic9\", \"Topic9\", \"Topic9\", \"Topic9\", \"Topic9\", \"Topic9\", \"Topic9\", \"Topic9\", \"Topic9\", \"Topic9\", \"Topic9\", \"Topic9\", \"Topic10\", \"Topic10\", \"Topic10\", \"Topic10\", \"Topic10\", \"Topic10\", \"Topic10\", \"Topic10\", \"Topic10\", \"Topic10\", \"Topic10\", \"Topic10\", \"Topic10\", \"Topic10\", \"Topic10\", \"Topic10\", \"Topic10\", \"Topic10\", \"Topic10\", \"Topic10\", \"Topic10\", \"Topic10\", \"Topic10\", \"Topic10\", \"Topic10\", \"Topic10\", \"Topic10\", \"Topic10\", \"Topic10\", \"Topic10\", \"Topic11\", \"Topic11\", \"Topic11\", \"Topic11\", \"Topic11\", \"Topic11\", \"Topic11\", \"Topic11\", \"Topic11\", \"Topic11\", \"Topic11\", \"Topic11\", \"Topic11\", \"Topic11\", \"Topic11\", \"Topic11\", \"Topic11\", \"Topic11\", \"Topic11\", \"Topic11\", \"Topic11\", \"Topic11\", \"Topic11\", \"Topic11\", \"Topic11\", \"Topic11\", \"Topic11\", \"Topic11\", \"Topic11\", \"Topic11\", \"Topic11\", \"Topic11\", \"Topic12\", \"Topic12\", \"Topic12\", \"Topic12\", \"Topic12\", \"Topic12\", \"Topic12\", \"Topic12\", \"Topic12\", \"Topic12\", \"Topic12\", \"Topic12\", \"Topic12\", \"Topic12\", \"Topic12\", \"Topic12\", \"Topic12\", \"Topic12\", \"Topic12\", \"Topic12\", \"Topic12\", \"Topic12\", \"Topic12\", \"Topic12\", \"Topic12\", \"Topic12\", \"Topic12\", \"Topic12\", \"Topic12\", \"Topic12\"], \"logprob\": [30.0, 29.0, 28.0, 27.0, 26.0, 25.0, 24.0, 23.0, 22.0, 21.0, 20.0, 19.0, 18.0, 17.0, 16.0, 15.0, 14.0, 13.0, 12.0, 11.0, 10.0, 9.0, 8.0, 7.0, 6.0, 5.0, 4.0, 3.0, 2.0, 1.0, -2.3115, -2.3535, -3.3886, -3.5305, -3.5578, -3.7415, -4.0306, -4.0335, -4.0524, -4.1827, -4.2027, -4.2839, -4.3154, -4.3155, -4.331, -4.518, -4.5249, -4.5573, -4.5583, -4.6049, -4.6915, -4.7347, -4.7613, -4.763, -4.807, -4.9041, -4.9566, -4.9682, -4.9872, -5.015, -2.7098, -3.116, -3.3423, -3.4196, -3.4638, -3.5302, -3.6729, -3.7473, -3.8335, -3.9498, -4.0053, -4.1122, -4.131, -4.2196, -4.2474, -4.2567, -4.3342, -4.4244, -4.4439, -4.4549, -4.5089, -4.5192, -4.5344, -4.5411, -4.574, -4.5743, -4.5767, -4.6425, -4.6691, -4.6756, -2.0362, -3.2498, -3.3172, -3.3401, -3.6419, -3.6572, -3.815, -3.8319, -3.9139, -4.0074, -4.0105, -4.0581, -4.1057, -4.1253, -4.2284, -4.2534, -4.3082, -4.3634, -4.3702, -4.442, -4.5897, -4.6711, -4.7284, -4.7324, -4.7957, -4.9226, -4.9226, -4.9242, -4.9409, -4.9835, -2.0051, -2.3678, -3.0483, -3.5135, -3.5564, -3.5618, -3.7529, -3.9285, -4.0264, -4.3066, -4.3774, -4.3833, -4.4442, -4.5049, -4.5652, -4.6212, -4.6216, -4.6665, -4.6841, -4.6906, -4.7143, -4.7231, -4.7306, -4.7972, -4.802, -4.8595, -4.8718, -4.9374, -4.9472, -4.9515, -2.9964, -3.0131, -3.1807, -3.2211, -3.2692, -3.4259, -3.5584, -3.6988, -3.8042, -3.8471, -3.8715, -3.8733, -3.9165, -4.0574, -4.1576, -4.258, -4.305, -4.4462, -4.5364, -4.5508, -4.555, -4.6115, -4.6211, -4.7245, -4.7262, -4.7303, -4.7468, -4.8016, -4.8233, -4.838, -3.6877, -3.3084, -2.3895, -3.5195, -3.5867, -3.727, -3.8023, -3.9237, -3.9358, -3.9465, -4.0085, -4.1212, -4.1355, -4.2145, -4.2157, -4.2317, -4.2921, -4.2945, -4.3308, -4.4644, -4.512, -4.614, -4.6466, -4.6663, -4.713, -4.7384, -4.7559, -4.8241, -4.8699, -4.8992, -4.9102, -4.9113, -2.4186, -2.8415, -3.2001, -3.4902, -3.5123, -3.6697, -3.6847, -3.6905, -3.7828, -3.8899, -3.9722, -3.9761, -4.0879, -4.1786, -4.2213, -4.2266, -4.3127, -4.3476, -4.3741, -4.3787, -4.4108, -4.4165, -4.4695, -4.5747, -4.6231, -4.6301, -4.7482, -4.7535, -4.7562, -4.7934, -2.6896, -2.693, -3.0267, -3.2301, -3.2644, -3.3617, -3.4014, -3.4358, -3.5835, -4.1369, -4.1369, -4.1921, -4.2137, -4.2389, -4.3174, -4.3291, -4.3547, -4.3726, -4.3898, -4.4098, -4.4391, -4.4452, -4.4909, -4.5129, -4.528, -4.5386, -4.5663, -4.5813, -4.8546, -4.8725, -2.7803, -2.9004, -3.0003, -3.0192, -3.2647, -3.2817, -3.5215, -3.5868, -3.6019, -3.6548, -3.8154, -3.8331, -3.9679, -4.0477, -4.1016, -4.3093, -4.4697, -4.4772, -4.4773, -4.5389, -4.6169, -4.7652, -4.7717, -4.7744, -4.7946, -4.8091, -4.8217, -4.8589, -4.8597, -4.8743, -2.5108, -3.148, -3.2817, -3.3425, -3.388, -3.4334, -3.4498, -3.4562, -3.6399, -3.6941, -3.7049, -3.7456, -3.7763, -3.8434, -3.8928, -4.0401, -4.0503, -4.2895, -4.3109, -4.4288, -4.4334, -4.4455, -4.4952, -4.5214, -4.533, -4.5521, -4.5875, -4.6306, -4.6314, -4.6426, -1.2493, -2.1609, -2.7898, -2.9729, -3.2527, -3.406, -3.5828, -3.6346, -3.7017, -4.1154, -4.2329, -4.2432, -4.2666, -4.4633, -4.7054, -4.9016, -5.3177, -5.3354, -5.4597, -5.6078, -5.6679, -6.0139, -6.0846, -6.4233, -6.4543, -6.4922, -6.5307, -6.6675, -7.0893, -7.8419, -4.5281, -5.575, -2.2012, -2.2548, -2.2966, -3.1948, -3.2993, -3.4728, -3.5953, -3.6774, -3.7162, -3.8542, -3.8765, -4.0877, -4.1079, -4.1232, -4.2493, -4.2749, -4.3504, -4.3561, -4.3679, -4.3746, -4.383, -4.6194, -4.6728, -4.7045, -4.7124, -4.7223, -4.8292, -4.8792, -4.9293, -5.0712], \"loglift\": [30.0, 29.0, 28.0, 27.0, 26.0, 25.0, 24.0, 23.0, 22.0, 21.0, 20.0, 19.0, 18.0, 17.0, 16.0, 15.0, 14.0, 13.0, 12.0, 11.0, 10.0, 9.0, 8.0, 7.0, 6.0, 5.0, 4.0, 3.0, 2.0, 1.0, 1.6734, 1.6734, 1.6731, 1.673, 1.673, 1.6729, 1.6727, 1.6727, 1.6727, 1.6725, 1.6725, 1.6724, 1.6724, 1.6724, 1.6724, 1.6721, 1.6721, 1.6721, 1.6721, 1.672, 1.6719, 1.6718, 1.6718, 1.6718, 1.6717, 1.6715, 1.6714, 1.6713, 1.6713, 1.6712, 1.8019, 1.8018, 1.8017, 1.8016, 1.8016, 1.8015, 1.8015, 1.8014, 1.8013, 1.8012, 1.8012, 1.8011, 1.8011, 1.801, 1.8009, 1.8009, 1.8008, 1.8007, 1.8007, 1.8006, 1.8006, 1.8005, 1.8005, 1.8005, 1.8005, 1.8005, 1.8004, 1.8003, 1.8003, 1.8003, 2.069, 2.0686, 2.0686, 2.0685, 2.0683, 2.0683, 2.0681, 2.0681, 2.068, 2.0679, 2.0679, 2.0679, 2.0678, 2.0678, 2.0676, 2.0676, 2.0675, 2.0674, 2.0674, 2.0672, 2.0669, 2.0667, 2.0666, 2.0666, 2.0664, 2.066, 2.066, 2.066, 2.066, 2.0658, 2.2918, 2.2917, 2.2914, 2.2911, 2.291, 2.291, 2.2908, 2.2906, 2.2904, 2.2899, 2.2898, 2.2898, 2.2896, 2.2895, 2.2893, 2.2891, 2.2891, 2.289, 2.2889, 2.2889, 2.2889, 2.2888, 2.2888, 2.2886, 2.2886, 2.2884, 2.2883, 2.2881, 2.288, 2.288, 2.5957, 2.5956, 2.5955, 2.5955, 2.5954, 2.5952, 2.5951, 2.5949, 2.5947, 2.5946, 2.5946, 2.5946, 2.5945, 2.5942, 2.594, 2.5937, 2.5936, 2.5932, 2.5928, 2.5928, 2.5928, 2.5926, 2.5925, 2.5921, 2.5921, 2.5921, 2.592, 2.5918, 2.5917, 2.5916, 2.5409, 2.4924, 2.5979, 2.597, 2.5969, 2.5967, 2.5966, 2.5963, 2.5963, 2.5963, 2.5962, 2.5959, 2.5959, 2.5957, 2.5957, 2.5956, 2.5955, 2.5955, 2.5954, 2.5949, 2.5948, 2.5944, 2.5943, 2.5942, 2.594, 2.5939, 2.5938, 2.5935, 2.5933, 2.5931, 2.593, 2.593, 2.7006, 2.7004, 2.7, 2.6997, 2.6997, 2.6994, 2.6994, 2.6994, 2.6992, 2.699, 2.6988, 2.6988, 2.6985, 2.6983, 2.6982, 2.6982, 2.6979, 2.6978, 2.6977, 2.6977, 2.6976, 2.6976, 2.6974, 2.6969, 2.6967, 2.6967, 2.6962, 2.6961, 2.6961, 2.6959, 2.8065, 2.8065, 2.8062, 2.806, 2.806, 2.8058, 2.8058, 2.8057, 2.8055, 2.8042, 2.8042, 2.8041, 2.804, 2.8039, 2.8036, 2.8036, 2.8035, 2.8034, 2.8034, 2.8033, 2.8032, 2.8032, 2.803, 2.8029, 2.8028, 2.8028, 2.8026, 2.8026, 2.8011, 2.801, 2.8181, 2.818, 2.8179, 2.8179, 2.8176, 2.8176, 2.8172, 2.8171, 2.8171, 2.817, 2.8167, 2.8166, 2.8163, 2.8161, 2.8159, 2.8153, 2.8146, 2.8146, 2.8146, 2.8143, 2.814, 2.8132, 2.8131, 2.8131, 2.813, 2.8129, 2.8128, 2.8126, 2.8126, 2.8125, 3.396, 3.3951, 3.3948, 3.3946, 3.3945, 3.3944, 3.3944, 3.3944, 3.3938, 3.3936, 3.3936, 3.3934, 3.3933, 3.3931, 3.3929, 3.3922, 3.3921, 3.3908, 3.3907, 3.3899, 3.3898, 3.3897, 3.3894, 3.3892, 3.3891, 3.3889, 3.3886, 3.3883, 3.3883, 3.3882, 3.5957, 3.5951, 3.5943, 3.594, 3.5934, 3.5929, 3.5923, 3.5921, 3.5918, 3.5897, 3.5889, 3.5889, 3.5887, 3.5871, 3.5847, 3.5822, 3.5752, 3.5748, 3.572, 3.5682, 3.5665, 3.5546, 3.5516, 3.5342, 3.5324, 3.53, 3.5275, 3.5178, 3.4789, 3.3623, 1.2727, 0.6536, 3.7662, 3.7661, 3.766, 3.7642, 3.7639, 3.7632, 3.7627, 3.7623, 3.7621, 3.7614, 3.7612, 3.7598, 3.7596, 3.7595, 3.7585, 3.7583, 3.7575, 3.7575, 3.7574, 3.7573, 3.7572, 3.7546, 3.7539, 3.7534, 3.7533, 3.7532, 3.7516, 3.7508, 3.75, 3.7473]}, \"token.table\": {\"Topic\": [2, 2, 7, 7, 4, 1, 4, 1, 8, 6, 12, 4, 8, 11, 12, 5, 1, 2, 3, 4, 11, 8, 1, 6, 10, 12, 10, 3, 12, 5, 6, 6, 11, 7, 8, 8, 9, 10, 2, 7, 8, 11, 9, 1, 3, 4, 12, 9, 2, 2, 5, 9, 10, 12, 2, 8, 1, 7, 6, 12, 9, 7, 6, 7, 9, 11, 11, 3, 6, 12, 2, 5, 12, 12, 8, 8, 2, 10, 4, 6, 7, 11, 12, 5, 11, 2, 9, 1, 9, 12, 5, 12, 5, 4, 3, 7, 8, 10, 10, 6, 12, 12, 4, 4, 1, 11, 3, 2, 8, 10, 9, 7, 2, 1, 5, 8, 7, 7, 10, 12, 1, 1, 2, 7, 8, 7, 3, 4, 12, 9, 4, 6, 9, 7, 3, 8, 10, 6, 5, 5, 10, 6, 5, 11, 5, 12, 8, 9, 10, 11, 3, 9, 11, 4, 6, 11, 4, 2, 3, 1, 4, 1, 3, 9, 4, 2, 3, 5, 2, 9, 4, 5, 11, 10, 1, 7, 7, 9, 11, 10, 10, 6, 2, 5, 9, 3, 1, 3, 6, 3, 5, 7, 1, 4, 12, 12, 9, 2, 2, 8, 10, 5, 6, 11, 11, 4, 4, 10, 11, 9, 4, 7, 10, 4, 7, 11, 10, 5, 10, 11, 8, 5, 6, 10, 3, 5, 6, 1, 2, 2, 8, 5, 4, 10, 6, 1, 10, 8, 11, 4, 6, 7, 12, 9, 5, 1, 9, 3, 5, 10, 3, 7, 8, 9, 12, 11, 6, 7, 9, 12, 8, 1, 5, 7, 4, 1, 2, 8, 5, 11, 1, 6, 9, 3, 8, 11, 9, 11, 12, 11, 11, 9, 7, 2, 6, 8, 8, 10, 6, 12, 5, 8, 12, 11, 3, 2, 6, 11, 7, 11, 6, 1, 1, 3, 3, 3, 6, 10, 7, 7, 3, 3, 8, 2, 1, 5, 9, 6, 12, 3, 7, 1, 12, 10, 2, 9, 4, 3, 4, 4, 2, 9, 11, 4, 8, 4, 5, 7, 1, 10, 8, 3, 3, 6, 2, 5, 10, 2, 4, 8, 3, 5, 6, 5, 11, 2, 12, 1, 1, 10, 1, 5, 9, 12], \"Freq\": [0.9989731019426616, 0.9993975087291213, 0.9948377024171033, 0.9977395198180954, 0.9986222792027708, 0.9991665107308666, 0.9998367447524339, 0.9982077554521964, 0.9989178319526673, 0.9955877345744081, 0.9885364861856063, 0.995810701600139, 0.9976957036928262, 0.9977004966132074, 0.9976335502438721, 0.996023199965435, 0.9989644275714281, 0.9989990190413663, 0.998356617839245, 0.9994018367134749, 0.9791631961311006, 0.9970247706263641, 0.9990479845839749, 0.9986341743739499, 0.998412882503242, 0.9903383285594779, 0.9936551464181631, 0.9993738475125153, 0.9886390431769119, 0.9977607211945162, 0.9966375937168852, 0.9956347729421079, 0.9441104976622778, 0.9969126376585794, 0.9975818243958604, 0.9984953467821416, 0.9948501781200104, 0.9962801939457343, 0.9975983922334614, 0.9997085180126029, 0.9979172064732227, 0.9957076825820053, 0.998769313556577, 0.9974650069902922, 0.9989985774729794, 0.9988528644481945, 0.9984192936128493, 0.998121109804585, 0.9986240230976852, 0.9993683638430043, 0.9977415270837691, 0.9964548799035089, 0.9951247788884282, 0.9790172162889217, 0.9980544683247381, 0.9942760248517867, 0.9983149849636656, 0.9985952395410267, 0.9993159156661506, 0.9880650704358698, 0.9988711392985681, 0.9991144881522006, 0.9938302782496633, 0.9973498898435215, 0.9945985776230198, 0.9924201666881913, 0.6793156957006279, 0.9985790948089162, 0.9974479504574757, 0.9907335413120496, 0.9993481796586208, 0.9993523710578519, 0.9932594122725438, 0.996388635007678, 0.9982412784651487, 0.9952838909228858, 0.9991373572025941, 0.9900547269648037, 0.9984847956040976, 0.9970678933698007, 0.9928497179158603, 0.9977223119212345, 0.996403639984254, 0.9458852671846175, 0.05315718856905288, 0.9975067670816792, 0.9981353459095731, 0.9974545784169292, 0.9986571256388963, 0.9911412281773797, 0.9971887885303609, 0.9917272309178023, 0.9970824085768791, 0.9984006190448098, 0.9991746652761186, 0.9983529206791163, 0.9992101765888833, 0.9928438462231238, 0.9983225453447989, 0.9984988560248588, 0.9972852177164395, 0.9858610881132489, 0.9965330214806951, 0.9947814135259876, 0.998321981508474, 0.9112899222553439, 0.9962577123763, 0.9988736880931032, 0.9959391087605874, 0.9936362508922022, 0.9933775475893045, 0.9938312134905088, 0.9992757679774863, 0.9976462613185333, 0.9953189035953087, 0.9981457565598119, 0.9986600010133716, 0.9977946675823028, 0.9952620183206313, 0.9992802457521337, 0.9997839056573788, 0.9995809557720943, 0.9984390889258861, 0.9966719462608488, 0.999592107255722, 0.9954469240155432, 0.9992135948325124, 0.996136805823645, 0.9985484056212814, 0.9990056737504985, 0.9956211778479114, 0.9975512688807304, 0.9959610082402771, 0.9975429134054186, 0.997612957782696, 0.9979186925432951, 0.9877903597905568, 0.9991550998636588, 0.9992768352992089, 0.9952361955307657, 0.9948351029549137, 0.995792764400471, 0.999528654598328, 0.9950569199470871, 0.994797214420625, 0.9858380711466058, 0.9958738077940683, 0.9965327325085309, 0.9890470057100782, 0.9990469676340733, 0.9987787506162836, 0.9970455859919848, 0.9964057165664071, 0.9969179012188235, 0.9953613573407971, 0.992198661825461, 0.9985704737569564, 0.9994011924778798, 0.998942343346622, 0.9984892177524078, 0.997213653102994, 0.9994059829249103, 0.9963671237255917, 0.9974166171658226, 0.9961278110419742, 0.9977909024963006, 0.9971329852588904, 0.9991943363856813, 0.9994796306567129, 0.9952352163260242, 0.9967533246839047, 0.9933426543294605, 0.9991211214189711, 0.9943490570011098, 0.9982943637395614, 0.996766712338224, 0.9966071571127041, 0.9973539223328654, 0.9876241533162423, 0.996689125885189, 0.9909050630031045, 0.9974086457166963, 0.9988903412650066, 0.9983607349898462, 0.9927657017903798, 0.9988980528029895, 0.999549957806897, 0.9999042983484865, 0.9977322788455901, 0.9962541933788452, 0.9986405558333055, 0.9979027017138349, 0.9977864915742386, 0.9986898710827438, 0.9794287443410827, 0.9858057792585417, 0.9975215566962916, 0.9988080733588844, 0.9990452051760444, 0.9977979735181669, 0.9982104969358798, 0.9971827759606063, 0.9968022096736109, 0.8392122438152919, 0.9972744446816941, 0.9997446460245302, 0.995813646109494, 0.9918502820163022, 0.9997331798117576, 0.9949218007438915, 0.998951721834652, 0.998562342724762, 0.9959231287996988, 0.996408101426392, 0.9948416014777403, 0.9832367686488431, 0.997795146961526, 0.9970247750376547, 0.9980212511829081, 0.9820623068334672, 0.993480012278422, 0.9974155129422885, 0.9995496412141384, 0.9947711468090144, 0.9979293257099233, 0.9991413624298576, 0.9989449714759507, 0.9998122524015212, 0.999487273175985, 0.9984874855343268, 0.9978994503111036, 0.9995232081164909, 0.9975577755465865, 0.9957344937355449, 0.9972121638796418, 0.9974397893363012, 0.9984354667310056, 0.9967521848649655, 0.9827624153316437, 0.9972743964216588, 0.998060664561357, 0.997923495695944, 0.9891058210344473, 0.9934693131512581, 0.9964423948944376, 0.997555163169059, 0.9986350621504634, 0.9983230689859839, 0.9964096183025022, 0.9962984352406412, 0.9977027939528621, 0.9975273579025017, 0.9969638738243405, 0.9958394680779216, 0.9943695709031382, 0.9968309750009977, 0.994063926753597, 0.9939317627800061, 0.9918612275985897, 0.9941153681020728, 0.9947125201962252, 0.9988201295112672, 0.9993674634325552, 0.9964030734755659, 0.9958656614473791, 0.9972422193279583, 0.9987582986830076, 0.9986752231572333, 0.9976139909877568, 0.9841422855631822, 0.9995059356036415, 0.9963453563157244, 0.9987766040308536, 0.9984927527072686, 0.9960996436682216, 0.980064163209138, 0.9960378527260277, 0.8992304584997458, 0.9897157915371018, 0.994662746385815, 0.9357807496957928, 0.9986914747228784, 0.9991091865268704, 0.998125866814363, 0.9975563290500914, 0.9953165483840082, 0.996217792102138, 0.9967267050696763, 0.9960006030424253, 0.9928793219019485, 0.9976761861890472, 0.9992967084035198, 0.9977530372724834, 0.9941456657588075, 0.9994745783578491, 0.9988529619451878, 0.9965189628714625, 0.9705068278380161, 0.9964450734412674, 0.9382198382447773, 0.9977944521479051, 0.9992211806466172, 0.9995562495517487, 0.9994176048518254, 0.9981977283508227, 0.9981082883181284, 0.9974978710097506, 0.9975956379640815, 0.9987071335879905, 0.9967514914500952, 0.9979108621731326, 0.9989518253362947, 0.99693411462844, 0.9984405192014956, 0.9987882324517792, 0.9941932459132565, 0.9983979515589706, 0.9960054283453461, 0.9837268460616901, 0.997831558690653, 0.9992218493333552, 0.9976155526532503, 0.994989999939006, 0.9983380307440313, 0.9997264125613724, 0.9951982480018249, 0.9973663510896504, 0.9978478831559826, 0.9985652606617487, 0.9957846232529642, 0.9991889351696559, 0.998960972568861, 0.9027052657389779, 0.9967770541638664, 0.9966680904373317, 0.9995233741590137, 0.9954484906553361, 0.9939872757100044, 0.999335092884624, 0.9947300413888416, 0.9983109599554499, 0.9992071879641571, 0.9983841394132814, 0.9984200634226269, 0.9985532333772505, 0.9966379933944828, 0.9872829410856575, 0.9983840523992131, 0.9973170282072994, 0.9981503297587193, 0.9991892849351361, 0.9990454183510189, 0.9947262020507184, 0.9010875240067792, 0.09785565871566833, 0.9996483118167387, 0.9881386778768699, 0.9990944314828168, 0.9973114587428398, 0.9947603445550594, 0.9992813968794143, 0.9957088645520695, 0.9937018791678635, 0.9811080337413073], \"Term\": [\"$\", \"%\", \"'\", \"'ll\", \"'m\", \"'re\", \"'s\", \"'ve\", \"/\", \"=\", \">\", \"able\", \"absolutely\", \"access\", \"administration\", \"adult\", \"already\", \"also\", \"america\", \"american\", \"announces\", \"another\", \"anti\", \"antibody\", \"anyone\", \"appointment\", \"approach\", \"approve\", \"argument\", \"around\", \"as\", \"ask\", \"attention\", \"away\", \"b\", \"back\", \"bc\", \"believe\", \"better\", \"biden\", \"big\", \"billion\", \"blood\", \"body\", \"business\", \"ca\", \"card\", \"care\", \"case\", \"cdc\", \"cell\", \"chance\", \"change\", \"charged\", \"child\", \"china\", \"choice\", \"choose\", \"citizen\", \"claim\", \"clot\", \"come\", \"community\", \"company\", \"completely\", \"compromised\", \"condemn\", \"continue\", \"control\", \"coronavirus\", \"could\", \"country\", \"course\", \"credit\", \"day\", \"dear\", \"death\", \"developed\", \"died\", \"disease\", \"distribution\", \"doctor\", \"done\", \"dos\", \"dos\", \"dose\", \"dying\", \"effect\", \"effective\", \"effectiveness\", \"effort\", \"emergency\", \"end\", \"enough\", \"even\", \"ever\", \"everyone\", \"experiment\", \"experimental\", \"fact\", \"fake\", \"false\", \"family\", \"far\", \"fauci\", \"fault\", \"fda\", \"feel\", \"fight\", \"finally\", \"find\", \"fine\", \"first\", \"flu\", \"following\", \"force\", \"free\", \"freedom\", \"front\", \"fully\", \"get\", \"getting\", \"give\", \"giving\", \"go\", \"god\", \"going\", \"gon\", \"good\", \"got\", \"gotten\", \"government\", \"great\", \"guidance\", \"guideline\", \"guy\", \"happen\", \"harris\", \"health\", \"healthy\", \"hear\", \"hell\", \"help\", \"herd\", \"higher\", \"hippa\", \"hope\", \"human\", \"immigrant\", \"immune\", \"immunity\", \"incompetent\", \"infected\", \"infection\", \"information\", \"international\", \"issue\", \"j\", \"keep\", \"kid\", \"kill\", \"know\", \"last\", \"le\", \"least\", \"let\", \"lie\", \"life\", \"like\", \"likely\", \"line\", \"little\", \"live\", \"living\", \"long\", \"longer\", \"looking\", \"lot\", \"lottery\", \"low\", \"lower\", \"made\", \"make\", \"making\", \"man\", \"mandate\", \"many\", \"mask\", \"masking\", \"maskless\", \"may\", \"maybe\", \"mean\", \"medical\", \"medicine\", \"mention\", \"might\", \"million\", \"moderna\", \"month\", \"mr\", \"mrna\", \"much\", \"murphydiot\", \"must\", \"n't\", \"na\", \"nation\", \"need\", \"needed\", \"never\", \"new\", \"next\", \"non\", \"normal\", \"nose\", \"nothing\", \"number\", \"oh\", \"ohio\", \"ok\", \"old\", \"one\", \"operation\", \"others\", \"pandemic\", \"passport\", \"people\", \"pfizer\", \"place\", \"plan\", \"please\", \"point\", \"poor\", \"population\", \"ppl\", \"president\", \"prevent\", \"prior\", \"problem\", \"proof\", \"protect\", \"proven\", \"provide\", \"provider\", \"public\", \"put\", \"rate\", \"reach\", \"real\", \"really\", \"reason\", \"record\", \"refuse\", \"remember\", \"republican\", \"require\", \"required\", \"response\", \"responsible\", \"rest\", \"right\", \"risk\", \"rollout\", \"rule\", \"rushed\", \"safe\", \"said\", \"save\", \"saving\", \"say\", \"school\", \"science\", \"see\", \"seems\", \"selfishness\", \"send\", \"september\", \"shame\", \"sharing\", \"sheeple\", \"shot\", \"show\", \"since\", \"someone\", \"soon\", \"sorry\", \"speed\", \"spreading\", \"st\", \"start\", \"state\", \"stay\", \"step\", \"still\", \"stop\", \"store\", \"sued\", \"support\", \"supreme\", \"sure\", \"system\", \"take\", \"taking\", \"talk\", \"tell\", \"test\", \"tested\", \"thank\", \"thanks\", \"thing\", \"think\", \"though\", \"thousand\", \"time\", \"together\", \"told\", \"took\", \"tourism\", \"travel\", \"trump\", \"trust\", \"try\", \"two\", \"u\", \"uk\", \"understand\", \"unvaccinated\", \"use\", \"vaccinate\", \"vaccine\", \"variant\", \"vaxer\", \"vaxxed\", \"vaxxers\", \"virus\", \"vulnerable\", \"w/\", \"want\", \"warp\", \"way\", \"wear\", \"wearing\", \"week\", \"well\", \"whole\", \"wish\", \"without\", \"wo\", \"word\", \"work\", \"worker\", \"working\", \"world\", \"world\", \"would\", \"x\", \"year\", \"yes\", \"yesterday\", \"yet\", \"young\", \"yr\", \"|\"]}, \"R\": 30, \"lambda.step\": 0.01, \"plot.opts\": {\"xlab\": \"PC1\", \"ylab\": \"PC2\"}, \"topic.order\": [5, 2, 7, 4, 6, 10, 9, 12, 1, 8, 3, 11]};\n\nfunction LDAvis_load_lib(url, callback){\n  var s = document.createElement('script');\n  s.src = url;\n  s.async = true;\n  s.onreadystatechange = s.onload = callback;\n  s.onerror = function(){console.warn(\"failed to load library \" + url);};\n  document.getElementsByTagName(\"head\")[0].appendChild(s);\n}\n\nif(typeof(LDAvis) !== \"undefined\"){\n   // already loaded: just create the visualization\n   !function(LDAvis){\n       new LDAvis(\"#\" + \"ldavis_el953401404635056722724077314435\", ldavis_el953401404635056722724077314435_data);\n   }(LDAvis);\n}else if(typeof define === \"function\" && define.amd){\n   // require.js is available: use it to load d3/LDAvis\n   require.config({paths: {d3: \"https://d3js.org/d3.v5\"}});\n   require([\"d3\"], function(d3){\n      window.d3 = d3;\n      LDAvis_load_lib(\"https://cdn.jsdelivr.net/gh/bmabey/pyLDAvis@3.3.1/pyLDAvis/js/ldavis.v3.0.0.js\", function(){\n        new LDAvis(\"#\" + \"ldavis_el953401404635056722724077314435\", ldavis_el953401404635056722724077314435_data);\n      });\n    });\n}else{\n    // require.js not available: dynamically load d3 & LDAvis\n    LDAvis_load_lib(\"https://d3js.org/d3.v5.js\", function(){\n         LDAvis_load_lib(\"https://cdn.jsdelivr.net/gh/bmabey/pyLDAvis@3.3.1/pyLDAvis/js/ldavis.v3.0.0.js\", function(){\n                 new LDAvis(\"#\" + \"ldavis_el953401404635056722724077314435\", ldavis_el953401404635056722724077314435_data);\n            })\n         });\n}\n</script>"
     },
     "metadata": {},
     "execution_count": 36
    }
   ],
   "source": [
    "# Visualize the topics \n",
    "vis = gensimvis.prepare(lda_model, tdm, id2word)\n",
    "pyLDAvis.display(vis)\n"
   ]
  },
  {
   "cell_type": "code",
   "execution_count": 37,
   "metadata": {},
   "outputs": [
    {
     "output_type": "execute_result",
     "data": {
      "text/plain": [
       "   Document_No  Dominant_Topic  Topic_Perc_Contrib  \\\n",
       "0            0             1.0              0.1927   \n",
       "1            1             4.0              0.3751   \n",
       "2            2             4.0              0.1837   \n",
       "3            3             2.0              0.2722   \n",
       "4            4             0.0              0.1990   \n",
       "5            5             3.0              0.2760   \n",
       "6            6             9.0              0.2920   \n",
       "7            7             4.0              0.2428   \n",
       "8            8             4.0              0.3603   \n",
       "9            9             1.0              0.1997   \n",
       "\n",
       "                                            Keywords  \\\n",
       "0  u, j, %, would, like, vaccine, cdc, make, also...   \n",
       "1  people, get, want, getting, take, know, say, m...   \n",
       "2  people, get, want, getting, take, know, say, m...   \n",
       "3  need, immune, live, doctor, must, infected, he...   \n",
       "4  got, shot, blood, clot, dying, science, told, ...   \n",
       "5  n't, 's, virus, 'm, died, use, american, ca, n...   \n",
       "6  one, citizen, week, passport, harris, proof, g...   \n",
       "7  people, get, want, getting, take, know, say, m...   \n",
       "8  people, get, want, getting, take, know, say, m...   \n",
       "9  u, j, %, would, like, vaccine, cdc, make, also...   \n",
       "\n",
       "                                                Text  \n",
       "0  [n't, approval, typically, take, month, asking...  \n",
       "1  ['re, right, bad, n't, decade, research, dont,...  \n",
       "2                                             [free]  \n",
       "3  [world, need, access, must, step, sharing, bil...  \n",
       "4  [get, remember, getting, mumps, never, got, mu...  \n",
       "5  [self, preservation, duh, understand, virus, p...  \n",
       "6  [yep, 's, nearly, even, close, bad, medium, ma...  \n",
       "7  [maybe, clearing, student, debt, would, great,...  \n",
       "8  [say, anything, wrong, action, said, basically...  \n",
       "9  [lot, people, doubt, lot, people, also, feel, ...  "
      ],
      "text/html": "<div>\n<style scoped>\n    .dataframe tbody tr th:only-of-type {\n        vertical-align: middle;\n    }\n\n    .dataframe tbody tr th {\n        vertical-align: top;\n    }\n\n    .dataframe thead th {\n        text-align: right;\n    }\n</style>\n<table border=\"1\" class=\"dataframe\">\n  <thead>\n    <tr style=\"text-align: right;\">\n      <th></th>\n      <th>Document_No</th>\n      <th>Dominant_Topic</th>\n      <th>Topic_Perc_Contrib</th>\n      <th>Keywords</th>\n      <th>Text</th>\n    </tr>\n  </thead>\n  <tbody>\n    <tr>\n      <th>0</th>\n      <td>0</td>\n      <td>1.0</td>\n      <td>0.1927</td>\n      <td>u, j, %, would, like, vaccine, cdc, make, also...</td>\n      <td>[n't, approval, typically, take, month, asking...</td>\n    </tr>\n    <tr>\n      <th>1</th>\n      <td>1</td>\n      <td>4.0</td>\n      <td>0.3751</td>\n      <td>people, get, want, getting, take, know, say, m...</td>\n      <td>['re, right, bad, n't, decade, research, dont,...</td>\n    </tr>\n    <tr>\n      <th>2</th>\n      <td>2</td>\n      <td>4.0</td>\n      <td>0.1837</td>\n      <td>people, get, want, getting, take, know, say, m...</td>\n      <td>[free]</td>\n    </tr>\n    <tr>\n      <th>3</th>\n      <td>3</td>\n      <td>2.0</td>\n      <td>0.2722</td>\n      <td>need, immune, live, doctor, must, infected, he...</td>\n      <td>[world, need, access, must, step, sharing, bil...</td>\n    </tr>\n    <tr>\n      <th>4</th>\n      <td>4</td>\n      <td>0.0</td>\n      <td>0.1990</td>\n      <td>got, shot, blood, clot, dying, science, told, ...</td>\n      <td>[get, remember, getting, mumps, never, got, mu...</td>\n    </tr>\n    <tr>\n      <th>5</th>\n      <td>5</td>\n      <td>3.0</td>\n      <td>0.2760</td>\n      <td>n't, 's, virus, 'm, died, use, american, ca, n...</td>\n      <td>[self, preservation, duh, understand, virus, p...</td>\n    </tr>\n    <tr>\n      <th>6</th>\n      <td>6</td>\n      <td>9.0</td>\n      <td>0.2920</td>\n      <td>one, citizen, week, passport, harris, proof, g...</td>\n      <td>[yep, 's, nearly, even, close, bad, medium, ma...</td>\n    </tr>\n    <tr>\n      <th>7</th>\n      <td>7</td>\n      <td>4.0</td>\n      <td>0.2428</td>\n      <td>people, get, want, getting, take, know, say, m...</td>\n      <td>[maybe, clearing, student, debt, would, great,...</td>\n    </tr>\n    <tr>\n      <th>8</th>\n      <td>8</td>\n      <td>4.0</td>\n      <td>0.3603</td>\n      <td>people, get, want, getting, take, know, say, m...</td>\n      <td>[say, anything, wrong, action, said, basically...</td>\n    </tr>\n    <tr>\n      <th>9</th>\n      <td>9</td>\n      <td>1.0</td>\n      <td>0.1997</td>\n      <td>u, j, %, would, like, vaccine, cdc, make, also...</td>\n      <td>[lot, people, doubt, lot, people, also, feel, ...</td>\n    </tr>\n  </tbody>\n</table>\n</div>"
     },
     "metadata": {},
     "execution_count": 37
    }
   ],
   "source": [
    "# Find dominant topic for each Tweet\n",
    "# from https://www.machinelearningplus.com/nlp/topic-modeling-gensim-python/\n",
    "def format_topics_sentences(ldamodel=lda_model, corpus=corpus, texts=data):\n",
    "    # Function\n",
    "    \n",
    "    # Init output\n",
    "    sent_topics_df = pd.DataFrame()\n",
    "\n",
    "    # Get main topic in each document\n",
    "    for i, row in enumerate(ldamodel[corpus]):\n",
    "        row = sorted(row, key=lambda x: (x[1]), reverse=True)\n",
    "        # Get the Dominant topic, Perc Contribution and Keywords for each document\n",
    "        for j, (topic_num, prop_topic) in enumerate(row):\n",
    "            if j == 0:  # => dominant topic\n",
    "                wp = ldamodel.show_topic(topic_num)\n",
    "                topic_keywords = \", \".join([word for word, prop in wp])\n",
    "                sent_topics_df = sent_topics_df.append(pd.Series([int(topic_num), round(prop_topic,4), topic_keywords]), ignore_index=True)\n",
    "            else:\n",
    "                break\n",
    "    sent_topics_df.columns = ['Dominant_Topic', 'Perc_Contribution', 'Topic_Keywords']\n",
    "\n",
    "    # Add original text to the end of the output\n",
    "    contents = pd.Series(texts)\n",
    "    sent_topics_df = pd.concat([sent_topics_df, contents], axis=1)\n",
    "    return(sent_topics_df)\n",
    "\n",
    "\n",
    "df_topic_sents_keywords = format_topics_sentences(ldamodel=lda_model, corpus=tdm, texts=data)\n",
    "\n",
    "# Format\n",
    "df_dominant_topic = df_topic_sents_keywords.reset_index()\n",
    "df_dominant_topic.columns = ['Document_No', 'Dominant_Topic', 'Topic_Perc_Contrib', 'Keywords', 'Text']\n",
    "\n",
    "# Show\n",
    "df_dominant_topic.head(10)"
   ]
  },
  {
   "cell_type": "code",
   "execution_count": 38,
   "metadata": {},
   "outputs": [
    {
     "output_type": "execute_result",
     "data": {
      "text/plain": [
       "4.0     11351\n",
       "1.0      6431\n",
       "6.0      1771\n",
       "3.0       824\n",
       "2.0       781\n",
       "5.0       653\n",
       "9.0       226\n",
       "8.0       211\n",
       "0.0       116\n",
       "11.0      109\n",
       "7.0        54\n",
       "10.0        7\n",
       "Name: Dominant_Topic, dtype: int64"
      ]
     },
     "metadata": {},
     "execution_count": 38
    }
   ],
   "source": [
    "# Check the topic counts\n",
    "topic_counts = df_topic_sents_keywords['Dominant_Topic'].value_counts()\n",
    "topic_counts"
   ]
  },
  {
   "cell_type": "code",
   "execution_count": 45,
   "metadata": {},
   "outputs": [],
   "source": [
    "# Give label to each topic\n",
    "one = \"People get (vaccinated)\"\n",
    "two = \"Death/Child\"\n",
    "three = \"Mask\"\n",
    "four = \"Death/Infection\"\n",
    "five = \"Risk/Country/mRNA\"\n",
    "six = \"Passport/Citizien\"\n",
    "seven = \"Biden/Trump\"\n",
    "eight = \"Fight/Plan\"\n",
    "nine = \"Blood cloth/Research\"\n",
    "ten = \"Experiment\"\n",
    "eleven = \"Herd immunity/Republicans/Sharing\"\n",
    "twelve = \"Administration/Effectivness\"\n",
    "\n"
   ]
  },
  {
   "cell_type": "code",
   "execution_count": 46,
   "metadata": {},
   "outputs": [],
   "source": [
    "# Build list of topic label according to the dominant topics\n",
    "# Topic numbers start at 0\n",
    "topics = []\n",
    "for topic_num in df_dominant_topic[\"Dominant_Topic\"]:\n",
    "    if topic_num == 0:\n",
    "        topics.append(one)\n",
    "    elif topic_num == 1:\n",
    "        topics.append(two)\n",
    "    elif topic_num == 2:\n",
    "        topics.append(three)\n",
    "    elif topic_num == 3:\n",
    "        topics.append(four)\n",
    "    elif topic_num == 4:\n",
    "        topics.append(five)\n",
    "    elif topic_num == 5:\n",
    "        topics.append(six)\n",
    "    elif topic_num == 6:\n",
    "        topics.append(seven)\n",
    "    elif topic_num == 7:\n",
    "        topics.append(eight)\n",
    "    elif topic_num == 8:\n",
    "        topics.append(nine)\n",
    "    elif topic_num == 9:\n",
    "        topics.append(ten)\n",
    "    elif topic_num == 10:\n",
    "        topics.append(eleven)\n",
    "    elif topic_num == 11:\n",
    "        topics.append(twelve)\n",
    "    else:\n",
    "        raise Exception(\"Num not found \", topic_num)"
   ]
  },
  {
   "cell_type": "code",
   "execution_count": 47,
   "metadata": {},
   "outputs": [],
   "source": [
    "ds[\"Topic\"]= topics"
   ]
  },
  {
   "cell_type": "code",
   "execution_count": 48,
   "metadata": {},
   "outputs": [
    {
     "output_type": "execute_result",
     "data": {
      "text/plain": [
       "                                                    text user screen name  \\\n",
       "0      Doesn't vaccine approval typically take 6 and ...       spadesgeek   \n",
       "1      You're right, too bad this vaccine doesn't hav...         selirodz   \n",
       "2                                 The vaccine is free…❤️  FlowerGirlBaker   \n",
       "3      .      the world needs  vaccine access now. Th...    DevizesGreens   \n",
       "4      But you can get it.\\nI remember getting my Mum...    canfixstoopid   \n",
       "...                                                  ...              ...   \n",
       "22529  The country need to check on people who take o...         LSungoun   \n",
       "22530  Why can you not go maskless with out vaccine? ...         bcgov115   \n",
       "22531  You say the immunocomprimised \"should discuss ...       dmdmdtweet   \n",
       "22532  Well, Kate, not everyone is vaccinated and the...  TuffCrusherPlus   \n",
       "22533  I disagree. Look at the NYC and Charlottesvill...      rehtaeh1628   \n",
       "\n",
       "       user followers                                  url  \\\n",
       "0                  19           https://mobile.twitter.com   \n",
       "1                  78  http://twitter.com/download/android   \n",
       "2                1486  http://twitter.com/#!/download/ipad   \n",
       "3                 150           https://mobile.twitter.com   \n",
       "4                 355           https://mobile.twitter.com   \n",
       "...               ...                                  ...   \n",
       "22529              90  http://twitter.com/download/android   \n",
       "22530              38   http://twitter.com/download/iphone   \n",
       "22531               1  http://twitter.com/download/android   \n",
       "22532              83   http://twitter.com/download/iphone   \n",
       "22533             728   http://twitter.com/download/iphone   \n",
       "\n",
       "                      created at  replies  retweets  likes  \\\n",
       "0     2021-06-10 19:24:26.999999        0         0      0   \n",
       "1     2021-06-10 19:24:26.000000        0         0      0   \n",
       "2     2021-06-10 19:23:57.000000        0         0      0   \n",
       "3     2021-06-10 19:23:49.000000        0         0      0   \n",
       "4     2021-06-10 19:23:42.000000        0         0      0   \n",
       "...                          ...      ...       ...    ...   \n",
       "22529 2021-05-16 04:11:06.000000        0         0      0   \n",
       "22530 2021-05-16 04:11:01.000000        0         0      0   \n",
       "22531 2021-05-16 04:08:22.999999        0         0      1   \n",
       "22532 2021-05-16 04:08:03.000000        0         0      0   \n",
       "22533 2021-05-16 04:03:26.000000        0         0      1   \n",
       "\n",
       "                                                 mention  \\\n",
       "0      MatthewDavidH,EricTopol,TheEconomist,US_FDA,la...   \n",
       "1                                      DharkArk,JoeBiden   \n",
       "2                    theredshift11,POTUS,studentsfordemo   \n",
       "3      BorisJohnson,JustinTrudeau,POTUS,EUCouncil,Reg...   \n",
       "4      SerendipityOr,Shockwave_Shaun,Ozymandiyaas,Joe...   \n",
       "...                                                  ...   \n",
       "22529                  POTUS,HillaryClinton,Jaemyung_Lee   \n",
       "22530                                              POTUS   \n",
       "22531                                             CDCgov   \n",
       "22532                     50treeK8,OregonGovBrown,CDCgov   \n",
       "22533  RadioFreeTom,Ned_Newhouse,jeffjarvis,ashishkjh...   \n",
       "\n",
       "                               hashtag                    Topic  \n",
       "0                                  NaN              Death/Child  \n",
       "1                                  NaN        Risk/Country/mRNA  \n",
       "2                                  NaN        Risk/Country/mRNA  \n",
       "3      COVID19,G7,EndThePandemic,COVAX                     Mask  \n",
       "4                                  NaN  People get (vaccinated)  \n",
       "...                                ...                      ...  \n",
       "22529                              NaN        Risk/Country/mRNA  \n",
       "22530                              NaN              Biden/Trump  \n",
       "22531                              NaN        Risk/Country/mRNA  \n",
       "22532                              NaN              Death/Child  \n",
       "22533                              NaN        Risk/Country/mRNA  \n",
       "\n",
       "[22534 rows x 11 columns]"
      ],
      "text/html": "<div>\n<style scoped>\n    .dataframe tbody tr th:only-of-type {\n        vertical-align: middle;\n    }\n\n    .dataframe tbody tr th {\n        vertical-align: top;\n    }\n\n    .dataframe thead th {\n        text-align: right;\n    }\n</style>\n<table border=\"1\" class=\"dataframe\">\n  <thead>\n    <tr style=\"text-align: right;\">\n      <th></th>\n      <th>text</th>\n      <th>user screen name</th>\n      <th>user followers</th>\n      <th>url</th>\n      <th>created at</th>\n      <th>replies</th>\n      <th>retweets</th>\n      <th>likes</th>\n      <th>mention</th>\n      <th>hashtag</th>\n      <th>Topic</th>\n    </tr>\n  </thead>\n  <tbody>\n    <tr>\n      <th>0</th>\n      <td>Doesn't vaccine approval typically take 6 and ...</td>\n      <td>spadesgeek</td>\n      <td>19</td>\n      <td>https://mobile.twitter.com</td>\n      <td>2021-06-10 19:24:26.999999</td>\n      <td>0</td>\n      <td>0</td>\n      <td>0</td>\n      <td>MatthewDavidH,EricTopol,TheEconomist,US_FDA,la...</td>\n      <td>NaN</td>\n      <td>Death/Child</td>\n    </tr>\n    <tr>\n      <th>1</th>\n      <td>You're right, too bad this vaccine doesn't hav...</td>\n      <td>selirodz</td>\n      <td>78</td>\n      <td>http://twitter.com/download/android</td>\n      <td>2021-06-10 19:24:26.000000</td>\n      <td>0</td>\n      <td>0</td>\n      <td>0</td>\n      <td>DharkArk,JoeBiden</td>\n      <td>NaN</td>\n      <td>Risk/Country/mRNA</td>\n    </tr>\n    <tr>\n      <th>2</th>\n      <td>The vaccine is free…❤️</td>\n      <td>FlowerGirlBaker</td>\n      <td>1486</td>\n      <td>http://twitter.com/#!/download/ipad</td>\n      <td>2021-06-10 19:23:57.000000</td>\n      <td>0</td>\n      <td>0</td>\n      <td>0</td>\n      <td>theredshift11,POTUS,studentsfordemo</td>\n      <td>NaN</td>\n      <td>Risk/Country/mRNA</td>\n    </tr>\n    <tr>\n      <th>3</th>\n      <td>.      the world needs  vaccine access now. Th...</td>\n      <td>DevizesGreens</td>\n      <td>150</td>\n      <td>https://mobile.twitter.com</td>\n      <td>2021-06-10 19:23:49.000000</td>\n      <td>0</td>\n      <td>0</td>\n      <td>0</td>\n      <td>BorisJohnson,JustinTrudeau,POTUS,EUCouncil,Reg...</td>\n      <td>COVID19,G7,EndThePandemic,COVAX</td>\n      <td>Mask</td>\n    </tr>\n    <tr>\n      <th>4</th>\n      <td>But you can get it.\\nI remember getting my Mum...</td>\n      <td>canfixstoopid</td>\n      <td>355</td>\n      <td>https://mobile.twitter.com</td>\n      <td>2021-06-10 19:23:42.000000</td>\n      <td>0</td>\n      <td>0</td>\n      <td>0</td>\n      <td>SerendipityOr,Shockwave_Shaun,Ozymandiyaas,Joe...</td>\n      <td>NaN</td>\n      <td>People get (vaccinated)</td>\n    </tr>\n    <tr>\n      <th>...</th>\n      <td>...</td>\n      <td>...</td>\n      <td>...</td>\n      <td>...</td>\n      <td>...</td>\n      <td>...</td>\n      <td>...</td>\n      <td>...</td>\n      <td>...</td>\n      <td>...</td>\n      <td>...</td>\n    </tr>\n    <tr>\n      <th>22529</th>\n      <td>The country need to check on people who take o...</td>\n      <td>LSungoun</td>\n      <td>90</td>\n      <td>http://twitter.com/download/android</td>\n      <td>2021-05-16 04:11:06.000000</td>\n      <td>0</td>\n      <td>0</td>\n      <td>0</td>\n      <td>POTUS,HillaryClinton,Jaemyung_Lee</td>\n      <td>NaN</td>\n      <td>Risk/Country/mRNA</td>\n    </tr>\n    <tr>\n      <th>22530</th>\n      <td>Why can you not go maskless with out vaccine? ...</td>\n      <td>bcgov115</td>\n      <td>38</td>\n      <td>http://twitter.com/download/iphone</td>\n      <td>2021-05-16 04:11:01.000000</td>\n      <td>0</td>\n      <td>0</td>\n      <td>0</td>\n      <td>POTUS</td>\n      <td>NaN</td>\n      <td>Biden/Trump</td>\n    </tr>\n    <tr>\n      <th>22531</th>\n      <td>You say the immunocomprimised \"should discuss ...</td>\n      <td>dmdmdtweet</td>\n      <td>1</td>\n      <td>http://twitter.com/download/android</td>\n      <td>2021-05-16 04:08:22.999999</td>\n      <td>0</td>\n      <td>0</td>\n      <td>1</td>\n      <td>CDCgov</td>\n      <td>NaN</td>\n      <td>Risk/Country/mRNA</td>\n    </tr>\n    <tr>\n      <th>22532</th>\n      <td>Well, Kate, not everyone is vaccinated and the...</td>\n      <td>TuffCrusherPlus</td>\n      <td>83</td>\n      <td>http://twitter.com/download/iphone</td>\n      <td>2021-05-16 04:08:03.000000</td>\n      <td>0</td>\n      <td>0</td>\n      <td>0</td>\n      <td>50treeK8,OregonGovBrown,CDCgov</td>\n      <td>NaN</td>\n      <td>Death/Child</td>\n    </tr>\n    <tr>\n      <th>22533</th>\n      <td>I disagree. Look at the NYC and Charlottesvill...</td>\n      <td>rehtaeh1628</td>\n      <td>728</td>\n      <td>http://twitter.com/download/iphone</td>\n      <td>2021-05-16 04:03:26.000000</td>\n      <td>0</td>\n      <td>0</td>\n      <td>1</td>\n      <td>RadioFreeTom,Ned_Newhouse,jeffjarvis,ashishkjh...</td>\n      <td>NaN</td>\n      <td>Risk/Country/mRNA</td>\n    </tr>\n  </tbody>\n</table>\n<p>22534 rows × 11 columns</p>\n</div>"
     },
     "metadata": {},
     "execution_count": 48
    }
   ],
   "source": [
    "ds"
   ]
  },
  {
   "cell_type": "code",
   "execution_count": 49,
   "metadata": {},
   "outputs": [],
   "source": [
    "ds.to_excel(base_path + \"Tweets_Topics.xlsx\", index=False)"
   ]
  }
 ],
 "metadata": {
  "kernelspec": {
   "name": "python3",
   "display_name": "Python 3.7.4 64-bit ('base': conda)"
  },
  "language_info": {
   "codemirror_mode": {
    "name": "ipython",
    "version": 3
   },
   "file_extension": ".py",
   "mimetype": "text/x-python",
   "name": "python",
   "nbconvert_exporter": "python",
   "pygments_lexer": "ipython3",
   "version": "3.7.4"
  },
  "interpreter": {
   "hash": "cbc9b7885ccecc363ff0025696a0c3f7da593d3e68eaace78b68fd615729d33b"
  }
 },
 "nbformat": 4,
 "nbformat_minor": 2
}